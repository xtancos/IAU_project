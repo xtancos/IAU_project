{
 "cells": [
  {
   "cell_type": "code",
   "execution_count": 41,
   "id": "initial_id",
   "metadata": {
    "ExecuteTime": {
     "end_time": "2024-11-03T14:41:08.128251Z",
     "start_time": "2024-11-03T14:41:08.108938Z"
    }
   },
   "outputs": [],
   "source": [
    "# -*- coding: utf-8 -*-\n",
    "#\n",
    "# Licensed under the Apache License, Version 2.0 (the \"License\");\n",
    "# you may not use this file except in compliance with the License.\n",
    "# You may obtain a copy of the License at\n",
    "#\n",
    "# http://www.apache.org/licenses/LICENSE-2.0\n",
    "#\n",
    "# Unless required by applicable law or agreed to in writing, software\n",
    "# distributed under the License is distributed on an \"AS IS\" BASIS,\n",
    "# WITHOUT WARRANTIES OR CONDITIONS OF ANY KIND, either express or\n",
    "# implied.\n",
    "# See the License for the specific language governing permissions and\n",
    "# limitations under the License."
   ]
  },
  {
   "cell_type": "code",
   "execution_count": 42,
   "id": "1c4107b5a0b33d80",
   "metadata": {
    "ExecuteTime": {
     "end_time": "2024-11-03T14:41:08.270020Z",
     "start_time": "2024-11-03T14:41:08.257182Z"
    }
   },
   "outputs": [],
   "source": [
    "import matplotlib.pyplot as plt\n",
    "import seaborn as sns\n",
    "import pandas as pd\n",
    "import numpy as np\n",
    "import scipy.stats as stats\n",
    "\n",
    "from sklearn.model_selection import train_test_split\n",
    "from sklearn.preprocessing import StandardScaler\n",
    "\n",
    "from sklearn.svm import SVR\n",
    "from sklearn.feature_selection import RFE\n",
    "\n",
    "from sklearn.feature_selection import mutual_info_regression\n"
   ]
  },
  {
   "cell_type": "markdown",
   "id": "45bbb053c9bae402",
   "metadata": {},
   "source": [
    "# Fáza 2 - Predspracovanie údajov"
   ]
  },
  {
   "cell_type": "markdown",
   "id": "e18c52bf792ee494",
   "metadata": {},
   "source": [
    "## 2.1 Realizácia predspracovania dát"
   ]
  },
  {
   "cell_type": "markdown",
   "id": "75518738dde7a9b4",
   "metadata": {},
   "source": [
    "### A - Rozdelenia dát na trénovaciu a testovaciu množinu"
   ]
  },
  {
   "cell_type": "markdown",
   "id": "27f1812852d8a3fa",
   "metadata": {},
   "source": [
    "#### zlúčime potrebné dáta do jedného datasetu "
   ]
  },
  {
   "cell_type": "code",
   "execution_count": 43,
   "id": "3e107fbb9e838c7d",
   "metadata": {
    "ExecuteTime": {
     "end_time": "2024-11-03T14:41:08.363020Z",
     "start_time": "2024-11-03T14:41:08.303018Z"
    }
   },
   "outputs": [],
   "source": [
    "# loading datasets\n",
    "df_processes    = pd.read_csv(\"processes.csv\", sep='\\t')\n",
    "df_connections  = pd.read_csv(\"connections.csv\", sep='\\t')"
   ]
  },
  {
   "cell_type": "markdown",
   "id": "9cf8d0b876e60254",
   "metadata": {},
   "source": [
    "#### vyberieme si dáta, ktoré sme identifikovali v EDA"
   ]
  },
  {
   "cell_type": "code",
   "execution_count": 44,
   "id": "22eebc52440595f4",
   "metadata": {
    "ExecuteTime": {
     "end_time": "2024-11-03T14:41:08.379004Z",
     "start_time": "2024-11-03T14:41:08.364956Z"
    }
   },
   "outputs": [],
   "source": [
    "df_processes    = df_processes[[\"imei\", \"ts\", \"mwra\", \"p.android.gm\", \"p.android.documentsui\", \"p.system\", \"p.android.externalstorage\", \"p.android.settings\", \"p.android.chrome\"]]\n",
    "df_connections  = df_connections[[\"imei\", \"ts\", \"mwra\", \"c.katana\", \"c.dogalize\", \"c.android.chrome\", \"c.android.gm\"]]"
   ]
  },
  {
   "cell_type": "markdown",
   "id": "1462d1d95f6cca57",
   "metadata": {},
   "source": [
    "#### spojíme ich pomocou \"ts\" a \"imei\""
   ]
  },
  {
   "cell_type": "code",
   "execution_count": 45,
   "id": "98dc0f41b43eeabd",
   "metadata": {
    "ExecuteTime": {
     "end_time": "2024-11-03T14:41:08.394988Z",
     "start_time": "2024-11-03T14:41:08.379978Z"
    }
   },
   "outputs": [],
   "source": [
    "df = df_connections.merge(df_processes, on=['imei', 'ts'], how='outer')"
   ]
  },
  {
   "cell_type": "markdown",
   "id": "798b53c00b1d578d",
   "metadata": {},
   "source": [
    "#### Rozdelíme dáta v pomere 80:20 (trénovacia/testovacia množina). Tento pomer vychádza z predpokladu, že pri dostatočne veľkom množstve dát, máme pri rozdelení dostatok dát na trénovanie a efektívne učenie modelu, zatiaľ čo testovacia množina bude dostatočne veľká pre overenie modelu. Tento pomer je bežný a vhodný pre väčšinu úloh strojového učenia."
   ]
  },
  {
   "cell_type": "code",
   "execution_count": 46,
   "id": "5104e4369522cbf2",
   "metadata": {
    "ExecuteTime": {
     "end_time": "2024-11-03T14:41:08.426014Z",
     "start_time": "2024-11-03T14:41:08.396002Z"
    }
   },
   "outputs": [
    {
     "data": {
      "text/html": [
       "<div>\n",
       "<style scoped>\n",
       "    .dataframe tbody tr th:only-of-type {\n",
       "        vertical-align: middle;\n",
       "    }\n",
       "\n",
       "    .dataframe tbody tr th {\n",
       "        vertical-align: top;\n",
       "    }\n",
       "\n",
       "    .dataframe thead th {\n",
       "        text-align: right;\n",
       "    }\n",
       "</style>\n",
       "<table border=\"1\" class=\"dataframe\">\n",
       "  <thead>\n",
       "    <tr style=\"text-align: right;\">\n",
       "      <th></th>\n",
       "      <th>imei</th>\n",
       "      <th>ts</th>\n",
       "      <th>mwra_x</th>\n",
       "      <th>c.katana</th>\n",
       "      <th>c.dogalize</th>\n",
       "      <th>c.android.chrome</th>\n",
       "      <th>c.android.gm</th>\n",
       "      <th>mwra_y</th>\n",
       "      <th>p.android.gm</th>\n",
       "      <th>p.android.documentsui</th>\n",
       "      <th>p.system</th>\n",
       "      <th>p.android.externalstorage</th>\n",
       "      <th>p.android.settings</th>\n",
       "      <th>p.android.chrome</th>\n",
       "    </tr>\n",
       "  </thead>\n",
       "  <tbody>\n",
       "    <tr>\n",
       "      <th>4229</th>\n",
       "      <td>863033069630348354</td>\n",
       "      <td>2018-05-07 06:23:00</td>\n",
       "      <td>1.0</td>\n",
       "      <td>8.78526</td>\n",
       "      <td>12.97475</td>\n",
       "      <td>11.62351</td>\n",
       "      <td>14.41864</td>\n",
       "      <td>1.0</td>\n",
       "      <td>9.23972</td>\n",
       "      <td>10.43492</td>\n",
       "      <td>13.82551</td>\n",
       "      <td>9.86109</td>\n",
       "      <td>8.95921</td>\n",
       "      <td>11.39909</td>\n",
       "    </tr>\n",
       "    <tr>\n",
       "      <th>12572</th>\n",
       "      <td>8630330696303481545</td>\n",
       "      <td>2018-05-11 14:57:00</td>\n",
       "      <td>1.0</td>\n",
       "      <td>11.81607</td>\n",
       "      <td>14.66263</td>\n",
       "      <td>10.73155</td>\n",
       "      <td>14.21554</td>\n",
       "      <td>1.0</td>\n",
       "      <td>10.37842</td>\n",
       "      <td>10.42450</td>\n",
       "      <td>14.23429</td>\n",
       "      <td>14.15057</td>\n",
       "      <td>9.07541</td>\n",
       "      <td>11.87810</td>\n",
       "    </tr>\n",
       "    <tr>\n",
       "      <th>12930</th>\n",
       "      <td>8630330696303481669</td>\n",
       "      <td>2018-05-06 20:06:00</td>\n",
       "      <td>0.0</td>\n",
       "      <td>12.49268</td>\n",
       "      <td>13.38094</td>\n",
       "      <td>10.93373</td>\n",
       "      <td>14.18849</td>\n",
       "      <td>0.0</td>\n",
       "      <td>11.95766</td>\n",
       "      <td>6.47040</td>\n",
       "      <td>12.71239</td>\n",
       "      <td>9.86456</td>\n",
       "      <td>7.39561</td>\n",
       "      <td>10.22850</td>\n",
       "    </tr>\n",
       "    <tr>\n",
       "      <th>14497</th>\n",
       "      <td>8630330696303482196</td>\n",
       "      <td>2018-05-10 16:15:00</td>\n",
       "      <td>1.0</td>\n",
       "      <td>12.27976</td>\n",
       "      <td>13.40483</td>\n",
       "      <td>9.23485</td>\n",
       "      <td>15.58463</td>\n",
       "      <td>1.0</td>\n",
       "      <td>8.52524</td>\n",
       "      <td>13.52572</td>\n",
       "      <td>13.66325</td>\n",
       "      <td>10.38706</td>\n",
       "      <td>9.61267</td>\n",
       "      <td>9.97641</td>\n",
       "    </tr>\n",
       "    <tr>\n",
       "      <th>1347</th>\n",
       "      <td>359043379931766437</td>\n",
       "      <td>2018-05-14 23:22:00</td>\n",
       "      <td>0.0</td>\n",
       "      <td>13.17060</td>\n",
       "      <td>14.34610</td>\n",
       "      <td>9.63767</td>\n",
       "      <td>6.44279</td>\n",
       "      <td>0.0</td>\n",
       "      <td>12.37160</td>\n",
       "      <td>12.12072</td>\n",
       "      <td>13.74927</td>\n",
       "      <td>11.34104</td>\n",
       "      <td>9.44807</td>\n",
       "      <td>5.71597</td>\n",
       "    </tr>\n",
       "  </tbody>\n",
       "</table>\n",
       "</div>"
      ],
      "text/plain": [
       "                      imei                   ts  mwra_x  c.katana  c.dogalize  \\\n",
       "4229    863033069630348354  2018-05-07 06:23:00     1.0   8.78526    12.97475   \n",
       "12572  8630330696303481545  2018-05-11 14:57:00     1.0  11.81607    14.66263   \n",
       "12930  8630330696303481669  2018-05-06 20:06:00     0.0  12.49268    13.38094   \n",
       "14497  8630330696303482196  2018-05-10 16:15:00     1.0  12.27976    13.40483   \n",
       "1347    359043379931766437  2018-05-14 23:22:00     0.0  13.17060    14.34610   \n",
       "\n",
       "       c.android.chrome  c.android.gm  mwra_y  p.android.gm  \\\n",
       "4229           11.62351      14.41864     1.0       9.23972   \n",
       "12572          10.73155      14.21554     1.0      10.37842   \n",
       "12930          10.93373      14.18849     0.0      11.95766   \n",
       "14497           9.23485      15.58463     1.0       8.52524   \n",
       "1347            9.63767       6.44279     0.0      12.37160   \n",
       "\n",
       "       p.android.documentsui  p.system  p.android.externalstorage  \\\n",
       "4229                10.43492  13.82551                    9.86109   \n",
       "12572               10.42450  14.23429                   14.15057   \n",
       "12930                6.47040  12.71239                    9.86456   \n",
       "14497               13.52572  13.66325                   10.38706   \n",
       "1347                12.12072  13.74927                   11.34104   \n",
       "\n",
       "       p.android.settings  p.android.chrome  \n",
       "4229              8.95921          11.39909  \n",
       "12572             9.07541          11.87810  \n",
       "12930             7.39561          10.22850  \n",
       "14497             9.61267           9.97641  \n",
       "1347              9.44807           5.71597  "
      ]
     },
     "execution_count": 46,
     "metadata": {},
     "output_type": "execute_result"
    }
   ],
   "source": [
    "TRAIN = 0.8\n",
    "\n",
    "train_df, test_df = train_test_split(df, train_size=TRAIN, random_state=42)\n",
    "\n",
    "train_df.head()"
   ]
  },
  {
   "cell_type": "markdown",
   "id": "b313c1748c99b23c",
   "metadata": {},
   "source": [
    "#### ďalej pracujeme s trénovacím datasetom"
   ]
  },
  {
   "cell_type": "markdown",
   "id": "dd0ea680b9461d49",
   "metadata": {},
   "source": [
    "### B - Transformujeme dáta na vhodný formát pre ML"
   ]
  },
  {
   "cell_type": "code",
   "execution_count": 47,
   "id": "8a786088b8fd5517",
   "metadata": {
    "ExecuteTime": {
     "end_time": "2024-11-03T14:41:08.456021Z",
     "start_time": "2024-11-03T14:41:08.426957Z"
    }
   },
   "outputs": [
    {
     "name": "stdout",
     "output_type": "stream",
     "text": [
      "Shape: 12331 rows, 14 columns\n",
      "Duplicates: 378\n"
     ]
    },
    {
     "data": {
      "text/html": [
       "<div>\n",
       "<style scoped>\n",
       "    .dataframe tbody tr th:only-of-type {\n",
       "        vertical-align: middle;\n",
       "    }\n",
       "\n",
       "    .dataframe tbody tr th {\n",
       "        vertical-align: top;\n",
       "    }\n",
       "\n",
       "    .dataframe thead th {\n",
       "        text-align: right;\n",
       "    }\n",
       "</style>\n",
       "<table border=\"1\" class=\"dataframe\">\n",
       "  <thead>\n",
       "    <tr style=\"text-align: right;\">\n",
       "      <th></th>\n",
       "      <th>Missing Values</th>\n",
       "      <th>Data Type</th>\n",
       "    </tr>\n",
       "  </thead>\n",
       "  <tbody>\n",
       "    <tr>\n",
       "      <th>imei</th>\n",
       "      <td>0</td>\n",
       "      <td>int64</td>\n",
       "    </tr>\n",
       "    <tr>\n",
       "      <th>ts</th>\n",
       "      <td>0</td>\n",
       "      <td>object</td>\n",
       "    </tr>\n",
       "    <tr>\n",
       "      <th>mwra_x</th>\n",
       "      <td>0</td>\n",
       "      <td>float64</td>\n",
       "    </tr>\n",
       "    <tr>\n",
       "      <th>c.katana</th>\n",
       "      <td>0</td>\n",
       "      <td>float64</td>\n",
       "    </tr>\n",
       "    <tr>\n",
       "      <th>c.dogalize</th>\n",
       "      <td>0</td>\n",
       "      <td>float64</td>\n",
       "    </tr>\n",
       "    <tr>\n",
       "      <th>c.android.chrome</th>\n",
       "      <td>0</td>\n",
       "      <td>float64</td>\n",
       "    </tr>\n",
       "    <tr>\n",
       "      <th>c.android.gm</th>\n",
       "      <td>0</td>\n",
       "      <td>float64</td>\n",
       "    </tr>\n",
       "    <tr>\n",
       "      <th>mwra_y</th>\n",
       "      <td>0</td>\n",
       "      <td>float64</td>\n",
       "    </tr>\n",
       "    <tr>\n",
       "      <th>p.android.gm</th>\n",
       "      <td>0</td>\n",
       "      <td>float64</td>\n",
       "    </tr>\n",
       "    <tr>\n",
       "      <th>p.android.documentsui</th>\n",
       "      <td>0</td>\n",
       "      <td>float64</td>\n",
       "    </tr>\n",
       "    <tr>\n",
       "      <th>p.system</th>\n",
       "      <td>0</td>\n",
       "      <td>float64</td>\n",
       "    </tr>\n",
       "    <tr>\n",
       "      <th>p.android.externalstorage</th>\n",
       "      <td>0</td>\n",
       "      <td>float64</td>\n",
       "    </tr>\n",
       "    <tr>\n",
       "      <th>p.android.settings</th>\n",
       "      <td>0</td>\n",
       "      <td>float64</td>\n",
       "    </tr>\n",
       "    <tr>\n",
       "      <th>p.android.chrome</th>\n",
       "      <td>0</td>\n",
       "      <td>float64</td>\n",
       "    </tr>\n",
       "  </tbody>\n",
       "</table>\n",
       "</div>"
      ],
      "text/plain": [
       "                           Missing Values Data Type\n",
       "imei                                    0     int64\n",
       "ts                                      0    object\n",
       "mwra_x                                  0   float64\n",
       "c.katana                                0   float64\n",
       "c.dogalize                              0   float64\n",
       "c.android.chrome                        0   float64\n",
       "c.android.gm                            0   float64\n",
       "mwra_y                                  0   float64\n",
       "p.android.gm                            0   float64\n",
       "p.android.documentsui                   0   float64\n",
       "p.system                                0   float64\n",
       "p.android.externalstorage               0   float64\n",
       "p.android.settings                      0   float64\n",
       "p.android.chrome                        0   float64"
      ]
     },
     "metadata": {},
     "output_type": "display_data"
    }
   ],
   "source": [
    "# better info()\n",
    "def analyze_dataframe(the_df):\n",
    "    table = pd.DataFrame({\n",
    "        'Missing Values': the_df.isnull().sum(),\n",
    "        'Data Type': the_df.dtypes\n",
    "    })\n",
    "\n",
    "    rows, columns = the_df.shape\n",
    "    duplicates = the_df.duplicated().sum()\n",
    "\n",
    "    print(f\"Shape: {rows} rows, {columns} columns\")\n",
    "    print(f\"Duplicates: {duplicates}\")\n",
    "\n",
    "    display(table)\n",
    "    \n",
    "analyze_dataframe(train_df)"
   ]
  },
  {
   "cell_type": "code",
   "execution_count": 48,
   "id": "685a335b2c5b7366",
   "metadata": {
    "ExecuteTime": {
     "end_time": "2024-11-03T14:41:08.471022Z",
     "start_time": "2024-11-03T14:41:08.456991Z"
    }
   },
   "outputs": [
    {
     "name": "stdout",
     "output_type": "stream",
     "text": [
      "Matched: 12331, Not matched: 0\n"
     ]
    }
   ],
   "source": [
    "matches = (train_df['mwra_x'] == train_df['mwra_y']).sum()\n",
    "not_matches = len(train_df) - matches\n",
    "\n",
    "print(f\"Matched: {matches}, Not matched: {not_matches}\")"
   ]
  },
  {
   "cell_type": "markdown",
   "id": "73cf9b7fc4c67895",
   "metadata": {},
   "source": [
    "#### môžeme vymazať dáta, pomocou ktorých sme spájali datasety do jedného, t.j. nepotrebné stĺpce: ts, mrwa_y + premenujeme mwra_x na mwra"
   ]
  },
  {
   "cell_type": "code",
   "execution_count": 49,
   "id": "517e0120f5e35379",
   "metadata": {
    "ExecuteTime": {
     "end_time": "2024-11-03T14:41:08.517011Z",
     "start_time": "2024-11-03T14:41:08.499031Z"
    }
   },
   "outputs": [
    {
     "data": {
      "text/html": [
       "<div>\n",
       "<style scoped>\n",
       "    .dataframe tbody tr th:only-of-type {\n",
       "        vertical-align: middle;\n",
       "    }\n",
       "\n",
       "    .dataframe tbody tr th {\n",
       "        vertical-align: top;\n",
       "    }\n",
       "\n",
       "    .dataframe thead th {\n",
       "        text-align: right;\n",
       "    }\n",
       "</style>\n",
       "<table border=\"1\" class=\"dataframe\">\n",
       "  <thead>\n",
       "    <tr style=\"text-align: right;\">\n",
       "      <th></th>\n",
       "      <th>imei</th>\n",
       "      <th>mwra</th>\n",
       "      <th>c.katana</th>\n",
       "      <th>c.dogalize</th>\n",
       "      <th>c.android.chrome</th>\n",
       "      <th>c.android.gm</th>\n",
       "      <th>p.android.gm</th>\n",
       "      <th>p.android.documentsui</th>\n",
       "      <th>p.system</th>\n",
       "      <th>p.android.externalstorage</th>\n",
       "      <th>p.android.settings</th>\n",
       "      <th>p.android.chrome</th>\n",
       "    </tr>\n",
       "  </thead>\n",
       "  <tbody>\n",
       "    <tr>\n",
       "      <th>4229</th>\n",
       "      <td>863033069630348354</td>\n",
       "      <td>1.0</td>\n",
       "      <td>8.78526</td>\n",
       "      <td>12.97475</td>\n",
       "      <td>11.62351</td>\n",
       "      <td>14.41864</td>\n",
       "      <td>9.23972</td>\n",
       "      <td>10.43492</td>\n",
       "      <td>13.82551</td>\n",
       "      <td>9.86109</td>\n",
       "      <td>8.95921</td>\n",
       "      <td>11.39909</td>\n",
       "    </tr>\n",
       "    <tr>\n",
       "      <th>12572</th>\n",
       "      <td>8630330696303481545</td>\n",
       "      <td>1.0</td>\n",
       "      <td>11.81607</td>\n",
       "      <td>14.66263</td>\n",
       "      <td>10.73155</td>\n",
       "      <td>14.21554</td>\n",
       "      <td>10.37842</td>\n",
       "      <td>10.42450</td>\n",
       "      <td>14.23429</td>\n",
       "      <td>14.15057</td>\n",
       "      <td>9.07541</td>\n",
       "      <td>11.87810</td>\n",
       "    </tr>\n",
       "    <tr>\n",
       "      <th>12930</th>\n",
       "      <td>8630330696303481669</td>\n",
       "      <td>0.0</td>\n",
       "      <td>12.49268</td>\n",
       "      <td>13.38094</td>\n",
       "      <td>10.93373</td>\n",
       "      <td>14.18849</td>\n",
       "      <td>11.95766</td>\n",
       "      <td>6.47040</td>\n",
       "      <td>12.71239</td>\n",
       "      <td>9.86456</td>\n",
       "      <td>7.39561</td>\n",
       "      <td>10.22850</td>\n",
       "    </tr>\n",
       "    <tr>\n",
       "      <th>14497</th>\n",
       "      <td>8630330696303482196</td>\n",
       "      <td>1.0</td>\n",
       "      <td>12.27976</td>\n",
       "      <td>13.40483</td>\n",
       "      <td>9.23485</td>\n",
       "      <td>15.58463</td>\n",
       "      <td>8.52524</td>\n",
       "      <td>13.52572</td>\n",
       "      <td>13.66325</td>\n",
       "      <td>10.38706</td>\n",
       "      <td>9.61267</td>\n",
       "      <td>9.97641</td>\n",
       "    </tr>\n",
       "    <tr>\n",
       "      <th>1347</th>\n",
       "      <td>359043379931766437</td>\n",
       "      <td>0.0</td>\n",
       "      <td>13.17060</td>\n",
       "      <td>14.34610</td>\n",
       "      <td>9.63767</td>\n",
       "      <td>6.44279</td>\n",
       "      <td>12.37160</td>\n",
       "      <td>12.12072</td>\n",
       "      <td>13.74927</td>\n",
       "      <td>11.34104</td>\n",
       "      <td>9.44807</td>\n",
       "      <td>5.71597</td>\n",
       "    </tr>\n",
       "  </tbody>\n",
       "</table>\n",
       "</div>"
      ],
      "text/plain": [
       "                      imei  mwra  c.katana  c.dogalize  c.android.chrome  \\\n",
       "4229    863033069630348354   1.0   8.78526    12.97475          11.62351   \n",
       "12572  8630330696303481545   1.0  11.81607    14.66263          10.73155   \n",
       "12930  8630330696303481669   0.0  12.49268    13.38094          10.93373   \n",
       "14497  8630330696303482196   1.0  12.27976    13.40483           9.23485   \n",
       "1347    359043379931766437   0.0  13.17060    14.34610           9.63767   \n",
       "\n",
       "       c.android.gm  p.android.gm  p.android.documentsui  p.system  \\\n",
       "4229       14.41864       9.23972               10.43492  13.82551   \n",
       "12572      14.21554      10.37842               10.42450  14.23429   \n",
       "12930      14.18849      11.95766                6.47040  12.71239   \n",
       "14497      15.58463       8.52524               13.52572  13.66325   \n",
       "1347        6.44279      12.37160               12.12072  13.74927   \n",
       "\n",
       "       p.android.externalstorage  p.android.settings  p.android.chrome  \n",
       "4229                     9.86109             8.95921          11.39909  \n",
       "12572                   14.15057             9.07541          11.87810  \n",
       "12930                    9.86456             7.39561          10.22850  \n",
       "14497                   10.38706             9.61267           9.97641  \n",
       "1347                    11.34104             9.44807           5.71597  "
      ]
     },
     "execution_count": 49,
     "metadata": {},
     "output_type": "execute_result"
    }
   ],
   "source": [
    "train_df = train_df.drop(columns=['ts', 'mwra_y'], errors='ignore')\n",
    "train_df = train_df.rename(columns={'mwra_x': 'mwra'})\n",
    "\n",
    "train_df.head()"
   ]
  },
  {
   "cell_type": "code",
   "execution_count": 50,
   "id": "f8529fa15c1b36ee",
   "metadata": {
    "ExecuteTime": {
     "end_time": "2024-11-03T14:41:08.579013Z",
     "start_time": "2024-11-03T14:41:08.544023Z"
    }
   },
   "outputs": [
    {
     "data": {
      "text/html": [
       "<div>\n",
       "<style scoped>\n",
       "    .dataframe tbody tr th:only-of-type {\n",
       "        vertical-align: middle;\n",
       "    }\n",
       "\n",
       "    .dataframe tbody tr th {\n",
       "        vertical-align: top;\n",
       "    }\n",
       "\n",
       "    .dataframe thead th {\n",
       "        text-align: right;\n",
       "    }\n",
       "</style>\n",
       "<table border=\"1\" class=\"dataframe\">\n",
       "  <thead>\n",
       "    <tr style=\"text-align: right;\">\n",
       "      <th></th>\n",
       "      <th>imei</th>\n",
       "      <th>mwra</th>\n",
       "      <th>c.katana</th>\n",
       "      <th>c.dogalize</th>\n",
       "      <th>c.android.chrome</th>\n",
       "      <th>c.android.gm</th>\n",
       "      <th>p.android.gm</th>\n",
       "      <th>p.android.documentsui</th>\n",
       "      <th>p.system</th>\n",
       "      <th>p.android.externalstorage</th>\n",
       "      <th>p.android.settings</th>\n",
       "      <th>p.android.chrome</th>\n",
       "    </tr>\n",
       "  </thead>\n",
       "  <tbody>\n",
       "    <tr>\n",
       "      <th>count</th>\n",
       "      <td>1.233100e+04</td>\n",
       "      <td>12331.000000</td>\n",
       "      <td>12331.000000</td>\n",
       "      <td>12331.000000</td>\n",
       "      <td>12331.000000</td>\n",
       "      <td>12331.000000</td>\n",
       "      <td>12331.000000</td>\n",
       "      <td>12331.000000</td>\n",
       "      <td>12331.000000</td>\n",
       "      <td>12331.000000</td>\n",
       "      <td>12331.000000</td>\n",
       "      <td>12331.000000</td>\n",
       "    </tr>\n",
       "    <tr>\n",
       "      <th>mean</th>\n",
       "      <td>3.879585e+18</td>\n",
       "      <td>0.625497</td>\n",
       "      <td>10.016101</td>\n",
       "      <td>11.181063</td>\n",
       "      <td>11.023363</td>\n",
       "      <td>10.554946</td>\n",
       "      <td>9.983216</td>\n",
       "      <td>9.391937</td>\n",
       "      <td>11.163586</td>\n",
       "      <td>11.713024</td>\n",
       "      <td>9.893613</td>\n",
       "      <td>9.894593</td>\n",
       "    </tr>\n",
       "    <tr>\n",
       "      <th>std</th>\n",
       "      <td>3.327328e+18</td>\n",
       "      <td>0.484014</td>\n",
       "      <td>2.575195</td>\n",
       "      <td>2.654335</td>\n",
       "      <td>2.710526</td>\n",
       "      <td>2.719858</td>\n",
       "      <td>2.763540</td>\n",
       "      <td>2.365531</td>\n",
       "      <td>2.310111</td>\n",
       "      <td>2.393699</td>\n",
       "      <td>2.484082</td>\n",
       "      <td>2.569458</td>\n",
       "    </tr>\n",
       "    <tr>\n",
       "      <th>min</th>\n",
       "      <td>3.590434e+17</td>\n",
       "      <td>0.000000</td>\n",
       "      <td>1.384790</td>\n",
       "      <td>1.802460</td>\n",
       "      <td>1.264880</td>\n",
       "      <td>1.730240</td>\n",
       "      <td>0.000000</td>\n",
       "      <td>2.551400</td>\n",
       "      <td>3.050450</td>\n",
       "      <td>3.463510</td>\n",
       "      <td>2.010490</td>\n",
       "      <td>0.879270</td>\n",
       "    </tr>\n",
       "    <tr>\n",
       "      <th>25%</th>\n",
       "      <td>8.630331e+17</td>\n",
       "      <td>0.000000</td>\n",
       "      <td>8.142165</td>\n",
       "      <td>9.318645</td>\n",
       "      <td>9.125685</td>\n",
       "      <td>8.564910</td>\n",
       "      <td>8.058725</td>\n",
       "      <td>7.785910</td>\n",
       "      <td>9.436415</td>\n",
       "      <td>10.088205</td>\n",
       "      <td>8.058810</td>\n",
       "      <td>8.041820</td>\n",
       "    </tr>\n",
       "    <tr>\n",
       "      <th>50%</th>\n",
       "      <td>3.590434e+18</td>\n",
       "      <td>1.000000</td>\n",
       "      <td>9.860910</td>\n",
       "      <td>11.288090</td>\n",
       "      <td>11.078720</td>\n",
       "      <td>10.437770</td>\n",
       "      <td>9.873050</td>\n",
       "      <td>9.194260</td>\n",
       "      <td>11.329550</td>\n",
       "      <td>11.815800</td>\n",
       "      <td>9.817520</td>\n",
       "      <td>9.922110</td>\n",
       "    </tr>\n",
       "    <tr>\n",
       "      <th>75%</th>\n",
       "      <td>8.630331e+18</td>\n",
       "      <td>1.000000</td>\n",
       "      <td>11.811615</td>\n",
       "      <td>13.057150</td>\n",
       "      <td>12.950765</td>\n",
       "      <td>12.511710</td>\n",
       "      <td>11.911765</td>\n",
       "      <td>10.726015</td>\n",
       "      <td>12.900690</td>\n",
       "      <td>13.396400</td>\n",
       "      <td>11.804595</td>\n",
       "      <td>11.820470</td>\n",
       "    </tr>\n",
       "    <tr>\n",
       "      <th>max</th>\n",
       "      <td>8.630331e+18</td>\n",
       "      <td>1.000000</td>\n",
       "      <td>19.064650</td>\n",
       "      <td>21.522060</td>\n",
       "      <td>20.710650</td>\n",
       "      <td>20.883650</td>\n",
       "      <td>20.563610</td>\n",
       "      <td>20.220660</td>\n",
       "      <td>18.999150</td>\n",
       "      <td>20.060160</td>\n",
       "      <td>18.162090</td>\n",
       "      <td>17.910570</td>\n",
       "    </tr>\n",
       "  </tbody>\n",
       "</table>\n",
       "</div>"
      ],
      "text/plain": [
       "               imei          mwra      c.katana    c.dogalize  \\\n",
       "count  1.233100e+04  12331.000000  12331.000000  12331.000000   \n",
       "mean   3.879585e+18      0.625497     10.016101     11.181063   \n",
       "std    3.327328e+18      0.484014      2.575195      2.654335   \n",
       "min    3.590434e+17      0.000000      1.384790      1.802460   \n",
       "25%    8.630331e+17      0.000000      8.142165      9.318645   \n",
       "50%    3.590434e+18      1.000000      9.860910     11.288090   \n",
       "75%    8.630331e+18      1.000000     11.811615     13.057150   \n",
       "max    8.630331e+18      1.000000     19.064650     21.522060   \n",
       "\n",
       "       c.android.chrome  c.android.gm  p.android.gm  p.android.documentsui  \\\n",
       "count      12331.000000  12331.000000  12331.000000           12331.000000   \n",
       "mean          11.023363     10.554946      9.983216               9.391937   \n",
       "std            2.710526      2.719858      2.763540               2.365531   \n",
       "min            1.264880      1.730240      0.000000               2.551400   \n",
       "25%            9.125685      8.564910      8.058725               7.785910   \n",
       "50%           11.078720     10.437770      9.873050               9.194260   \n",
       "75%           12.950765     12.511710     11.911765              10.726015   \n",
       "max           20.710650     20.883650     20.563610              20.220660   \n",
       "\n",
       "           p.system  p.android.externalstorage  p.android.settings  \\\n",
       "count  12331.000000               12331.000000        12331.000000   \n",
       "mean      11.163586                  11.713024            9.893613   \n",
       "std        2.310111                   2.393699            2.484082   \n",
       "min        3.050450                   3.463510            2.010490   \n",
       "25%        9.436415                  10.088205            8.058810   \n",
       "50%       11.329550                  11.815800            9.817520   \n",
       "75%       12.900690                  13.396400           11.804595   \n",
       "max       18.999150                  20.060160           18.162090   \n",
       "\n",
       "       p.android.chrome  \n",
       "count      12331.000000  \n",
       "mean           9.894593  \n",
       "std            2.569458  \n",
       "min            0.879270  \n",
       "25%            8.041820  \n",
       "50%            9.922110  \n",
       "75%           11.820470  \n",
       "max           17.910570  "
      ]
     },
     "execution_count": 50,
     "metadata": {},
     "output_type": "execute_result"
    }
   ],
   "source": [
    "train_df.describe()"
   ]
  },
  {
   "cell_type": "code",
   "execution_count": 51,
   "id": "6014a7bb8eb22148",
   "metadata": {
    "ExecuteTime": {
     "end_time": "2024-11-03T14:41:08.690026Z",
     "start_time": "2024-11-03T14:41:08.655991Z"
    }
   },
   "outputs": [
    {
     "data": {
      "text/html": [
       "<div>\n",
       "<style scoped>\n",
       "    .dataframe tbody tr th:only-of-type {\n",
       "        vertical-align: middle;\n",
       "    }\n",
       "\n",
       "    .dataframe tbody tr th {\n",
       "        vertical-align: top;\n",
       "    }\n",
       "\n",
       "    .dataframe thead th {\n",
       "        text-align: right;\n",
       "    }\n",
       "</style>\n",
       "<table border=\"1\" class=\"dataframe\">\n",
       "  <thead>\n",
       "    <tr style=\"text-align: right;\">\n",
       "      <th></th>\n",
       "      <th>imei</th>\n",
       "      <th>mwra</th>\n",
       "      <th>c.katana</th>\n",
       "      <th>c.dogalize</th>\n",
       "      <th>c.android.chrome</th>\n",
       "      <th>c.android.gm</th>\n",
       "      <th>p.android.gm</th>\n",
       "      <th>p.android.documentsui</th>\n",
       "      <th>p.system</th>\n",
       "      <th>p.android.externalstorage</th>\n",
       "      <th>p.android.settings</th>\n",
       "      <th>p.android.chrome</th>\n",
       "    </tr>\n",
       "  </thead>\n",
       "  <tbody>\n",
       "    <tr>\n",
       "      <th>count</th>\n",
       "      <td>1.233100e+04</td>\n",
       "      <td>12331.000000</td>\n",
       "      <td>12331.000000</td>\n",
       "      <td>12331.000000</td>\n",
       "      <td>12331.000000</td>\n",
       "      <td>12331.000000</td>\n",
       "      <td>12331.000000</td>\n",
       "      <td>12331.000000</td>\n",
       "      <td>12331.000000</td>\n",
       "      <td>12331.000000</td>\n",
       "      <td>12331.000000</td>\n",
       "      <td>12331.000000</td>\n",
       "    </tr>\n",
       "    <tr>\n",
       "      <th>mean</th>\n",
       "      <td>3.879585e+18</td>\n",
       "      <td>0.625497</td>\n",
       "      <td>10.014484</td>\n",
       "      <td>11.180344</td>\n",
       "      <td>11.020733</td>\n",
       "      <td>10.553397</td>\n",
       "      <td>9.987254</td>\n",
       "      <td>9.348806</td>\n",
       "      <td>11.163990</td>\n",
       "      <td>11.715179</td>\n",
       "      <td>9.893587</td>\n",
       "      <td>9.897795</td>\n",
       "    </tr>\n",
       "    <tr>\n",
       "      <th>std</th>\n",
       "      <td>3.327328e+18</td>\n",
       "      <td>0.484014</td>\n",
       "      <td>2.558555</td>\n",
       "      <td>2.632495</td>\n",
       "      <td>2.682272</td>\n",
       "      <td>2.705046</td>\n",
       "      <td>2.725502</td>\n",
       "      <td>2.237201</td>\n",
       "      <td>2.304417</td>\n",
       "      <td>2.370612</td>\n",
       "      <td>2.478147</td>\n",
       "      <td>2.558768</td>\n",
       "    </tr>\n",
       "    <tr>\n",
       "      <th>min</th>\n",
       "      <td>3.590434e+17</td>\n",
       "      <td>0.000000</td>\n",
       "      <td>2.714070</td>\n",
       "      <td>3.743010</td>\n",
       "      <td>3.391600</td>\n",
       "      <td>2.704080</td>\n",
       "      <td>2.346450</td>\n",
       "      <td>3.424980</td>\n",
       "      <td>4.241780</td>\n",
       "      <td>5.132300</td>\n",
       "      <td>2.451840</td>\n",
       "      <td>2.383800</td>\n",
       "    </tr>\n",
       "    <tr>\n",
       "      <th>25%</th>\n",
       "      <td>8.630331e+17</td>\n",
       "      <td>0.000000</td>\n",
       "      <td>8.142165</td>\n",
       "      <td>9.318645</td>\n",
       "      <td>9.125685</td>\n",
       "      <td>8.564910</td>\n",
       "      <td>8.058725</td>\n",
       "      <td>7.785910</td>\n",
       "      <td>9.436415</td>\n",
       "      <td>10.088205</td>\n",
       "      <td>8.058810</td>\n",
       "      <td>8.041820</td>\n",
       "    </tr>\n",
       "    <tr>\n",
       "      <th>50%</th>\n",
       "      <td>3.590434e+18</td>\n",
       "      <td>1.000000</td>\n",
       "      <td>9.860910</td>\n",
       "      <td>11.288090</td>\n",
       "      <td>11.078720</td>\n",
       "      <td>10.437770</td>\n",
       "      <td>9.873050</td>\n",
       "      <td>9.194260</td>\n",
       "      <td>11.329550</td>\n",
       "      <td>11.815800</td>\n",
       "      <td>9.817520</td>\n",
       "      <td>9.922110</td>\n",
       "    </tr>\n",
       "    <tr>\n",
       "      <th>75%</th>\n",
       "      <td>8.630331e+18</td>\n",
       "      <td>1.000000</td>\n",
       "      <td>11.811615</td>\n",
       "      <td>13.057150</td>\n",
       "      <td>12.950765</td>\n",
       "      <td>12.511710</td>\n",
       "      <td>11.911765</td>\n",
       "      <td>10.726015</td>\n",
       "      <td>12.900690</td>\n",
       "      <td>13.396400</td>\n",
       "      <td>11.804595</td>\n",
       "      <td>11.820470</td>\n",
       "    </tr>\n",
       "    <tr>\n",
       "      <th>max</th>\n",
       "      <td>8.630331e+18</td>\n",
       "      <td>1.000000</td>\n",
       "      <td>17.279270</td>\n",
       "      <td>18.649580</td>\n",
       "      <td>18.666560</td>\n",
       "      <td>18.411740</td>\n",
       "      <td>17.636410</td>\n",
       "      <td>15.126760</td>\n",
       "      <td>18.016860</td>\n",
       "      <td>18.327230</td>\n",
       "      <td>17.306570</td>\n",
       "      <td>17.390860</td>\n",
       "    </tr>\n",
       "  </tbody>\n",
       "</table>\n",
       "</div>"
      ],
      "text/plain": [
       "               imei          mwra      c.katana    c.dogalize  \\\n",
       "count  1.233100e+04  12331.000000  12331.000000  12331.000000   \n",
       "mean   3.879585e+18      0.625497     10.014484     11.180344   \n",
       "std    3.327328e+18      0.484014      2.558555      2.632495   \n",
       "min    3.590434e+17      0.000000      2.714070      3.743010   \n",
       "25%    8.630331e+17      0.000000      8.142165      9.318645   \n",
       "50%    3.590434e+18      1.000000      9.860910     11.288090   \n",
       "75%    8.630331e+18      1.000000     11.811615     13.057150   \n",
       "max    8.630331e+18      1.000000     17.279270     18.649580   \n",
       "\n",
       "       c.android.chrome  c.android.gm  p.android.gm  p.android.documentsui  \\\n",
       "count      12331.000000  12331.000000  12331.000000           12331.000000   \n",
       "mean          11.020733     10.553397      9.987254               9.348806   \n",
       "std            2.682272      2.705046      2.725502               2.237201   \n",
       "min            3.391600      2.704080      2.346450               3.424980   \n",
       "25%            9.125685      8.564910      8.058725               7.785910   \n",
       "50%           11.078720     10.437770      9.873050               9.194260   \n",
       "75%           12.950765     12.511710     11.911765              10.726015   \n",
       "max           18.666560     18.411740     17.636410              15.126760   \n",
       "\n",
       "           p.system  p.android.externalstorage  p.android.settings  \\\n",
       "count  12331.000000               12331.000000        12331.000000   \n",
       "mean      11.163990                  11.715179            9.893587   \n",
       "std        2.304417                   2.370612            2.478147   \n",
       "min        4.241780                   5.132300            2.451840   \n",
       "25%        9.436415                  10.088205            8.058810   \n",
       "50%       11.329550                  11.815800            9.817520   \n",
       "75%       12.900690                  13.396400           11.804595   \n",
       "max       18.016860                  18.327230           17.306570   \n",
       "\n",
       "       p.android.chrome  \n",
       "count      12331.000000  \n",
       "mean           9.897795  \n",
       "std            2.558768  \n",
       "min            2.383800  \n",
       "25%            8.041820  \n",
       "50%            9.922110  \n",
       "75%           11.820470  \n",
       "max           17.390860  "
      ]
     },
     "execution_count": 51,
     "metadata": {},
     "output_type": "execute_result"
    }
   ],
   "source": [
    "def identify_outliers(a):\n",
    "    lower = a.quantile(0.25) - 1.5 * stats.iqr(a)\n",
    "    upper = a.quantile(0.75) + 1.5 * stats.iqr(a)\n",
    "    \n",
    "    return (a > upper) | (a < lower)\n",
    "\n",
    "def remove_outlier(df,column):\n",
    "    outlier_mask = identify_outliers(df[column])\n",
    "    lower_bound = df[column].quantile(0.05)\n",
    "    upper_bound = df[column].quantile(0.95)\n",
    "    df.loc[outlier_mask, column] = np.where(\n",
    "        df.loc[outlier_mask, column] < lower_bound,\n",
    "        lower_bound,\n",
    "        upper_bound\n",
    "    )\n",
    "    return df\n",
    "\n",
    "for column in train_df.columns:\n",
    "    train_df=remove_outlier(train_df,column)\n",
    "train_df.describe()"
   ]
  },
  {
   "cell_type": "markdown",
   "id": "4cbf1045d967d3c",
   "metadata": {},
   "source": [
    "#### aplikovali sme vymazanie odľahlích hodnôt na všetky stĺpce v trénovacej množine, pričom sme použili percentyl 5 a 95, z dôvodu zachovania normálnych hodnôt, no vyradzujeme extrémne hodnoty na oboch stranách"
   ]
  },
  {
   "cell_type": "code",
   "execution_count": 52,
   "id": "3833b1489e6886df",
   "metadata": {
    "ExecuteTime": {
     "end_time": "2024-11-03T14:41:08.769018Z",
     "start_time": "2024-11-03T14:41:08.752028Z"
    }
   },
   "outputs": [],
   "source": [
    "def handle_missing_values(the_df):\n",
    "    for column in the_df.columns:\n",
    "        if the_df[column].isnull().sum() > 0:\n",
    "            median_value = the_df[column].median()\n",
    "            the_df[column].fillna(median_value, inplace=True)\n",
    "            # df.dropna(inplace=True)\n",
    "    return the_df"
   ]
  },
  {
   "cell_type": "markdown",
   "id": "3cd1d25efad191cf",
   "metadata": {},
   "source": [
    "#### vytvorili sme funkciu na nahradenie missing values pre každý riadok"
   ]
  },
  {
   "cell_type": "code",
   "execution_count": 53,
   "id": "986f145a33aba3e0",
   "metadata": {
    "ExecuteTime": {
     "end_time": "2024-11-03T14:41:08.891018Z",
     "start_time": "2024-11-03T14:41:08.877957Z"
    }
   },
   "outputs": [],
   "source": [
    "def normalize_data(the_df):    \n",
    "    scaler = StandardScaler()\n",
    "    numeric_columns = the_df.select_dtypes(include=['float64', 'int64']).columns\n",
    "    the_df[numeric_columns] = scaler.fit_transform(the_df[numeric_columns])\n",
    "    return the_df"
   ]
  },
  {
   "cell_type": "markdown",
   "id": "9be08c76cef809a3",
   "metadata": {},
   "source": [
    "#### takisto pre normalizáciu dát"
   ]
  },
  {
   "cell_type": "code",
   "execution_count": 54,
   "id": "564924b45663e969",
   "metadata": {
    "ExecuteTime": {
     "end_time": "2024-11-03T14:41:08.987029Z",
     "start_time": "2024-11-03T14:41:08.977022Z"
    }
   },
   "outputs": [],
   "source": [
    "def remove_duplicates(the_df):\n",
    "    the_df = the_df.drop_duplicates()\n",
    "    return the_df"
   ]
  },
  {
   "cell_type": "markdown",
   "id": "635233e25bb34eb9",
   "metadata": {},
   "source": [
    "#### a aj na odstránenie duplikátov, ktoré potom aplikujeme na trénovaciu množinu"
   ]
  },
  {
   "cell_type": "code",
   "execution_count": 55,
   "id": "86f3a7645682911",
   "metadata": {
    "ExecuteTime": {
     "end_time": "2024-11-03T14:41:09.067031Z",
     "start_time": "2024-11-03T14:41:09.037004Z"
    }
   },
   "outputs": [
    {
     "name": "stdout",
     "output_type": "stream",
     "text": [
      "Shape: 11953 rows, 12 columns\n",
      "Duplicates: 0\n"
     ]
    },
    {
     "data": {
      "text/html": [
       "<div>\n",
       "<style scoped>\n",
       "    .dataframe tbody tr th:only-of-type {\n",
       "        vertical-align: middle;\n",
       "    }\n",
       "\n",
       "    .dataframe tbody tr th {\n",
       "        vertical-align: top;\n",
       "    }\n",
       "\n",
       "    .dataframe thead th {\n",
       "        text-align: right;\n",
       "    }\n",
       "</style>\n",
       "<table border=\"1\" class=\"dataframe\">\n",
       "  <thead>\n",
       "    <tr style=\"text-align: right;\">\n",
       "      <th></th>\n",
       "      <th>Missing Values</th>\n",
       "      <th>Data Type</th>\n",
       "    </tr>\n",
       "  </thead>\n",
       "  <tbody>\n",
       "    <tr>\n",
       "      <th>imei</th>\n",
       "      <td>0</td>\n",
       "      <td>float64</td>\n",
       "    </tr>\n",
       "    <tr>\n",
       "      <th>mwra</th>\n",
       "      <td>0</td>\n",
       "      <td>float64</td>\n",
       "    </tr>\n",
       "    <tr>\n",
       "      <th>c.katana</th>\n",
       "      <td>0</td>\n",
       "      <td>float64</td>\n",
       "    </tr>\n",
       "    <tr>\n",
       "      <th>c.dogalize</th>\n",
       "      <td>0</td>\n",
       "      <td>float64</td>\n",
       "    </tr>\n",
       "    <tr>\n",
       "      <th>c.android.chrome</th>\n",
       "      <td>0</td>\n",
       "      <td>float64</td>\n",
       "    </tr>\n",
       "    <tr>\n",
       "      <th>c.android.gm</th>\n",
       "      <td>0</td>\n",
       "      <td>float64</td>\n",
       "    </tr>\n",
       "    <tr>\n",
       "      <th>p.android.gm</th>\n",
       "      <td>0</td>\n",
       "      <td>float64</td>\n",
       "    </tr>\n",
       "    <tr>\n",
       "      <th>p.android.documentsui</th>\n",
       "      <td>0</td>\n",
       "      <td>float64</td>\n",
       "    </tr>\n",
       "    <tr>\n",
       "      <th>p.system</th>\n",
       "      <td>0</td>\n",
       "      <td>float64</td>\n",
       "    </tr>\n",
       "    <tr>\n",
       "      <th>p.android.externalstorage</th>\n",
       "      <td>0</td>\n",
       "      <td>float64</td>\n",
       "    </tr>\n",
       "    <tr>\n",
       "      <th>p.android.settings</th>\n",
       "      <td>0</td>\n",
       "      <td>float64</td>\n",
       "    </tr>\n",
       "    <tr>\n",
       "      <th>p.android.chrome</th>\n",
       "      <td>0</td>\n",
       "      <td>float64</td>\n",
       "    </tr>\n",
       "  </tbody>\n",
       "</table>\n",
       "</div>"
      ],
      "text/plain": [
       "                           Missing Values Data Type\n",
       "imei                                    0   float64\n",
       "mwra                                    0   float64\n",
       "c.katana                                0   float64\n",
       "c.dogalize                              0   float64\n",
       "c.android.chrome                        0   float64\n",
       "c.android.gm                            0   float64\n",
       "p.android.gm                            0   float64\n",
       "p.android.documentsui                   0   float64\n",
       "p.system                                0   float64\n",
       "p.android.externalstorage               0   float64\n",
       "p.android.settings                      0   float64\n",
       "p.android.chrome                        0   float64"
      ]
     },
     "metadata": {},
     "output_type": "display_data"
    }
   ],
   "source": [
    "train_df    = handle_missing_values(train_df)\n",
    "train_df    = normalize_data(train_df)\n",
    "train_df    = remove_duplicates(train_df)\n",
    "\n",
    "analyze_dataframe(train_df)"
   ]
  },
  {
   "cell_type": "markdown",
   "id": "34390f34-58df-40bb-8982-a4265aead981",
   "metadata": {},
   "source": [
    "### C - Transformácia dát"
   ]
  },
  {
   "cell_type": "markdown",
   "id": "533aeef4-f6c5-4b60-8a20-d9df37760998",
   "metadata": {},
   "source": [
    "#### Transformation"
   ]
  },
  {
   "cell_type": "markdown",
   "id": "2cd75d6e-dc3a-4de7-b80e-a341f30af181",
   "metadata": {},
   "source": [
    "##### Power Transformation"
   ]
  },
  {
   "cell_type": "code",
   "execution_count": 56,
   "id": "f310f58f-8753-41d3-af79-5fcc4322cf6c",
   "metadata": {
    "ExecuteTime": {
     "end_time": "2024-11-03T14:41:09.243015Z",
     "start_time": "2024-11-03T14:41:09.143993Z"
    }
   },
   "outputs": [],
   "source": [
    "from sklearn.preprocessing import PowerTransformer\n",
    "\n",
    "power_transformer = PowerTransformer(method='yeo-johnson')  \n",
    "train_df_power_transformed = power_transformer.fit_transform(train_df)\n",
    "\n",
    "# Convert transformed data back to DataFrame\n",
    "train_df_power_transformed_df = pd.DataFrame(train_df_power_transformed, columns=train_df.columns)"
   ]
  },
  {
   "cell_type": "code",
   "execution_count": 57,
   "id": "e7311923-c91a-42b2-9ad4-ee3889955f9a",
   "metadata": {
    "ExecuteTime": {
     "end_time": "2024-11-03T14:41:09.288997Z",
     "start_time": "2024-11-03T14:41:09.244027Z"
    }
   },
   "outputs": [
    {
     "name": "stdout",
     "output_type": "stream",
     "text": [
      "Original Data Description:\n",
      "               imei          mwra      c.katana    c.dogalize  \\\n",
      "count  11953.000000  11953.000000  11953.000000  11953.000000   \n",
      "mean       0.000601     -0.002517      0.000040      0.003430   \n",
      "std        1.000493      1.000691      0.999334      0.998844   \n",
      "min       -1.058112     -1.292364     -2.853450     -2.825319   \n",
      "25%       -0.906636     -1.292364     -0.730729     -0.705388   \n",
      "50%       -0.086906      0.773776     -0.059068      0.045774   \n",
      "75%        1.427854      0.773776      0.702556      0.716147   \n",
      "max        1.427854      0.773776      2.839525      2.837437   \n",
      "\n",
      "       c.android.chrome  c.android.gm  p.android.gm  p.android.documentsui  \\\n",
      "count      11953.000000  11953.000000  11953.000000           11953.000000   \n",
      "mean          -0.001366      0.003200      0.002295               0.001057   \n",
      "std            1.002742      0.998856      0.999365               1.000160   \n",
      "min           -2.844396     -2.901849     -2.803562              -2.647981   \n",
      "25%           -0.711852     -0.734179     -0.705944              -0.697586   \n",
      "50%            0.020214     -0.039386     -0.042087              -0.063370   \n",
      "75%            0.721286      0.728832      0.707023               0.616127   \n",
      "max            2.850620      2.905187      2.806626               2.582776   \n",
      "\n",
      "           p.system  p.android.externalstorage  p.android.settings  \\\n",
      "count  11953.000000               11953.000000        11953.000000   \n",
      "mean       0.003746                  -0.001671           -0.002709   \n",
      "std        0.998246                   1.001691            0.996872   \n",
      "min       -3.004009                  -2.776981           -3.003071   \n",
      "25%       -0.745607                  -0.695996           -0.738613   \n",
      "50%        0.078435                   0.038469           -0.033554   \n",
      "75%        0.752216                   0.709133            0.760968   \n",
      "max        2.973917                   2.789287            2.991463   \n",
      "\n",
      "       p.android.chrome  \n",
      "count      11953.000000  \n",
      "mean           0.004590  \n",
      "std            1.002336  \n",
      "min           -2.936686  \n",
      "25%           -0.727053  \n",
      "50%            0.012388  \n",
      "75%            0.757460  \n",
      "max            2.928506  \n",
      "Transformed Data Description:\n",
      "               imei          mwra      c.katana    c.dogalize  \\\n",
      "count  1.195300e+04  1.195300e+04  1.195300e+04  1.195300e+04   \n",
      "mean   4.755578e-18 -2.044898e-16  1.961676e-17  1.902231e-17   \n",
      "std    1.000042e+00  1.000042e+00  1.000042e+00  1.000042e+00   \n",
      "min   -1.198231e+00 -1.289009e+00 -3.112984e+00 -2.678371e+00   \n",
      "25%   -9.543775e-01 -1.289009e+00 -7.177740e-01 -7.233600e-01   \n",
      "50%    1.445602e-01  7.757895e-01 -1.790624e-02  1.259680e-02   \n",
      "75%    1.321544e+00  7.757895e-01  7.229894e-01  7.024968e-01   \n",
      "max    1.321544e+00  7.757895e-01  2.632254e+00  3.015071e+00   \n",
      "\n",
      "       c.android.chrome  c.android.gm  p.android.gm  p.android.documentsui  \\\n",
      "count      1.195300e+04  1.195300e+04  1.195300e+04           1.195300e+04   \n",
      "mean       1.694175e-17  3.210015e-17  2.080565e-17           1.872509e-17   \n",
      "std        1.000042e+00  1.000042e+00  1.000042e+00           1.000042e+00   \n",
      "min       -2.751929e+00 -3.092889e+00 -2.921725e+00          -2.984857e+00   \n",
      "25%       -7.154743e-01 -7.283206e-01 -7.008277e-01          -6.779798e-01   \n",
      "50%        5.839463e-03 -1.307216e-02 -2.444803e-02          -5.543842e-03   \n",
      "75%        7.147503e-01  7.393031e-01  7.141762e-01           6.516874e-01   \n",
      "max        2.934851e+00  2.745610e+00  2.702606e+00           2.343402e+00   \n",
      "\n",
      "           p.system  p.android.externalstorage  p.android.settings  \\\n",
      "count  1.195300e+04               1.195300e+04        1.195300e+04   \n",
      "mean  -1.426673e-17              -5.052801e-18        2.972236e-18   \n",
      "std    1.000042e+00               1.000042e+00        1.000042e+00   \n",
      "min   -2.783978e+00              -2.629143e+00       -3.012030e+00   \n",
      "25%   -7.674758e-01              -7.068547e-01       -7.381114e-01   \n",
      "50%    3.453718e-02               1.150279e-02       -3.059534e-02   \n",
      "75%    7.374275e-01               6.987614e-01        7.662208e-01   \n",
      "max    3.244747e+00               2.950480e+00        3.001563e+00   \n",
      "\n",
      "       p.android.chrome  \n",
      "count      1.195300e+04  \n",
      "mean       3.328904e-17  \n",
      "std        1.000042e+00  \n",
      "min       -2.838285e+00  \n",
      "25%       -7.370769e-01  \n",
      "50%       -9.318756e-03  \n",
      "75%        7.455007e-01  \n",
      "max        3.020382e+00  \n"
     ]
    }
   ],
   "source": [
    "print(\"Original Data Description:\")\n",
    "print(train_df.describe())\n",
    "\n",
    "print(\"Transformed Data Description:\")\n",
    "print(train_df_power_transformed_df.describe())"
   ]
  },
  {
   "cell_type": "code",
   "execution_count": 58,
   "id": "9467f228-9551-45bb-8463-e3c8e75ec5db",
   "metadata": {},
   "outputs": [
    {
     "data": {
      "text/plain": [
       "array([[<Axes: title={'center': 'mwra'}>,\n",
       "        <Axes: title={'center': 'c.katana'}>,\n",
       "        <Axes: title={'center': 'c.dogalize'}>],\n",
       "       [<Axes: title={'center': 'c.android.chrome'}>,\n",
       "        <Axes: title={'center': 'c.android.gm'}>,\n",
       "        <Axes: title={'center': 'p.android.gm'}>],\n",
       "       [<Axes: title={'center': 'p.android.documentsui'}>,\n",
       "        <Axes: title={'center': 'p.system'}>,\n",
       "        <Axes: title={'center': 'p.android.externalstorage'}>],\n",
       "       [<Axes: title={'center': 'p.android.settings'}>,\n",
       "        <Axes: title={'center': 'p.android.chrome'}>, <Axes: >]],\n",
       "      dtype=object)"
      ]
     },
     "execution_count": 58,
     "metadata": {},
     "output_type": "execute_result"
    },
    {
     "data": {
      "image/png": "[encoded data removed]",
      "text/plain": [
       "<Figure size 1200x800 with 12 Axes>"
      ]
     },
     "metadata": {},
     "output_type": "display_data"
    }
   ],
   "source": [
    "train_df_power_transformed_df.hist(column=train_df_power_transformed_df.columns[1:],figsize=(12,8))"
   ]
  },
  {
   "cell_type": "markdown",
   "id": "548e201a-6764-476d-8543-677e62b61579",
   "metadata": {},
   "source": [
    "##### Quantile Transformation"
   ]
  },
  {
   "cell_type": "code",
   "execution_count": 59,
   "id": "6bdbaa32-e467-4194-bf29-910cc3350320",
   "metadata": {
    "ExecuteTime": {
     "end_time": "2024-11-03T14:41:09.335044Z",
     "start_time": "2024-11-03T14:41:09.289990Z"
    }
   },
   "outputs": [],
   "source": [
    "from sklearn.preprocessing import QuantileTransformer\n",
    "\n",
    "quantile_transformer = QuantileTransformer(output_distribution='normal')  \n",
    "train_df_quantile_transformed = quantile_transformer.fit_transform(train_df)\n",
    "\n",
    "train_df_quantile_transformed_df = pd.DataFrame(train_df_quantile_transformed, columns=train_df.columns)"
   ]
  },
  {
   "cell_type": "code",
   "execution_count": 60,
   "id": "8a1aaca6-6994-40d3-ada3-013dd9ce8326",
   "metadata": {
    "ExecuteTime": {
     "end_time": "2024-11-03T14:41:09.383180Z",
     "start_time": "2024-11-03T14:41:09.336034Z"
    }
   },
   "outputs": [
    {
     "name": "stdout",
     "output_type": "stream",
     "text": [
      "Original Data Description:\n",
      "               imei          mwra      c.katana    c.dogalize  \\\n",
      "count  11953.000000  11953.000000  11953.000000  11953.000000   \n",
      "mean       0.000601     -0.002517      0.000040      0.003430   \n",
      "std        1.000493      1.000691      0.999334      0.998844   \n",
      "min       -1.058112     -1.292364     -2.853450     -2.825319   \n",
      "25%       -0.906636     -1.292364     -0.730729     -0.705388   \n",
      "50%       -0.086906      0.773776     -0.059068      0.045774   \n",
      "75%        1.427854      0.773776      0.702556      0.716147   \n",
      "max        1.427854      0.773776      2.839525      2.837437   \n",
      "\n",
      "       c.android.chrome  c.android.gm  p.android.gm  p.android.documentsui  \\\n",
      "count      11953.000000  11953.000000  11953.000000           11953.000000   \n",
      "mean          -0.001366      0.003200      0.002295               0.001057   \n",
      "std            1.002742      0.998856      0.999365               1.000160   \n",
      "min           -2.844396     -2.901849     -2.803562              -2.647981   \n",
      "25%           -0.711852     -0.734179     -0.705944              -0.697586   \n",
      "50%            0.020214     -0.039386     -0.042087              -0.063370   \n",
      "75%            0.721286      0.728832      0.707023               0.616127   \n",
      "max            2.850620      2.905187      2.806626               2.582776   \n",
      "\n",
      "           p.system  p.android.externalstorage  p.android.settings  \\\n",
      "count  11953.000000               11953.000000        11953.000000   \n",
      "mean       0.003746                  -0.001671           -0.002709   \n",
      "std        0.998246                   1.001691            0.996872   \n",
      "min       -3.004009                  -2.776981           -3.003071   \n",
      "25%       -0.745607                  -0.695996           -0.738613   \n",
      "50%        0.078435                   0.038469           -0.033554   \n",
      "75%        0.752216                   0.709133            0.760968   \n",
      "max        2.973917                   2.789287            2.991463   \n",
      "\n",
      "       p.android.chrome  \n",
      "count      11953.000000  \n",
      "mean           0.004590  \n",
      "std            1.002336  \n",
      "min           -2.936686  \n",
      "25%           -0.727053  \n",
      "50%            0.012388  \n",
      "75%            0.757460  \n",
      "max            2.928506  \n",
      "Transformed Data Description:\n",
      "               imei          mwra      c.katana    c.dogalize  \\\n",
      "count  11953.000000  11953.000000  11953.000000  11953.000000   \n",
      "mean       0.427874      1.292331      0.001032     -0.005385   \n",
      "std        3.659996      5.036379      1.003191      1.002290   \n",
      "min       -5.199338     -5.199338     -5.199338     -5.199338   \n",
      "25%       -0.631785     -5.199338     -0.669415     -0.682203   \n",
      "50%        0.106841      5.199338      0.003046     -0.002433   \n",
      "75%        5.199338      5.199338      0.675734      0.670523   \n",
      "max        5.199338      5.199338      5.199338      5.199338   \n",
      "\n",
      "       c.android.chrome  c.android.gm  p.android.gm  p.android.documentsui  \\\n",
      "count      11953.000000  11953.000000  11953.000000           11953.000000   \n",
      "mean          -0.000233     -0.000733     -0.003309              -0.005251   \n",
      "std            1.000948      1.000469      1.001352               1.000267   \n",
      "min           -5.199338     -5.199338     -5.199338              -5.199338   \n",
      "25%           -0.669876     -0.672713     -0.680128              -0.681778   \n",
      "50%           -0.000058      0.001657     -0.002970              -0.003843   \n",
      "75%            0.669767      0.669695      0.672242               0.664828   \n",
      "max            5.199338      5.199338      5.199338               5.199338   \n",
      "\n",
      "           p.system  p.android.externalstorage  p.android.settings  \\\n",
      "count  11953.000000               11953.000000        11953.000000   \n",
      "mean       0.001174                  -0.005667            0.007396   \n",
      "std        0.999036                   1.002814            1.006802   \n",
      "min       -5.199338                  -5.199338           -5.199338   \n",
      "25%       -0.673768                  -0.683273           -0.668819   \n",
      "50%        0.002698                  -0.010550            0.000499   \n",
      "75%        0.670588                   0.667766            0.683921   \n",
      "max        5.199338                   5.199338            5.199338   \n",
      "\n",
      "       p.android.chrome  \n",
      "count      11953.000000  \n",
      "mean          -0.007398  \n",
      "std            1.000897  \n",
      "min           -5.199338  \n",
      "25%           -0.683119  \n",
      "50%           -0.003209  \n",
      "75%            0.666102  \n",
      "max            5.199338  \n"
     ]
    }
   ],
   "source": [
    "print(\"Original Data Description:\")\n",
    "print(train_df.describe())\n",
    "\n",
    "print(\"Transformed Data Description:\")\n",
    "print(train_df_quantile_transformed_df.describe())"
   ]
  },
  {
   "cell_type": "code",
   "execution_count": 69,
   "id": "7371343f-bb63-49e6-995f-50fc684ad5e9",
   "metadata": {},
   "outputs": [
    {
     "data": {
      "text/plain": [
       "array([[<Axes: title={'center': 'mwra'}>,\n",
       "        <Axes: title={'center': 'c.katana'}>,\n",
       "        <Axes: title={'center': 'c.dogalize'}>],\n",
       "       [<Axes: title={'center': 'c.android.chrome'}>,\n",
       "        <Axes: title={'center': 'c.android.gm'}>,\n",
       "        <Axes: title={'center': 'p.android.gm'}>],\n",
       "       [<Axes: title={'center': 'p.android.documentsui'}>,\n",
       "        <Axes: title={'center': 'p.system'}>,\n",
       "        <Axes: title={'center': 'p.android.externalstorage'}>],\n",
       "       [<Axes: title={'center': 'p.android.settings'}>,\n",
       "        <Axes: title={'center': 'p.android.chrome'}>, <Axes: >]],\n",
       "      dtype=object)"
      ]
     },
     "execution_count": 69,
     "metadata": {},
     "output_type": "execute_result"
    },
    {
     "data": {
      "image/png": "[encoded data removed]",
      "text/plain": [
       "<Figure size 1200x800 with 12 Axes>"
      ]
     },
     "metadata": {},
     "output_type": "display_data"
    }
   ],
   "source": [
    "train_df_standard_scaled_shifted.hist(column=train_df_standard_scaled_shifted.columns.drop([\"mwra\",\"imei\"]), figsize=(12, 8))"
   ]
  },
  {
   "cell_type": "markdown",
   "id": "5fb8497e-eee4-42c1-a3a5-302dd4624e22",
   "metadata": {},
   "source": [
    "#### Scaling"
   ]
  },
  {
   "cell_type": "markdown",
   "id": "43aea099-776d-4e5b-bed5-d75178a603df",
   "metadata": {},
   "source": [
    "##### Standard Scaling"
   ]
  },
  {
   "cell_type": "code",
   "execution_count": 61,
   "id": "4be1e74d-7c7f-49a8-8274-92f9ac03b980",
   "metadata": {
    "ExecuteTime": {
     "end_time": "2024-11-03T14:41:09.398826Z",
     "start_time": "2024-11-03T14:41:09.384757Z"
    }
   },
   "outputs": [],
   "source": [
    "scaler_standard = StandardScaler()\n",
    "train_df_standard_scaled = scaler_standard.fit_transform(train_df)\n",
    "\n",
    "# Shift the data to make all values non-negative\n",
    "train_df_standard_scaled_shifted = train_df_standard_scaled - np.min(train_df_standard_scaled)"
   ]
  },
  {
   "cell_type": "code",
   "execution_count": 62,
   "id": "66a17af6-f6d1-4cd9-86e3-bd4fadfade9e",
   "metadata": {
    "ExecuteTime": {
     "end_time": "2024-11-03T14:41:09.444813Z",
     "start_time": "2024-11-03T14:41:09.401791Z"
    }
   },
   "outputs": [
    {
     "name": "stdout",
     "output_type": "stream",
     "text": [
      "               imei          mwra      c.katana    c.dogalize  \\\n",
      "count  11953.000000  11953.000000  11953.000000  11953.000000   \n",
      "mean       0.000601     -0.002517      0.000040      0.003430   \n",
      "std        1.000493      1.000691      0.999334      0.998844   \n",
      "min       -1.058112     -1.292364     -2.853450     -2.825319   \n",
      "25%       -0.906636     -1.292364     -0.730729     -0.705388   \n",
      "50%       -0.086906      0.773776     -0.059068      0.045774   \n",
      "75%        1.427854      0.773776      0.702556      0.716147   \n",
      "max        1.427854      0.773776      2.839525      2.837437   \n",
      "\n",
      "       c.android.chrome  c.android.gm  p.android.gm  p.android.documentsui  \\\n",
      "count      11953.000000  11953.000000  11953.000000           11953.000000   \n",
      "mean          -0.001366      0.003200      0.002295               0.001057   \n",
      "std            1.002742      0.998856      0.999365               1.000160   \n",
      "min           -2.844396     -2.901849     -2.803562              -2.647981   \n",
      "25%           -0.711852     -0.734179     -0.705944              -0.697586   \n",
      "50%            0.020214     -0.039386     -0.042087              -0.063370   \n",
      "75%            0.721286      0.728832      0.707023               0.616127   \n",
      "max            2.850620      2.905187      2.806626               2.582776   \n",
      "\n",
      "           p.system  p.android.externalstorage  p.android.settings  \\\n",
      "count  11953.000000               11953.000000        11953.000000   \n",
      "mean       0.003746                  -0.001671           -0.002709   \n",
      "std        0.998246                   1.001691            0.996872   \n",
      "min       -3.004009                  -2.776981           -3.003071   \n",
      "25%       -0.745607                  -0.695996           -0.738613   \n",
      "50%        0.078435                   0.038469           -0.033554   \n",
      "75%        0.752216                   0.709133            0.760968   \n",
      "max        2.973917                   2.789287            2.991463   \n",
      "\n",
      "       p.android.chrome  \n",
      "count      11953.000000  \n",
      "mean           0.004590  \n",
      "std            1.002336  \n",
      "min           -2.936686  \n",
      "25%           -0.727053  \n",
      "50%            0.012388  \n",
      "75%            0.757460  \n",
      "max            2.928506  \n",
      "\n",
      "Stardard Scaled\n",
      "               imei          mwra      c.katana    c.dogalize  \\\n",
      "count  11953.000000  11953.000000  11953.000000  11953.000000   \n",
      "mean       3.013167      3.013167      3.013167      3.013167   \n",
      "std        1.000042      1.000042      1.000042      1.000042   \n",
      "min        1.954931      1.724157      0.157655      0.181026   \n",
      "25%        2.106339      1.724157      2.281880      2.303499   \n",
      "50%        2.925699      3.788956      2.954017      3.055562   \n",
      "75%        4.439775      3.788956      3.716181      3.726738   \n",
      "max        4.439775      3.788956      5.854664      5.850572   \n",
      "\n",
      "       c.android.chrome  c.android.gm  p.android.gm  p.android.documentsui  \\\n",
      "count      11953.000000  11953.000000  11953.000000           11953.000000   \n",
      "mean           3.013167      3.013167      3.013167               3.013167   \n",
      "std            1.000042      1.000042      1.000042               1.000042   \n",
      "min            0.177793      0.104667      0.205410               0.364442   \n",
      "25%            2.304594      2.274912      2.304448               2.314606   \n",
      "50%            3.034689      2.970530      2.968754               2.948747   \n",
      "75%            3.733873      3.739660      3.718372               3.628164   \n",
      "max            5.857473      5.918599      5.819397               5.594580   \n",
      "\n",
      "           p.system  p.android.externalstorage  p.android.settings  \\\n",
      "count  11953.000000               11953.000000        11953.000000   \n",
      "mean       3.013167                   3.013167            3.013167   \n",
      "std        1.000042                   1.000042            1.000042   \n",
      "min        0.000000                   0.242427            0.003266   \n",
      "25%        2.262465                   2.319985            2.274923   \n",
      "50%        3.087990                   3.053240            2.982224   \n",
      "75%        3.762983                   3.722800            3.779272   \n",
      "max        5.988682                   5.799529            6.016858   \n",
      "\n",
      "       p.android.chrome  \n",
      "count      11953.000000  \n",
      "mean           3.013167  \n",
      "std            1.000042  \n",
      "min            0.078622  \n",
      "25%            2.283198  \n",
      "50%            3.020946  \n",
      "75%            3.764313  \n",
      "max            5.930390  \n"
     ]
    }
   ],
   "source": [
    "train_df_standard_scaled_shifted = pd.DataFrame(train_df_standard_scaled_shifted, columns=train_df.columns)\n",
    "\n",
    "print(train_df.describe())\n",
    "print(\"\\nStardard Scaled\")\n",
    "print(train_df_standard_scaled_shifted.describe())"
   ]
  },
  {
   "cell_type": "code",
   "execution_count": 76,
   "id": "997f5074-e357-4078-9075-7f9602e8e08e",
   "metadata": {},
   "outputs": [
    {
     "data": {
      "text/plain": [
       "array([[<Axes: title={'center': 'c.katana'}>,\n",
       "        <Axes: title={'center': 'c.dogalize'}>,\n",
       "        <Axes: title={'center': 'c.android.chrome'}>],\n",
       "       [<Axes: title={'center': 'c.android.gm'}>,\n",
       "        <Axes: title={'center': 'p.android.gm'}>,\n",
       "        <Axes: title={'center': 'p.android.documentsui'}>],\n",
       "       [<Axes: title={'center': 'p.system'}>,\n",
       "        <Axes: title={'center': 'p.android.externalstorage'}>,\n",
       "        <Axes: title={'center': 'p.android.settings'}>],\n",
       "       [<Axes: title={'center': 'p.android.chrome'}>, <Axes: >, <Axes: >]],\n",
       "      dtype=object)"
      ]
     },
     "execution_count": 76,
     "metadata": {},
     "output_type": "execute_result"
    },
    {
     "data": {
      "image/png": "[encoded data removed]",
      "text/plain": [
       "<Figure size 1200x800 with 12 Axes>"
      ]
     },
     "metadata": {},
     "output_type": "display_data"
    }
   ],
   "source": [
    "train_df_standard_scaled_shifted.hist(column=train_df_standard_scaled_shifted.columns.drop([\"mwra\",\"imei\"]), figsize=(12, 8))"
   ]
  },
  {
   "cell_type": "markdown",
   "id": "6b7e357e-48a4-4fbd-869e-efa3bc8a12ed",
   "metadata": {},
   "source": [
    "##### Min-Max Scaling"
   ]
  },
  {
   "cell_type": "code",
   "execution_count": 64,
   "id": "c77bbaf5-da75-42a9-9989-2593bff24dea",
   "metadata": {
    "ExecuteTime": {
     "end_time": "2024-11-03T14:41:09.459822Z",
     "start_time": "2024-11-03T14:41:09.445828Z"
    }
   },
   "outputs": [],
   "source": [
    "from sklearn.preprocessing import MinMaxScaler\n",
    "\n",
    "scaler_minmax = MinMaxScaler(feature_range=(0,5))\n",
    "train_df_minmax = scaler_minmax.fit_transform(train_df)\n"
   ]
  },
  {
   "cell_type": "code",
   "execution_count": 65,
   "id": "6ec59b5f-ff58-49e6-95ed-87f75716f9d9",
   "metadata": {
    "ExecuteTime": {
     "end_time": "2024-11-03T14:41:09.507320Z",
     "start_time": "2024-11-03T14:41:09.461527Z"
    }
   },
   "outputs": [
    {
     "name": "stdout",
     "output_type": "stream",
     "text": [
      "               imei          mwra      c.katana    c.dogalize  \\\n",
      "count  11953.000000  11953.000000  11953.000000  11953.000000   \n",
      "mean       0.000601     -0.002517      0.000040      0.003430   \n",
      "std        1.000493      1.000691      0.999334      0.998844   \n",
      "min       -1.058112     -1.292364     -2.853450     -2.825319   \n",
      "25%       -0.906636     -1.292364     -0.730729     -0.705388   \n",
      "50%       -0.086906      0.773776     -0.059068      0.045774   \n",
      "75%        1.427854      0.773776      0.702556      0.716147   \n",
      "max        1.427854      0.773776      2.839525      2.837437   \n",
      "\n",
      "       c.android.chrome  c.android.gm  p.android.gm  p.android.documentsui  \\\n",
      "count      11953.000000  11953.000000  11953.000000           11953.000000   \n",
      "mean          -0.001366      0.003200      0.002295               0.001057   \n",
      "std            1.002742      0.998856      0.999365               1.000160   \n",
      "min           -2.844396     -2.901849     -2.803562              -2.647981   \n",
      "25%           -0.711852     -0.734179     -0.705944              -0.697586   \n",
      "50%            0.020214     -0.039386     -0.042087              -0.063370   \n",
      "75%            0.721286      0.728832      0.707023               0.616127   \n",
      "max            2.850620      2.905187      2.806626               2.582776   \n",
      "\n",
      "           p.system  p.android.externalstorage  p.android.settings  \\\n",
      "count  11953.000000               11953.000000        11953.000000   \n",
      "mean       0.003746                  -0.001671           -0.002709   \n",
      "std        0.998246                   1.001691            0.996872   \n",
      "min       -3.004009                  -2.776981           -3.003071   \n",
      "25%       -0.745607                  -0.695996           -0.738613   \n",
      "50%        0.078435                   0.038469           -0.033554   \n",
      "75%        0.752216                   0.709133            0.760968   \n",
      "max        2.973917                   2.789287            2.991463   \n",
      "\n",
      "       p.android.chrome  \n",
      "count      11953.000000  \n",
      "mean           0.004590  \n",
      "std            1.002336  \n",
      "min           -2.936686  \n",
      "25%           -0.727053  \n",
      "50%            0.012388  \n",
      "75%            0.757460  \n",
      "max            2.928506  \n",
      "\n",
      "Min-Max Scaled\n",
      "               imei          mwra      c.katana    c.dogalize  \\\n",
      "count  11953.000000  11953.000000  11953.000000  11953.000000   \n",
      "mean       2.129380      3.121392      2.506150      2.497678   \n",
      "std        2.012283      2.421645      0.877690      0.881942   \n",
      "min        0.000000      0.000000      0.000000      0.000000   \n",
      "25%        0.304662      0.000000      1.864334      1.871819   \n",
      "50%        1.953378      5.000000      2.454237      2.535067   \n",
      "75%        5.000000      5.000000      3.123153      3.126980   \n",
      "max        5.000000      5.000000      5.000000      5.000000   \n",
      "\n",
      "       c.android.chrome  c.android.gm  p.android.gm  p.android.documentsui  \\\n",
      "count      11953.000000  11953.000000  11953.000000           11953.000000   \n",
      "mean           2.496068      2.501319      2.500680               2.532175   \n",
      "std            0.880368      0.860039      0.890670               0.956038   \n",
      "min            0.000000      0.000000      0.000000               0.000000   \n",
      "25%            1.872290      1.866417      1.869472               1.864353   \n",
      "50%            2.515015      2.464651      2.461125               2.470590   \n",
      "75%            3.130529      3.126105      3.128759               3.120111   \n",
      "max            5.000000      5.000000      5.000000               5.000000   \n",
      "\n",
      "           p.system  p.android.externalstorage  p.android.settings  \\\n",
      "count  11953.000000               11953.000000        11953.000000   \n",
      "mean       2.515718                   2.492972            2.502581   \n",
      "std        0.834943                   0.899787            0.831485   \n",
      "min        0.000000                   0.000000            0.000000   \n",
      "25%        1.888951                   1.869282            1.888769   \n",
      "50%        2.578188                   2.529028            2.476854   \n",
      "75%        3.141746                   3.131464            3.139559   \n",
      "max        5.000000                   5.000000            5.000000   \n",
      "\n",
      "       p.android.chrome  \n",
      "count      11953.000000  \n",
      "mean           2.507400  \n",
      "std            0.854478  \n",
      "min            0.000000  \n",
      "25%            1.883683  \n",
      "50%            2.514047  \n",
      "75%            3.149211  \n",
      "max            5.000000  \n"
     ]
    }
   ],
   "source": [
    "train_df_minmax = pd.DataFrame(train_df_minmax, columns=train_df.columns)\n",
    "\n",
    "print(train_df.describe())\n",
    "print(\"\\nMin-Max Scaled\")\n",
    "print(train_df_minmax.describe())"
   ]
  },
  {
   "cell_type": "code",
   "execution_count": 75,
   "id": "37a322dc-243f-45c2-9622-a90f6f8421f3",
   "metadata": {},
   "outputs": [
    {
     "data": {
      "text/plain": [
       "array([[<Axes: title={'center': 'c.katana'}>,\n",
       "        <Axes: title={'center': 'c.dogalize'}>,\n",
       "        <Axes: title={'center': 'c.android.chrome'}>],\n",
       "       [<Axes: title={'center': 'c.android.gm'}>,\n",
       "        <Axes: title={'center': 'p.android.gm'}>,\n",
       "        <Axes: title={'center': 'p.android.documentsui'}>],\n",
       "       [<Axes: title={'center': 'p.system'}>,\n",
       "        <Axes: title={'center': 'p.android.externalstorage'}>,\n",
       "        <Axes: title={'center': 'p.android.settings'}>],\n",
       "       [<Axes: title={'center': 'p.android.chrome'}>, <Axes: >, <Axes: >]],\n",
       "      dtype=object)"
      ]
     },
     "execution_count": 75,
     "metadata": {},
     "output_type": "execute_result"
    },
    {
     "data": {
      "image/png": "[encoded data removed]",
      "text/plain": [
       "<Figure size 1200x800 with 12 Axes>"
      ]
     },
     "metadata": {},
     "output_type": "display_data"
    }
   ],
   "source": [
    "train_df_minmax.hist(column=train_df_minmax.columns.drop([\"mwra\",\"imei\"]), figsize=(12, 8))"
   ]
  },
  {
   "cell_type": "markdown",
   "id": "ad3e295fd9cf9de0",
   "metadata": {},
   "source": [
    "## 2.2 Výber atribútov pre strojové učenie"
   ]
  },
  {
   "cell_type": "markdown",
   "id": "d9663924a4f693dd",
   "metadata": {},
   "source": [
    "### A/C - Zisťujeme, ktoré atribúty sú pre ML informatívne k predikovanej premennej + zdôvodnenie"
   ]
  },
  {
   "cell_type": "markdown",
   "id": "589aa16f58c67a10",
   "metadata": {},
   "source": [
    "#### RFE - je iteratívna metóda výberu atribútov, ktorá postupne odstraňuje najmenej dôležité atribúty na základe ich prínosu (ich vplyv na model) pre model. Vybrali sme ju, pretože umožňuje identifikovať atribúty, ktoré majú najsilnejší vplyv na predikciu"
   ]
  },
  {
   "cell_type": "code",
   "execution_count": 66,
   "id": "4577e1b93bc9e086",
   "metadata": {
    "ExecuteTime": {
     "end_time": "2024-11-03T14:57:49.780100Z",
     "start_time": "2024-11-03T14:57:03.545088Z"
    }
   },
   "outputs": [
    {
     "name": "stdout",
     "output_type": "stream",
     "text": [
      "['c.katana', 'c.android.chrome', 'c.android.gm', 'p.android.gm']\n"
     ]
    }
   ],
   "source": [
    "def get_top_rfe(X, y):\n",
    "\n",
    "    estimator = SVR(kernel=\"linear\")\n",
    "    selector = RFE(estimator, n_features_to_select=4, step=1)\n",
    "    selector.fit(X, y)\n",
    "\n",
    "    features = X.columns[selector.support_].tolist()\n",
    "    return features\n",
    "\n",
    "X = train_df.drop(columns=['mwra'])\n",
    "y = train_df['mwra']\n",
    "\n",
    "features1 = get_top_rfe(X, y)\n",
    "print(features1)"
   ]
  },
  {
   "cell_type": "markdown",
   "id": "a5d97795241c44cc",
   "metadata": {},
   "source": []
  },
  {
   "cell_type": "markdown",
   "id": "4e5b675c0a717b79",
   "metadata": {},
   "source": [
    "#### Korelačná analýza - základná metóda, pomocou ktorej sme identifikovali lineárne vzťahy medzi atribútmi a mwra. Potrebná na zistenie, ktoré atribúty sú silno lineárne prepojené s mwra. Vybrali sme si ju kôli jednoduchosti a vhodnosti pre náš model."
   ]
  },
  {
   "cell_type": "code",
   "execution_count": 67,
   "id": "965fe9eec43d1f71",
   "metadata": {
    "ExecuteTime": {
     "end_time": "2024-11-03T15:01:30.019408Z",
     "start_time": "2024-11-03T15:01:29.992384Z"
    }
   },
   "outputs": [
    {
     "name": "stdout",
     "output_type": "stream",
     "text": [
      "['c.katana', 'c.android.chrome', 'p.android.gm', 'p.android.documentsui']\n"
     ]
    }
   ],
   "source": [
    "def get_top_correlations(the_df):\n",
    "    numerical_columns = the_df.select_dtypes(include=[np.number])\n",
    "    correlation_matrix = numerical_columns.corr()\n",
    "    \n",
    "    target_correlations = correlation_matrix[\"mwra\"].drop(\"mwra\")\n",
    "    features = target_correlations.abs().sort_values(ascending=False).head(4)\n",
    "    \n",
    "    return features.index.tolist()\n",
    "\n",
    "features2 = get_top_correlations(train_df)\n",
    "print(features2)"
   ]
  },
  {
   "cell_type": "markdown",
   "id": "f55b0df97631027f",
   "metadata": {},
   "source": [
    "#### Mutual info - použitá na meranie množstva informácií, ktoré jeden atribút poskytuje o mrwa. Použili sme ju aj preto, pretože zachytáva aj nelineárne vzťahy medzi premennými, čiže veľmi jedinečné informácie, ktoré niesú lineárne závislé"
   ]
  },
  {
   "cell_type": "code",
   "execution_count": 68,
   "id": "372a793b39781221",
   "metadata": {
    "ExecuteTime": {
     "end_time": "2024-11-03T14:57:50.318142Z",
     "start_time": "2024-11-03T14:57:49.797143Z"
    }
   },
   "outputs": [
    {
     "name": "stdout",
     "output_type": "stream",
     "text": [
      "['c.katana', 'p.android.gm', 'c.android.chrome', 'p.android.documentsui']\n"
     ]
    }
   ],
   "source": [
    "def get_top_mutual_info(X, y):\n",
    "    selector = mutual_info_regression(X, y)\n",
    "    scores = pd.Series(selector, index=X.columns)\n",
    "    top_features = scores.nlargest(4)\n",
    "    return top_features.index.tolist()\n",
    "\n",
    "X = train_df.drop('mwra', axis=1)\n",
    "y = train_df['mwra']\n",
    "\n",
    "features3 = get_top_mutual_info(X, y)\n",
    "print(features3)\n"
   ]
  },
  {
   "cell_type": "markdown",
   "id": "bb1f374275bc1240",
   "metadata": {},
   "source": [
    "### B/C - zoradenie atribútov + zdôvodnenie"
   ]
  },
  {
   "cell_type": "markdown",
   "id": "607cf0abbd107db7",
   "metadata": {},
   "source": [
    "#### Na základe analýzy sme identifikovali najrelevantnejšie atribúty ovplyvňujúce mwra:\n",
    "1. c.katana\n",
    "2. c.android.chrome\n",
    "3. p.android.gm\n",
    "#### usporiadali sme tieto atribúty v takomto poradí a to na základe výsledkov z predošlích testov, keďže RFE podľa modelu SVR s lineárnym jadromnajlepšie predpovedá tieto atribúty:\n",
    "['c.katana', 'c.android.chrome', 'c.android.gm', 'p.android.gm']\n",
    "#### podobne predpovedala aj korelačná závislosť, no rozdiel bol len v jednom atribúte,\n",
    "['c.katana', 'c.android.chrome', 'p.android.gm', 'p.system']\n",
    "#### pri mutual information, ktorá sa zameriava na to, koľko informáacií poskytuje každý atribút o mrwa, zistili sme, že najvplyvňejšie atribúty sú:\n",
    "['c.katana', 'c.android.chrome', 'p.android.gm', 'p.android.settings']"
   ]
  },
  {
   "cell_type": "code",
   "execution_count": null,
   "id": "32909f44-5334-4620-99a7-fab6b94cde91",
   "metadata": {},
   "outputs": [],
   "source": []
  }
 ],
 "metadata": {
  "kernelspec": {
   "display_name": "Python 3 (ipykernel)",
   "language": "python",
   "name": "python3"
  },
  "language_info": {
   "codemirror_mode": {
    "name": "ipython",
    "version": 3
   },
   "file_extension": ".py",
   "mimetype": "text/x-python",
   "name": "python",
   "nbconvert_exporter": "python",
   "pygments_lexer": "ipython3",
   "version": "3.12.6"
  }
 },
 "nbformat": 4,
 "nbformat_minor": 5
}
