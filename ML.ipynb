{
 "cells": [
  {
   "cell_type": "code",
   "execution_count": 3,
   "id": "initial_id",
   "metadata": {
    "ExecuteTime": {
     "end_time": "2024-11-02T16:52:35.226165Z",
     "start_time": "2024-11-02T16:52:35.208157Z"
    }
   },
   "outputs": [],
   "source": [
    "# -*- coding: utf-8 -*-\n",
    "#\n",
    "# Licensed under the Apache License, Version 2.0 (the \"License\");\n",
    "# you may not use this file except in compliance with the License.\n",
    "# You may obtain a copy of the License at\n",
    "#\n",
    "# http://www.apache.org/licenses/LICENSE-2.0\n",
    "#\n",
    "# Unless required by applicable law or agreed to in writing, software\n",
    "# distributed under the License is distributed on an \"AS IS\" BASIS,\n",
    "# WITHOUT WARRANTIES OR CONDITIONS OF ANY KIND, either express or\n",
    "# implied.\n",
    "# See the License for the specific language governing permissions and\n",
    "# limitations under the License."
   ]
  },
  {
   "cell_type": "code",
   "execution_count": 4,
   "id": "1c4107b5a0b33d80",
   "metadata": {
    "ExecuteTime": {
     "end_time": "2024-11-02T16:52:35.257267Z",
     "start_time": "2024-11-02T16:52:35.248268Z"
    }
   },
   "outputs": [],
   "source": [
    "import matplotlib.pyplot as plt\n",
    "import seaborn as sns\n",
    "import pandas as pd\n",
    "import numpy as np\n",
    "import scipy.stats as stats\n",
    "\n",
    "from sklearn.model_selection import train_test_split\n",
    "from sklearn.preprocessing import StandardScaler"
   ]
  },
  {
   "cell_type": "markdown",
   "id": "45bbb053c9bae402",
   "metadata": {},
   "source": [
    "# Fáza 2 - Predspracovanie údajov"
   ]
  },
  {
   "cell_type": "markdown",
   "id": "e18c52bf792ee494",
   "metadata": {},
   "source": [
    "## 2.1 Realizácia predspracovania dát"
   ]
  },
  {
   "cell_type": "markdown",
   "id": "75518738dde7a9b4",
   "metadata": {},
   "source": [
    "### A - Rozdelenia dát na trénovaciu a testovaciu množinu"
   ]
  },
  {
   "cell_type": "markdown",
   "id": "27f1812852d8a3fa",
   "metadata": {},
   "source": [
    "#### zlúčime potrebné dáta do jedného datasetu "
   ]
  },
  {
   "cell_type": "code",
   "execution_count": 5,
   "id": "3e107fbb9e838c7d",
   "metadata": {
    "ExecuteTime": {
     "end_time": "2024-11-02T16:52:35.335266Z",
     "start_time": "2024-11-02T16:52:35.278267Z"
    }
   },
   "outputs": [],
   "source": [
    "# loading datasets\n",
    "df_processes    = pd.read_csv(\"processes.csv\", sep='\\t')\n",
    "df_connections  = pd.read_csv(\"connections.csv\", sep='\\t')"
   ]
  },
  {
   "cell_type": "markdown",
   "id": "9cf8d0b876e60254",
   "metadata": {},
   "source": [
    "#### vyberieme si dáta, ktoré sme identifikovali v EDA"
   ]
  },
  {
   "cell_type": "code",
   "execution_count": 6,
   "id": "22eebc52440595f4",
   "metadata": {
    "ExecuteTime": {
     "end_time": "2024-11-02T16:52:35.350274Z",
     "start_time": "2024-11-02T16:52:35.336267Z"
    }
   },
   "outputs": [],
   "source": [
    "df_processes    = df_processes[[\"imei\", \"ts\", \"mwra\", \"p.android.gm\", \"p.android.documentsui\", \"p.system\", \"p.android.externalstorage\", \"p.android.settings\", \"p.android.chrome\"]]\n",
    "df_connections  = df_connections[[\"imei\", \"ts\", \"mwra\", \"c.katana\", \"c.dogalize\", \"c.android.chrome\", \"c.android.gm\"]]"
   ]
  },
  {
   "cell_type": "markdown",
   "id": "1462d1d95f6cca57",
   "metadata": {},
   "source": [
    "#### spojíme ich pomocou \"ts\" a \"imei\""
   ]
  },
  {
   "cell_type": "code",
   "execution_count": 7,
   "id": "98dc0f41b43eeabd",
   "metadata": {
    "ExecuteTime": {
     "end_time": "2024-11-02T16:52:35.365275Z",
     "start_time": "2024-11-02T16:52:35.351266Z"
    }
   },
   "outputs": [],
   "source": [
    "df = df_connections.merge(df_processes, on=['imei', 'ts'], how='outer')"
   ]
  },
  {
   "cell_type": "markdown",
   "id": "798b53c00b1d578d",
   "metadata": {},
   "source": [
    "#### Rozdelíme dáta v pomere 80:20 (trénovacia/testovacia množina). Tento pomer vychádza z predpokladu, že pri dostatočne veľkom množstve dát, máme pri rozdelení dostatok dát na trénovanie a efektívne učenie modelu, zatiaľ čo testovacia množina bude dostatočne veľká pre overenie modelu. Tento pomer je bežný a vhodný pre väčšinu úloh strojového učenia."
   ]
  },
  {
   "cell_type": "code",
   "execution_count": 8,
   "id": "5104e4369522cbf2",
   "metadata": {
    "ExecuteTime": {
     "end_time": "2024-11-02T16:52:35.381274Z",
     "start_time": "2024-11-02T16:52:35.366266Z"
    }
   },
   "outputs": [
    {
     "data": {
      "text/html": [
       "<div>\n",
       "<style scoped>\n",
       "    .dataframe tbody tr th:only-of-type {\n",
       "        vertical-align: middle;\n",
       "    }\n",
       "\n",
       "    .dataframe tbody tr th {\n",
       "        vertical-align: top;\n",
       "    }\n",
       "\n",
       "    .dataframe thead th {\n",
       "        text-align: right;\n",
       "    }\n",
       "</style>\n",
       "<table border=\"1\" class=\"dataframe\">\n",
       "  <thead>\n",
       "    <tr style=\"text-align: right;\">\n",
       "      <th></th>\n",
       "      <th>imei</th>\n",
       "      <th>ts</th>\n",
       "      <th>mwra_x</th>\n",
       "      <th>c.katana</th>\n",
       "      <th>c.dogalize</th>\n",
       "      <th>c.android.chrome</th>\n",
       "      <th>c.android.gm</th>\n",
       "      <th>mwra_y</th>\n",
       "      <th>p.android.gm</th>\n",
       "      <th>p.android.documentsui</th>\n",
       "      <th>p.system</th>\n",
       "      <th>p.android.externalstorage</th>\n",
       "      <th>p.android.settings</th>\n",
       "      <th>p.android.chrome</th>\n",
       "    </tr>\n",
       "  </thead>\n",
       "  <tbody>\n",
       "    <tr>\n",
       "      <th>4229</th>\n",
       "      <td>863033069630348354</td>\n",
       "      <td>2018-05-07 06:23:00</td>\n",
       "      <td>1.0</td>\n",
       "      <td>8.78526</td>\n",
       "      <td>12.97475</td>\n",
       "      <td>11.62351</td>\n",
       "      <td>14.41864</td>\n",
       "      <td>1.0</td>\n",
       "      <td>9.23972</td>\n",
       "      <td>10.43492</td>\n",
       "      <td>13.82551</td>\n",
       "      <td>9.86109</td>\n",
       "      <td>8.95921</td>\n",
       "      <td>11.39909</td>\n",
       "    </tr>\n",
       "    <tr>\n",
       "      <th>12572</th>\n",
       "      <td>8630330696303481545</td>\n",
       "      <td>2018-05-11 14:57:00</td>\n",
       "      <td>1.0</td>\n",
       "      <td>11.81607</td>\n",
       "      <td>14.66263</td>\n",
       "      <td>10.73155</td>\n",
       "      <td>14.21554</td>\n",
       "      <td>1.0</td>\n",
       "      <td>10.37842</td>\n",
       "      <td>10.42450</td>\n",
       "      <td>14.23429</td>\n",
       "      <td>14.15057</td>\n",
       "      <td>9.07541</td>\n",
       "      <td>11.87810</td>\n",
       "    </tr>\n",
       "    <tr>\n",
       "      <th>12930</th>\n",
       "      <td>8630330696303481669</td>\n",
       "      <td>2018-05-06 20:06:00</td>\n",
       "      <td>0.0</td>\n",
       "      <td>12.49268</td>\n",
       "      <td>13.38094</td>\n",
       "      <td>10.93373</td>\n",
       "      <td>14.18849</td>\n",
       "      <td>0.0</td>\n",
       "      <td>11.95766</td>\n",
       "      <td>6.47040</td>\n",
       "      <td>12.71239</td>\n",
       "      <td>9.86456</td>\n",
       "      <td>7.39561</td>\n",
       "      <td>10.22850</td>\n",
       "    </tr>\n",
       "    <tr>\n",
       "      <th>14497</th>\n",
       "      <td>8630330696303482196</td>\n",
       "      <td>2018-05-10 16:15:00</td>\n",
       "      <td>1.0</td>\n",
       "      <td>12.27976</td>\n",
       "      <td>13.40483</td>\n",
       "      <td>9.23485</td>\n",
       "      <td>15.58463</td>\n",
       "      <td>1.0</td>\n",
       "      <td>8.52524</td>\n",
       "      <td>13.52572</td>\n",
       "      <td>13.66325</td>\n",
       "      <td>10.38706</td>\n",
       "      <td>9.61267</td>\n",
       "      <td>9.97641</td>\n",
       "    </tr>\n",
       "    <tr>\n",
       "      <th>1347</th>\n",
       "      <td>359043379931766437</td>\n",
       "      <td>2018-05-14 23:22:00</td>\n",
       "      <td>0.0</td>\n",
       "      <td>13.17060</td>\n",
       "      <td>14.34610</td>\n",
       "      <td>9.63767</td>\n",
       "      <td>6.44279</td>\n",
       "      <td>0.0</td>\n",
       "      <td>12.37160</td>\n",
       "      <td>12.12072</td>\n",
       "      <td>13.74927</td>\n",
       "      <td>11.34104</td>\n",
       "      <td>9.44807</td>\n",
       "      <td>5.71597</td>\n",
       "    </tr>\n",
       "  </tbody>\n",
       "</table>\n",
       "</div>"
      ],
      "text/plain": [
       "                      imei                   ts  mwra_x  c.katana  c.dogalize  \\\n",
       "4229    863033069630348354  2018-05-07 06:23:00     1.0   8.78526    12.97475   \n",
       "12572  8630330696303481545  2018-05-11 14:57:00     1.0  11.81607    14.66263   \n",
       "12930  8630330696303481669  2018-05-06 20:06:00     0.0  12.49268    13.38094   \n",
       "14497  8630330696303482196  2018-05-10 16:15:00     1.0  12.27976    13.40483   \n",
       "1347    359043379931766437  2018-05-14 23:22:00     0.0  13.17060    14.34610   \n",
       "\n",
       "       c.android.chrome  c.android.gm  mwra_y  p.android.gm  \\\n",
       "4229           11.62351      14.41864     1.0       9.23972   \n",
       "12572          10.73155      14.21554     1.0      10.37842   \n",
       "12930          10.93373      14.18849     0.0      11.95766   \n",
       "14497           9.23485      15.58463     1.0       8.52524   \n",
       "1347            9.63767       6.44279     0.0      12.37160   \n",
       "\n",
       "       p.android.documentsui  p.system  p.android.externalstorage  \\\n",
       "4229                10.43492  13.82551                    9.86109   \n",
       "12572               10.42450  14.23429                   14.15057   \n",
       "12930                6.47040  12.71239                    9.86456   \n",
       "14497               13.52572  13.66325                   10.38706   \n",
       "1347                12.12072  13.74927                   11.34104   \n",
       "\n",
       "       p.android.settings  p.android.chrome  \n",
       "4229              8.95921          11.39909  \n",
       "12572             9.07541          11.87810  \n",
       "12930             7.39561          10.22850  \n",
       "14497             9.61267           9.97641  \n",
       "1347              9.44807           5.71597  "
      ]
     },
     "execution_count": 8,
     "metadata": {},
     "output_type": "execute_result"
    }
   ],
   "source": [
    "TRAIN = 0.8\n",
    "\n",
    "train_df, test_df = train_test_split(df, train_size=TRAIN, random_state=42)\n",
    "\n",
    "train_df.head()"
   ]
  },
  {
   "cell_type": "markdown",
   "id": "b313c1748c99b23c",
   "metadata": {},
   "source": [
    "#### ďalej pracujeme s trénovacím datasetom"
   ]
  },
  {
   "cell_type": "markdown",
   "id": "dd0ea680b9461d49",
   "metadata": {},
   "source": [
    "## B - Transformujeme dáta na vhodný formát pre ML"
   ]
  },
  {
   "cell_type": "code",
   "execution_count": 9,
   "id": "8a786088b8fd5517",
   "metadata": {
    "ExecuteTime": {
     "end_time": "2024-11-02T16:52:35.397274Z",
     "start_time": "2024-11-02T16:52:35.382266Z"
    }
   },
   "outputs": [
    {
     "name": "stdout",
     "output_type": "stream",
     "text": [
      "Shape: 12331 rows, 14 columns\n",
      "Duplicates: 378\n"
     ]
    },
    {
     "data": {
      "text/html": [
       "<div>\n",
       "<style scoped>\n",
       "    .dataframe tbody tr th:only-of-type {\n",
       "        vertical-align: middle;\n",
       "    }\n",
       "\n",
       "    .dataframe tbody tr th {\n",
       "        vertical-align: top;\n",
       "    }\n",
       "\n",
       "    .dataframe thead th {\n",
       "        text-align: right;\n",
       "    }\n",
       "</style>\n",
       "<table border=\"1\" class=\"dataframe\">\n",
       "  <thead>\n",
       "    <tr style=\"text-align: right;\">\n",
       "      <th></th>\n",
       "      <th>Missing Values</th>\n",
       "      <th>Data Type</th>\n",
       "    </tr>\n",
       "  </thead>\n",
       "  <tbody>\n",
       "    <tr>\n",
       "      <th>imei</th>\n",
       "      <td>0</td>\n",
       "      <td>int64</td>\n",
       "    </tr>\n",
       "    <tr>\n",
       "      <th>ts</th>\n",
       "      <td>0</td>\n",
       "      <td>object</td>\n",
       "    </tr>\n",
       "    <tr>\n",
       "      <th>mwra_x</th>\n",
       "      <td>0</td>\n",
       "      <td>float64</td>\n",
       "    </tr>\n",
       "    <tr>\n",
       "      <th>c.katana</th>\n",
       "      <td>0</td>\n",
       "      <td>float64</td>\n",
       "    </tr>\n",
       "    <tr>\n",
       "      <th>c.dogalize</th>\n",
       "      <td>0</td>\n",
       "      <td>float64</td>\n",
       "    </tr>\n",
       "    <tr>\n",
       "      <th>c.android.chrome</th>\n",
       "      <td>0</td>\n",
       "      <td>float64</td>\n",
       "    </tr>\n",
       "    <tr>\n",
       "      <th>c.android.gm</th>\n",
       "      <td>0</td>\n",
       "      <td>float64</td>\n",
       "    </tr>\n",
       "    <tr>\n",
       "      <th>mwra_y</th>\n",
       "      <td>0</td>\n",
       "      <td>float64</td>\n",
       "    </tr>\n",
       "    <tr>\n",
       "      <th>p.android.gm</th>\n",
       "      <td>0</td>\n",
       "      <td>float64</td>\n",
       "    </tr>\n",
       "    <tr>\n",
       "      <th>p.android.documentsui</th>\n",
       "      <td>0</td>\n",
       "      <td>float64</td>\n",
       "    </tr>\n",
       "    <tr>\n",
       "      <th>p.system</th>\n",
       "      <td>0</td>\n",
       "      <td>float64</td>\n",
       "    </tr>\n",
       "    <tr>\n",
       "      <th>p.android.externalstorage</th>\n",
       "      <td>0</td>\n",
       "      <td>float64</td>\n",
       "    </tr>\n",
       "    <tr>\n",
       "      <th>p.android.settings</th>\n",
       "      <td>0</td>\n",
       "      <td>float64</td>\n",
       "    </tr>\n",
       "    <tr>\n",
       "      <th>p.android.chrome</th>\n",
       "      <td>0</td>\n",
       "      <td>float64</td>\n",
       "    </tr>\n",
       "  </tbody>\n",
       "</table>\n",
       "</div>"
      ],
      "text/plain": [
       "                           Missing Values Data Type\n",
       "imei                                    0     int64\n",
       "ts                                      0    object\n",
       "mwra_x                                  0   float64\n",
       "c.katana                                0   float64\n",
       "c.dogalize                              0   float64\n",
       "c.android.chrome                        0   float64\n",
       "c.android.gm                            0   float64\n",
       "mwra_y                                  0   float64\n",
       "p.android.gm                            0   float64\n",
       "p.android.documentsui                   0   float64\n",
       "p.system                                0   float64\n",
       "p.android.externalstorage               0   float64\n",
       "p.android.settings                      0   float64\n",
       "p.android.chrome                        0   float64"
      ]
     },
     "metadata": {},
     "output_type": "display_data"
    }
   ],
   "source": [
    "# better info()\n",
    "def analyze_dataframe(the_df):\n",
    "    table = pd.DataFrame({\n",
    "        'Missing Values': the_df.isnull().sum(),\n",
    "        'Data Type': the_df.dtypes\n",
    "    })\n",
    "\n",
    "    rows, columns = the_df.shape\n",
    "    duplicates = the_df.duplicated().sum()\n",
    "\n",
    "    print(f\"Shape: {rows} rows, {columns} columns\")\n",
    "    print(f\"Duplicates: {duplicates}\")\n",
    "\n",
    "    display(table)\n",
    "    \n",
    "analyze_dataframe(train_df)"
   ]
  },
  {
   "cell_type": "code",
   "execution_count": 10,
   "id": "685a335b2c5b7366",
   "metadata": {
    "ExecuteTime": {
     "end_time": "2024-11-02T16:52:35.413266Z",
     "start_time": "2024-11-02T16:52:35.397274Z"
    }
   },
   "outputs": [
    {
     "name": "stdout",
     "output_type": "stream",
     "text": [
      "Matched: 12331, Not matched: 0\n"
     ]
    }
   ],
   "source": [
    "matches = (train_df['mwra_x'] == train_df['mwra_y']).sum()\n",
    "not_matches = len(train_df) - matches\n",
    "\n",
    "print(f\"Matched: {matches}, Not matched: {not_matches}\")"
   ]
  },
  {
   "cell_type": "markdown",
   "id": "73cf9b7fc4c67895",
   "metadata": {},
   "source": [
    "#### môžeme vymazať dáta, pomocou ktorých sme spájali datasety do jedného, t.j. nepotrebné stĺpce: ts, mrwa_y + premenujeme mwra_x na mwra"
   ]
  },
  {
   "cell_type": "code",
   "execution_count": 11,
   "id": "517e0120f5e35379",
   "metadata": {
    "ExecuteTime": {
     "end_time": "2024-11-02T16:52:35.429274Z",
     "start_time": "2024-11-02T16:52:35.414266Z"
    }
   },
   "outputs": [
    {
     "data": {
      "text/html": [
       "<div>\n",
       "<style scoped>\n",
       "    .dataframe tbody tr th:only-of-type {\n",
       "        vertical-align: middle;\n",
       "    }\n",
       "\n",
       "    .dataframe tbody tr th {\n",
       "        vertical-align: top;\n",
       "    }\n",
       "\n",
       "    .dataframe thead th {\n",
       "        text-align: right;\n",
       "    }\n",
       "</style>\n",
       "<table border=\"1\" class=\"dataframe\">\n",
       "  <thead>\n",
       "    <tr style=\"text-align: right;\">\n",
       "      <th></th>\n",
       "      <th>imei</th>\n",
       "      <th>mwra</th>\n",
       "      <th>c.katana</th>\n",
       "      <th>c.dogalize</th>\n",
       "      <th>c.android.chrome</th>\n",
       "      <th>c.android.gm</th>\n",
       "      <th>p.android.gm</th>\n",
       "      <th>p.android.documentsui</th>\n",
       "      <th>p.system</th>\n",
       "      <th>p.android.externalstorage</th>\n",
       "      <th>p.android.settings</th>\n",
       "      <th>p.android.chrome</th>\n",
       "    </tr>\n",
       "  </thead>\n",
       "  <tbody>\n",
       "    <tr>\n",
       "      <th>4229</th>\n",
       "      <td>863033069630348354</td>\n",
       "      <td>1.0</td>\n",
       "      <td>8.78526</td>\n",
       "      <td>12.97475</td>\n",
       "      <td>11.62351</td>\n",
       "      <td>14.41864</td>\n",
       "      <td>9.23972</td>\n",
       "      <td>10.43492</td>\n",
       "      <td>13.82551</td>\n",
       "      <td>9.86109</td>\n",
       "      <td>8.95921</td>\n",
       "      <td>11.39909</td>\n",
       "    </tr>\n",
       "    <tr>\n",
       "      <th>12572</th>\n",
       "      <td>8630330696303481545</td>\n",
       "      <td>1.0</td>\n",
       "      <td>11.81607</td>\n",
       "      <td>14.66263</td>\n",
       "      <td>10.73155</td>\n",
       "      <td>14.21554</td>\n",
       "      <td>10.37842</td>\n",
       "      <td>10.42450</td>\n",
       "      <td>14.23429</td>\n",
       "      <td>14.15057</td>\n",
       "      <td>9.07541</td>\n",
       "      <td>11.87810</td>\n",
       "    </tr>\n",
       "    <tr>\n",
       "      <th>12930</th>\n",
       "      <td>8630330696303481669</td>\n",
       "      <td>0.0</td>\n",
       "      <td>12.49268</td>\n",
       "      <td>13.38094</td>\n",
       "      <td>10.93373</td>\n",
       "      <td>14.18849</td>\n",
       "      <td>11.95766</td>\n",
       "      <td>6.47040</td>\n",
       "      <td>12.71239</td>\n",
       "      <td>9.86456</td>\n",
       "      <td>7.39561</td>\n",
       "      <td>10.22850</td>\n",
       "    </tr>\n",
       "    <tr>\n",
       "      <th>14497</th>\n",
       "      <td>8630330696303482196</td>\n",
       "      <td>1.0</td>\n",
       "      <td>12.27976</td>\n",
       "      <td>13.40483</td>\n",
       "      <td>9.23485</td>\n",
       "      <td>15.58463</td>\n",
       "      <td>8.52524</td>\n",
       "      <td>13.52572</td>\n",
       "      <td>13.66325</td>\n",
       "      <td>10.38706</td>\n",
       "      <td>9.61267</td>\n",
       "      <td>9.97641</td>\n",
       "    </tr>\n",
       "    <tr>\n",
       "      <th>1347</th>\n",
       "      <td>359043379931766437</td>\n",
       "      <td>0.0</td>\n",
       "      <td>13.17060</td>\n",
       "      <td>14.34610</td>\n",
       "      <td>9.63767</td>\n",
       "      <td>6.44279</td>\n",
       "      <td>12.37160</td>\n",
       "      <td>12.12072</td>\n",
       "      <td>13.74927</td>\n",
       "      <td>11.34104</td>\n",
       "      <td>9.44807</td>\n",
       "      <td>5.71597</td>\n",
       "    </tr>\n",
       "  </tbody>\n",
       "</table>\n",
       "</div>"
      ],
      "text/plain": [
       "                      imei  mwra  c.katana  c.dogalize  c.android.chrome  \\\n",
       "4229    863033069630348354   1.0   8.78526    12.97475          11.62351   \n",
       "12572  8630330696303481545   1.0  11.81607    14.66263          10.73155   \n",
       "12930  8630330696303481669   0.0  12.49268    13.38094          10.93373   \n",
       "14497  8630330696303482196   1.0  12.27976    13.40483           9.23485   \n",
       "1347    359043379931766437   0.0  13.17060    14.34610           9.63767   \n",
       "\n",
       "       c.android.gm  p.android.gm  p.android.documentsui  p.system  \\\n",
       "4229       14.41864       9.23972               10.43492  13.82551   \n",
       "12572      14.21554      10.37842               10.42450  14.23429   \n",
       "12930      14.18849      11.95766                6.47040  12.71239   \n",
       "14497      15.58463       8.52524               13.52572  13.66325   \n",
       "1347        6.44279      12.37160               12.12072  13.74927   \n",
       "\n",
       "       p.android.externalstorage  p.android.settings  p.android.chrome  \n",
       "4229                     9.86109             8.95921          11.39909  \n",
       "12572                   14.15057             9.07541          11.87810  \n",
       "12930                    9.86456             7.39561          10.22850  \n",
       "14497                   10.38706             9.61267           9.97641  \n",
       "1347                    11.34104             9.44807           5.71597  "
      ]
     },
     "execution_count": 11,
     "metadata": {},
     "output_type": "execute_result"
    }
   ],
   "source": [
    "train_df = train_df.drop(columns=['ts', 'mwra_y'], errors='ignore')\n",
    "train_df = train_df.rename(columns={'mwra_x': 'mwra'})\n",
    "\n",
    "train_df.head()"
   ]
  },
  {
   "cell_type": "code",
   "execution_count": 12,
   "id": "f8529fa15c1b36ee",
   "metadata": {
    "ExecuteTime": {
     "end_time": "2024-11-02T16:52:35.461275Z",
     "start_time": "2024-11-02T16:52:35.430267Z"
    }
   },
   "outputs": [
    {
     "data": {
      "text/html": [
       "<div>\n",
       "<style scoped>\n",
       "    .dataframe tbody tr th:only-of-type {\n",
       "        vertical-align: middle;\n",
       "    }\n",
       "\n",
       "    .dataframe tbody tr th {\n",
       "        vertical-align: top;\n",
       "    }\n",
       "\n",
       "    .dataframe thead th {\n",
       "        text-align: right;\n",
       "    }\n",
       "</style>\n",
       "<table border=\"1\" class=\"dataframe\">\n",
       "  <thead>\n",
       "    <tr style=\"text-align: right;\">\n",
       "      <th></th>\n",
       "      <th>imei</th>\n",
       "      <th>mwra</th>\n",
       "      <th>c.katana</th>\n",
       "      <th>c.dogalize</th>\n",
       "      <th>c.android.chrome</th>\n",
       "      <th>c.android.gm</th>\n",
       "      <th>p.android.gm</th>\n",
       "      <th>p.android.documentsui</th>\n",
       "      <th>p.system</th>\n",
       "      <th>p.android.externalstorage</th>\n",
       "      <th>p.android.settings</th>\n",
       "      <th>p.android.chrome</th>\n",
       "    </tr>\n",
       "  </thead>\n",
       "  <tbody>\n",
       "    <tr>\n",
       "      <th>count</th>\n",
       "      <td>1.233100e+04</td>\n",
       "      <td>12331.000000</td>\n",
       "      <td>12331.000000</td>\n",
       "      <td>12331.000000</td>\n",
       "      <td>12331.000000</td>\n",
       "      <td>12331.000000</td>\n",
       "      <td>12331.000000</td>\n",
       "      <td>12331.000000</td>\n",
       "      <td>12331.000000</td>\n",
       "      <td>12331.000000</td>\n",
       "      <td>12331.000000</td>\n",
       "      <td>12331.000000</td>\n",
       "    </tr>\n",
       "    <tr>\n",
       "      <th>mean</th>\n",
       "      <td>3.879585e+18</td>\n",
       "      <td>0.625497</td>\n",
       "      <td>10.016101</td>\n",
       "      <td>11.181063</td>\n",
       "      <td>11.023363</td>\n",
       "      <td>10.554946</td>\n",
       "      <td>9.983216</td>\n",
       "      <td>9.391937</td>\n",
       "      <td>11.163586</td>\n",
       "      <td>11.713024</td>\n",
       "      <td>9.893613</td>\n",
       "      <td>9.894593</td>\n",
       "    </tr>\n",
       "    <tr>\n",
       "      <th>std</th>\n",
       "      <td>3.327328e+18</td>\n",
       "      <td>0.484014</td>\n",
       "      <td>2.575195</td>\n",
       "      <td>2.654335</td>\n",
       "      <td>2.710526</td>\n",
       "      <td>2.719858</td>\n",
       "      <td>2.763540</td>\n",
       "      <td>2.365531</td>\n",
       "      <td>2.310111</td>\n",
       "      <td>2.393699</td>\n",
       "      <td>2.484082</td>\n",
       "      <td>2.569458</td>\n",
       "    </tr>\n",
       "    <tr>\n",
       "      <th>min</th>\n",
       "      <td>3.590434e+17</td>\n",
       "      <td>0.000000</td>\n",
       "      <td>1.384790</td>\n",
       "      <td>1.802460</td>\n",
       "      <td>1.264880</td>\n",
       "      <td>1.730240</td>\n",
       "      <td>0.000000</td>\n",
       "      <td>2.551400</td>\n",
       "      <td>3.050450</td>\n",
       "      <td>3.463510</td>\n",
       "      <td>2.010490</td>\n",
       "      <td>0.879270</td>\n",
       "    </tr>\n",
       "    <tr>\n",
       "      <th>25%</th>\n",
       "      <td>8.630331e+17</td>\n",
       "      <td>0.000000</td>\n",
       "      <td>8.142165</td>\n",
       "      <td>9.318645</td>\n",
       "      <td>9.125685</td>\n",
       "      <td>8.564910</td>\n",
       "      <td>8.058725</td>\n",
       "      <td>7.785910</td>\n",
       "      <td>9.436415</td>\n",
       "      <td>10.088205</td>\n",
       "      <td>8.058810</td>\n",
       "      <td>8.041820</td>\n",
       "    </tr>\n",
       "    <tr>\n",
       "      <th>50%</th>\n",
       "      <td>3.590434e+18</td>\n",
       "      <td>1.000000</td>\n",
       "      <td>9.860910</td>\n",
       "      <td>11.288090</td>\n",
       "      <td>11.078720</td>\n",
       "      <td>10.437770</td>\n",
       "      <td>9.873050</td>\n",
       "      <td>9.194260</td>\n",
       "      <td>11.329550</td>\n",
       "      <td>11.815800</td>\n",
       "      <td>9.817520</td>\n",
       "      <td>9.922110</td>\n",
       "    </tr>\n",
       "    <tr>\n",
       "      <th>75%</th>\n",
       "      <td>8.630331e+18</td>\n",
       "      <td>1.000000</td>\n",
       "      <td>11.811615</td>\n",
       "      <td>13.057150</td>\n",
       "      <td>12.950765</td>\n",
       "      <td>12.511710</td>\n",
       "      <td>11.911765</td>\n",
       "      <td>10.726015</td>\n",
       "      <td>12.900690</td>\n",
       "      <td>13.396400</td>\n",
       "      <td>11.804595</td>\n",
       "      <td>11.820470</td>\n",
       "    </tr>\n",
       "    <tr>\n",
       "      <th>max</th>\n",
       "      <td>8.630331e+18</td>\n",
       "      <td>1.000000</td>\n",
       "      <td>19.064650</td>\n",
       "      <td>21.522060</td>\n",
       "      <td>20.710650</td>\n",
       "      <td>20.883650</td>\n",
       "      <td>20.563610</td>\n",
       "      <td>20.220660</td>\n",
       "      <td>18.999150</td>\n",
       "      <td>20.060160</td>\n",
       "      <td>18.162090</td>\n",
       "      <td>17.910570</td>\n",
       "    </tr>\n",
       "  </tbody>\n",
       "</table>\n",
       "</div>"
      ],
      "text/plain": [
       "               imei          mwra      c.katana    c.dogalize  \\\n",
       "count  1.233100e+04  12331.000000  12331.000000  12331.000000   \n",
       "mean   3.879585e+18      0.625497     10.016101     11.181063   \n",
       "std    3.327328e+18      0.484014      2.575195      2.654335   \n",
       "min    3.590434e+17      0.000000      1.384790      1.802460   \n",
       "25%    8.630331e+17      0.000000      8.142165      9.318645   \n",
       "50%    3.590434e+18      1.000000      9.860910     11.288090   \n",
       "75%    8.630331e+18      1.000000     11.811615     13.057150   \n",
       "max    8.630331e+18      1.000000     19.064650     21.522060   \n",
       "\n",
       "       c.android.chrome  c.android.gm  p.android.gm  p.android.documentsui  \\\n",
       "count      12331.000000  12331.000000  12331.000000           12331.000000   \n",
       "mean          11.023363     10.554946      9.983216               9.391937   \n",
       "std            2.710526      2.719858      2.763540               2.365531   \n",
       "min            1.264880      1.730240      0.000000               2.551400   \n",
       "25%            9.125685      8.564910      8.058725               7.785910   \n",
       "50%           11.078720     10.437770      9.873050               9.194260   \n",
       "75%           12.950765     12.511710     11.911765              10.726015   \n",
       "max           20.710650     20.883650     20.563610              20.220660   \n",
       "\n",
       "           p.system  p.android.externalstorage  p.android.settings  \\\n",
       "count  12331.000000               12331.000000        12331.000000   \n",
       "mean      11.163586                  11.713024            9.893613   \n",
       "std        2.310111                   2.393699            2.484082   \n",
       "min        3.050450                   3.463510            2.010490   \n",
       "25%        9.436415                  10.088205            8.058810   \n",
       "50%       11.329550                  11.815800            9.817520   \n",
       "75%       12.900690                  13.396400           11.804595   \n",
       "max       18.999150                  20.060160           18.162090   \n",
       "\n",
       "       p.android.chrome  \n",
       "count      12331.000000  \n",
       "mean           9.894593  \n",
       "std            2.569458  \n",
       "min            0.879270  \n",
       "25%            8.041820  \n",
       "50%            9.922110  \n",
       "75%           11.820470  \n",
       "max           17.910570  "
      ]
     },
     "execution_count": 12,
     "metadata": {},
     "output_type": "execute_result"
    }
   ],
   "source": [
    "train_df.describe()"
   ]
  },
  {
   "cell_type": "code",
   "execution_count": 13,
   "id": "6014a7bb8eb22148",
   "metadata": {
    "ExecuteTime": {
     "end_time": "2024-11-02T16:52:35.509334Z",
     "start_time": "2024-11-02T16:52:35.462267Z"
    }
   },
   "outputs": [
    {
     "data": {
      "text/html": [
       "<div>\n",
       "<style scoped>\n",
       "    .dataframe tbody tr th:only-of-type {\n",
       "        vertical-align: middle;\n",
       "    }\n",
       "\n",
       "    .dataframe tbody tr th {\n",
       "        vertical-align: top;\n",
       "    }\n",
       "\n",
       "    .dataframe thead th {\n",
       "        text-align: right;\n",
       "    }\n",
       "</style>\n",
       "<table border=\"1\" class=\"dataframe\">\n",
       "  <thead>\n",
       "    <tr style=\"text-align: right;\">\n",
       "      <th></th>\n",
       "      <th>imei</th>\n",
       "      <th>mwra</th>\n",
       "      <th>c.katana</th>\n",
       "      <th>c.dogalize</th>\n",
       "      <th>c.android.chrome</th>\n",
       "      <th>c.android.gm</th>\n",
       "      <th>p.android.gm</th>\n",
       "      <th>p.android.documentsui</th>\n",
       "      <th>p.system</th>\n",
       "      <th>p.android.externalstorage</th>\n",
       "      <th>p.android.settings</th>\n",
       "      <th>p.android.chrome</th>\n",
       "    </tr>\n",
       "  </thead>\n",
       "  <tbody>\n",
       "    <tr>\n",
       "      <th>count</th>\n",
       "      <td>1.233100e+04</td>\n",
       "      <td>12331.000000</td>\n",
       "      <td>12331.000000</td>\n",
       "      <td>12331.000000</td>\n",
       "      <td>12331.000000</td>\n",
       "      <td>12331.000000</td>\n",
       "      <td>12331.000000</td>\n",
       "      <td>12331.000000</td>\n",
       "      <td>12331.000000</td>\n",
       "      <td>12331.000000</td>\n",
       "      <td>12331.000000</td>\n",
       "      <td>12331.000000</td>\n",
       "    </tr>\n",
       "    <tr>\n",
       "      <th>mean</th>\n",
       "      <td>3.879585e+18</td>\n",
       "      <td>0.625497</td>\n",
       "      <td>10.013604</td>\n",
       "      <td>11.181681</td>\n",
       "      <td>11.024570</td>\n",
       "      <td>10.552272</td>\n",
       "      <td>9.992341</td>\n",
       "      <td>9.367600</td>\n",
       "      <td>11.162490</td>\n",
       "      <td>11.713670</td>\n",
       "      <td>9.899836</td>\n",
       "      <td>9.902847</td>\n",
       "    </tr>\n",
       "    <tr>\n",
       "      <th>std</th>\n",
       "      <td>3.327328e+18</td>\n",
       "      <td>0.484014</td>\n",
       "      <td>2.384562</td>\n",
       "      <td>2.459327</td>\n",
       "      <td>2.493326</td>\n",
       "      <td>2.518698</td>\n",
       "      <td>2.538359</td>\n",
       "      <td>2.130225</td>\n",
       "      <td>2.161509</td>\n",
       "      <td>2.216309</td>\n",
       "      <td>2.326487</td>\n",
       "      <td>2.401040</td>\n",
       "    </tr>\n",
       "    <tr>\n",
       "      <th>min</th>\n",
       "      <td>3.590434e+17</td>\n",
       "      <td>0.000000</td>\n",
       "      <td>6.027955</td>\n",
       "      <td>6.676590</td>\n",
       "      <td>6.556425</td>\n",
       "      <td>6.307330</td>\n",
       "      <td>5.588090</td>\n",
       "      <td>5.869540</td>\n",
       "      <td>7.264380</td>\n",
       "      <td>7.619215</td>\n",
       "      <td>5.901755</td>\n",
       "      <td>5.647485</td>\n",
       "    </tr>\n",
       "    <tr>\n",
       "      <th>25%</th>\n",
       "      <td>8.630331e+17</td>\n",
       "      <td>0.000000</td>\n",
       "      <td>8.142165</td>\n",
       "      <td>9.318645</td>\n",
       "      <td>9.125685</td>\n",
       "      <td>8.564910</td>\n",
       "      <td>8.058725</td>\n",
       "      <td>7.785910</td>\n",
       "      <td>9.436415</td>\n",
       "      <td>10.088205</td>\n",
       "      <td>8.058810</td>\n",
       "      <td>8.041820</td>\n",
       "    </tr>\n",
       "    <tr>\n",
       "      <th>50%</th>\n",
       "      <td>3.590434e+18</td>\n",
       "      <td>1.000000</td>\n",
       "      <td>9.860910</td>\n",
       "      <td>11.288090</td>\n",
       "      <td>11.078720</td>\n",
       "      <td>10.437770</td>\n",
       "      <td>9.873050</td>\n",
       "      <td>9.194260</td>\n",
       "      <td>11.329550</td>\n",
       "      <td>11.815800</td>\n",
       "      <td>9.817520</td>\n",
       "      <td>9.922110</td>\n",
       "    </tr>\n",
       "    <tr>\n",
       "      <th>75%</th>\n",
       "      <td>8.630331e+18</td>\n",
       "      <td>1.000000</td>\n",
       "      <td>11.811615</td>\n",
       "      <td>13.057150</td>\n",
       "      <td>12.950765</td>\n",
       "      <td>12.511710</td>\n",
       "      <td>11.911765</td>\n",
       "      <td>10.726015</td>\n",
       "      <td>12.900690</td>\n",
       "      <td>13.396400</td>\n",
       "      <td>11.804595</td>\n",
       "      <td>11.820470</td>\n",
       "    </tr>\n",
       "    <tr>\n",
       "      <th>max</th>\n",
       "      <td>8.630331e+18</td>\n",
       "      <td>1.000000</td>\n",
       "      <td>14.458730</td>\n",
       "      <td>15.382915</td>\n",
       "      <td>15.342235</td>\n",
       "      <td>15.108480</td>\n",
       "      <td>14.617650</td>\n",
       "      <td>13.772555</td>\n",
       "      <td>14.690100</td>\n",
       "      <td>15.494580</td>\n",
       "      <td>13.889490</td>\n",
       "      <td>13.962900</td>\n",
       "    </tr>\n",
       "  </tbody>\n",
       "</table>\n",
       "</div>"
      ],
      "text/plain": [
       "               imei          mwra      c.katana    c.dogalize  \\\n",
       "count  1.233100e+04  12331.000000  12331.000000  12331.000000   \n",
       "mean   3.879585e+18      0.625497     10.013604     11.181681   \n",
       "std    3.327328e+18      0.484014      2.384562      2.459327   \n",
       "min    3.590434e+17      0.000000      6.027955      6.676590   \n",
       "25%    8.630331e+17      0.000000      8.142165      9.318645   \n",
       "50%    3.590434e+18      1.000000      9.860910     11.288090   \n",
       "75%    8.630331e+18      1.000000     11.811615     13.057150   \n",
       "max    8.630331e+18      1.000000     14.458730     15.382915   \n",
       "\n",
       "       c.android.chrome  c.android.gm  p.android.gm  p.android.documentsui  \\\n",
       "count      12331.000000  12331.000000  12331.000000           12331.000000   \n",
       "mean          11.024570     10.552272      9.992341               9.367600   \n",
       "std            2.493326      2.518698      2.538359               2.130225   \n",
       "min            6.556425      6.307330      5.588090               5.869540   \n",
       "25%            9.125685      8.564910      8.058725               7.785910   \n",
       "50%           11.078720     10.437770      9.873050               9.194260   \n",
       "75%           12.950765     12.511710     11.911765              10.726015   \n",
       "max           15.342235     15.108480     14.617650              13.772555   \n",
       "\n",
       "           p.system  p.android.externalstorage  p.android.settings  \\\n",
       "count  12331.000000               12331.000000        12331.000000   \n",
       "mean      11.162490                  11.713670            9.899836   \n",
       "std        2.161509                   2.216309            2.326487   \n",
       "min        7.264380                   7.619215            5.901755   \n",
       "25%        9.436415                  10.088205            8.058810   \n",
       "50%       11.329550                  11.815800            9.817520   \n",
       "75%       12.900690                  13.396400           11.804595   \n",
       "max       14.690100                  15.494580           13.889490   \n",
       "\n",
       "       p.android.chrome  \n",
       "count      12331.000000  \n",
       "mean           9.902847  \n",
       "std            2.401040  \n",
       "min            5.647485  \n",
       "25%            8.041820  \n",
       "50%            9.922110  \n",
       "75%           11.820470  \n",
       "max           13.962900  "
      ]
     },
     "execution_count": 13,
     "metadata": {},
     "output_type": "execute_result"
    }
   ],
   "source": [
    "def remove_outlier(the_df, the_column):\n",
    "    if the_column in ['imei', 'mwra']:\n",
    "        return the_df\n",
    "    \n",
    "    lower_bound = the_df[the_column].quantile(0.05)\n",
    "    upper_bound = the_df[the_column].quantile(0.95)\n",
    "\n",
    "    outlier_mask = (the_df[the_column] > upper_bound) | (the_df[the_column] < lower_bound)\n",
    "\n",
    "    the_df.loc[outlier_mask, the_column] = np.where(\n",
    "        the_df.loc[outlier_mask, the_column] < lower_bound,\n",
    "        lower_bound,\n",
    "        upper_bound\n",
    "    )\n",
    "    return the_df\n",
    "\n",
    "for column in train_df.columns:\n",
    "    train_df = remove_outlier(train_df, column)\n",
    "\n",
    "train_df.describe()\n"
   ]
  },
  {
   "cell_type": "markdown",
   "id": "4cbf1045d967d3c",
   "metadata": {},
   "source": [
    "#### aplikovali sme vymazanie odľahlích hodnôt na všetky stĺpce v trénovacej množine, pričom sme použili percentyl 5 a 95, z dôvodu zachovania normálnych hodnôt, no vyradzujeme extrémne hodnoty na oboch stranách"
   ]
  },
  {
   "cell_type": "code",
   "execution_count": 14,
   "id": "3833b1489e6886df",
   "metadata": {
    "ExecuteTime": {
     "end_time": "2024-11-02T16:52:35.525335Z",
     "start_time": "2024-11-02T16:52:35.510317Z"
    }
   },
   "outputs": [],
   "source": [
    "def handle_missing_values(the_df):\n",
    "    for column in the_df.columns:\n",
    "        if the_df[column].isnull().sum() > 0:\n",
    "            median_value = the_df[column].median()\n",
    "            the_df[column].fillna(median_value, inplace=True)\n",
    "            # df.dropna(inplace=True)\n",
    "    return the_df"
   ]
  },
  {
   "cell_type": "markdown",
   "id": "3cd1d25efad191cf",
   "metadata": {},
   "source": [
    "#### vytvorili sme funkciu na nahradenie missing values pre každý riadok"
   ]
  },
  {
   "cell_type": "code",
   "execution_count": 15,
   "id": "986f145a33aba3e0",
   "metadata": {
    "ExecuteTime": {
     "end_time": "2024-11-02T16:52:35.618295Z",
     "start_time": "2024-11-02T16:52:35.613324Z"
    }
   },
   "outputs": [],
   "source": [
    "def normalize_data(the_df):    \n",
    "    scaler = StandardScaler()\n",
    "    numeric_columns = the_df.select_dtypes(include=['float64', 'int64']).columns\n",
    "    the_df[numeric_columns] = scaler.fit_transform(the_df[numeric_columns])\n",
    "    return the_df"
   ]
  },
  {
   "cell_type": "markdown",
   "id": "9be08c76cef809a3",
   "metadata": {},
   "source": [
    "#### takisto pre normalizáciu dát"
   ]
  },
  {
   "cell_type": "code",
   "execution_count": 16,
   "id": "564924b45663e969",
   "metadata": {
    "ExecuteTime": {
     "end_time": "2024-11-02T16:52:35.697330Z",
     "start_time": "2024-11-02T16:52:35.686334Z"
    }
   },
   "outputs": [],
   "source": [
    "def remove_duplicates(the_df):\n",
    "    the_df = the_df.drop_duplicates()\n",
    "    return the_df"
   ]
  },
  {
   "cell_type": "markdown",
   "id": "635233e25bb34eb9",
   "metadata": {},
   "source": [
    "#### a aj na odstránenie duplikátov, ktoré potom aplikujeme na trénovaciu množinu"
   ]
  },
  {
   "cell_type": "code",
   "execution_count": 17,
   "id": "86f3a7645682911",
   "metadata": {
    "ExecuteTime": {
     "end_time": "2024-11-02T16:52:35.854331Z",
     "start_time": "2024-11-02T16:52:35.812302Z"
    }
   },
   "outputs": [
    {
     "name": "stdout",
     "output_type": "stream",
     "text": [
      "Shape: 11953 rows, 12 columns\n",
      "Duplicates: 0\n"
     ]
    },
    {
     "data": {
      "text/html": [
       "<div>\n",
       "<style scoped>\n",
       "    .dataframe tbody tr th:only-of-type {\n",
       "        vertical-align: middle;\n",
       "    }\n",
       "\n",
       "    .dataframe tbody tr th {\n",
       "        vertical-align: top;\n",
       "    }\n",
       "\n",
       "    .dataframe thead th {\n",
       "        text-align: right;\n",
       "    }\n",
       "</style>\n",
       "<table border=\"1\" class=\"dataframe\">\n",
       "  <thead>\n",
       "    <tr style=\"text-align: right;\">\n",
       "      <th></th>\n",
       "      <th>Missing Values</th>\n",
       "      <th>Data Type</th>\n",
       "    </tr>\n",
       "  </thead>\n",
       "  <tbody>\n",
       "    <tr>\n",
       "      <th>imei</th>\n",
       "      <td>0</td>\n",
       "      <td>float64</td>\n",
       "    </tr>\n",
       "    <tr>\n",
       "      <th>mwra</th>\n",
       "      <td>0</td>\n",
       "      <td>float64</td>\n",
       "    </tr>\n",
       "    <tr>\n",
       "      <th>c.katana</th>\n",
       "      <td>0</td>\n",
       "      <td>float64</td>\n",
       "    </tr>\n",
       "    <tr>\n",
       "      <th>c.dogalize</th>\n",
       "      <td>0</td>\n",
       "      <td>float64</td>\n",
       "    </tr>\n",
       "    <tr>\n",
       "      <th>c.android.chrome</th>\n",
       "      <td>0</td>\n",
       "      <td>float64</td>\n",
       "    </tr>\n",
       "    <tr>\n",
       "      <th>c.android.gm</th>\n",
       "      <td>0</td>\n",
       "      <td>float64</td>\n",
       "    </tr>\n",
       "    <tr>\n",
       "      <th>p.android.gm</th>\n",
       "      <td>0</td>\n",
       "      <td>float64</td>\n",
       "    </tr>\n",
       "    <tr>\n",
       "      <th>p.android.documentsui</th>\n",
       "      <td>0</td>\n",
       "      <td>float64</td>\n",
       "    </tr>\n",
       "    <tr>\n",
       "      <th>p.system</th>\n",
       "      <td>0</td>\n",
       "      <td>float64</td>\n",
       "    </tr>\n",
       "    <tr>\n",
       "      <th>p.android.externalstorage</th>\n",
       "      <td>0</td>\n",
       "      <td>float64</td>\n",
       "    </tr>\n",
       "    <tr>\n",
       "      <th>p.android.settings</th>\n",
       "      <td>0</td>\n",
       "      <td>float64</td>\n",
       "    </tr>\n",
       "    <tr>\n",
       "      <th>p.android.chrome</th>\n",
       "      <td>0</td>\n",
       "      <td>float64</td>\n",
       "    </tr>\n",
       "  </tbody>\n",
       "</table>\n",
       "</div>"
      ],
      "text/plain": [
       "                           Missing Values Data Type\n",
       "imei                                    0   float64\n",
       "mwra                                    0   float64\n",
       "c.katana                                0   float64\n",
       "c.dogalize                              0   float64\n",
       "c.android.chrome                        0   float64\n",
       "c.android.gm                            0   float64\n",
       "p.android.gm                            0   float64\n",
       "p.android.documentsui                   0   float64\n",
       "p.system                                0   float64\n",
       "p.android.externalstorage               0   float64\n",
       "p.android.settings                      0   float64\n",
       "p.android.chrome                        0   float64"
      ]
     },
     "metadata": {},
     "output_type": "display_data"
    }
   ],
   "source": [
    "train_df    = handle_missing_values(train_df)\n",
    "train_df    = normalize_data(train_df)\n",
    "train_df    = remove_duplicates(train_df)\n",
    "\n",
    "analyze_dataframe(train_df)"
   ]
  },
  {
   "cell_type": "markdown",
   "id": "34390f34-58df-40bb-8982-a4265aead981",
   "metadata": {},
   "source": [
    "## Pokračovanie Transformácie dát C"
   ]
  },
  {
   "cell_type": "markdown",
   "id": "533aeef4-f6c5-4b60-8a20-d9df37760998",
   "metadata": {},
   "source": [
    "### Transformation"
   ]
  },
  {
   "cell_type": "code",
   "execution_count": null,
   "id": "f310f58f-8753-41d3-af79-5fcc4322cf6c",
   "metadata": {},
   "outputs": [],
   "source": []
  },
  {
   "cell_type": "markdown",
   "id": "5fb8497e-eee4-42c1-a3a5-302dd4624e22",
   "metadata": {},
   "source": [
    "### Scaling"
   ]
  },
  {
   "cell_type": "markdown",
   "id": "43aea099-776d-4e5b-bed5-d75178a603df",
   "metadata": {},
   "source": [
    "#### Standard Scaling"
   ]
  },
  {
   "cell_type": "code",
   "execution_count": 22,
   "id": "4be1e74d-7c7f-49a8-8274-92f9ac03b980",
   "metadata": {},
   "outputs": [
    {
     "name": "stdout",
     "output_type": "stream",
     "text": [
      "Shifted Standard Scaled Data:\n",
      "       imei      mwra  c.katana  c.dogalize  c.android.chrome  c.android.gm  \\\n",
      "0  0.936006  2.618623  1.327342    2.568217          2.084049      3.375251   \n",
      "1  3.269443  2.618623  2.598707    3.254710          1.727084      3.294606   \n",
      "2  3.269443  0.553825  2.882532    2.733422          1.807997      3.283865   \n",
      "3  3.269443  2.618623  2.793216    2.743139          1.128099      3.649168   \n",
      "4  0.784599  0.553825  3.166906    3.125971          1.289309      0.208261   \n",
      "\n",
      "   p.android.gm  p.android.documentsui  p.system  p.android.externalstorage  \\\n",
      "0      1.544718               2.342561  3.073149                   1.010128   \n",
      "1      1.993280               2.337669  3.262571                   2.942852   \n",
      "2      2.615381               0.481100  2.557346                   1.011692   \n",
      "3      1.263267               3.793785  2.997960                   1.247116   \n",
      "4      2.778442               3.134095  3.037820                   1.676954   \n",
      "\n",
      "   p.android.settings  p.android.chrome  \n",
      "0            1.440190          2.460418  \n",
      "1            1.490287          2.659533  \n",
      "2            0.766088          1.973827  \n",
      "3            1.721911          1.869039  \n",
      "4            1.650949          0.098059  \n"
     ]
    }
   ],
   "source": [
    "import numpy as np\n",
    "\n",
    "scaler_standard = StandardScaler()\n",
    "train_df_standard_scaled = scaler_standard.fit_transform(train_df)\n",
    "\n",
    "# Shift the data to make all values non-negative\n",
    "train_df_standard_scaled_shifted = train_df_standard_scaled - np.min(train_df_standard_scaled)\n",
    "\n",
    "print(\"Shifted Standard Scaled Data:\")\n",
    "print(pd.DataFrame(train_df_standard_scaled_shifted, columns=train_df.columns).head())\n"
   ]
  },
  {
   "cell_type": "markdown",
   "id": "6b7e357e-48a4-4fbd-869e-efa3bc8a12ed",
   "metadata": {},
   "source": [
    "#### Min-Max Scaling"
   ]
  },
  {
   "cell_type": "code",
   "execution_count": 21,
   "id": "c77bbaf5-da75-42a9-9989-2593bff24dea",
   "metadata": {},
   "outputs": [
    {
     "name": "stdout",
     "output_type": "stream",
     "text": [
      "\n",
      "Min-Max Scaled Data:\n",
      "           imei  mwra  c.katana  c.dogalize  c.android.chrome  c.android.gm  \\\n",
      "0  6.093244e-02   1.0  0.327052    0.723401          0.576735      0.921619   \n",
      "1  1.000000e+00   1.0  0.686546    0.917269          0.475212      0.898543   \n",
      "2  1.000000e+00   0.0  0.766801    0.770055          0.498224      0.895469   \n",
      "3  1.000000e+00   1.0  0.741546    0.772799          0.304858      1.000000   \n",
      "4  1.110223e-16   0.0  0.847211    0.880912          0.350707      0.015391   \n",
      "\n",
      "   p.android.gm  p.android.documentsui  p.system  p.android.externalstorage  \\\n",
      "0      0.404408               0.577676  0.883568                   0.284669   \n",
      "1      0.530516               0.576357  0.938617                   0.829340   \n",
      "2      0.705413               0.076029  0.733668                   0.285110   \n",
      "3      0.325282               0.968767  0.861717                   0.351456   \n",
      "4      0.751256               0.790987  0.873301                   0.472591   \n",
      "\n",
      "   p.android.settings  p.android.chrome  \n",
      "0            0.382769          0.691680  \n",
      "1            0.397316          0.749285  \n",
      "2            0.187019          0.550906  \n",
      "3            0.464577          0.520590  \n",
      "4            0.443970          0.008236  \n"
     ]
    }
   ],
   "source": [
    "from sklearn.preprocessing import MinMaxScaler\n",
    "\n",
    "scaler_minmax = MinMaxScaler()\n",
    "train_df_minmax = scaler_minmax.fit_transform(train_df)\n",
    "\n",
    "print(\"\\nMin-Max Scaled Data:\")\n",
    "print(pd.DataFrame(train_df_minmax, columns=train_df.columns).head())"
   ]
  },
  {
   "cell_type": "code",
   "execution_count": 33,
   "id": "cdbd2ce9-fc6e-4f34-b446-d2f7a7b8fa05",
   "metadata": {},
   "outputs": [
    {
     "data": {
      "text/plain": [
       "array([[<Axes: title={'center': 'c.katana'}>,\n",
       "        <Axes: title={'center': 'c.dogalize'}>,\n",
       "        <Axes: title={'center': 'c.android.chrome'}>],\n",
       "       [<Axes: title={'center': 'c.android.gm'}>,\n",
       "        <Axes: title={'center': 'p.android.gm'}>,\n",
       "        <Axes: title={'center': 'p.android.documentsui'}>],\n",
       "       [<Axes: title={'center': 'p.system'}>,\n",
       "        <Axes: title={'center': 'p.android.externalstorage'}>,\n",
       "        <Axes: title={'center': 'p.android.settings'}>],\n",
       "       [<Axes: title={'center': 'p.android.chrome'}>, <Axes: >, <Axes: >]],\n",
       "      dtype=object)"
      ]
     },
     "execution_count": 33,
     "metadata": {},
     "output_type": "execute_result"
    },
    {
     "data": {
      "image/png": "[encoded data removed]",
      "text/plain": [
       "<Figure size 1200x800 with 12 Axes>"
      ]
     },
     "metadata": {},
     "output_type": "display_data"
    }
   ],
   "source": [
    "exclude_columns = ['mwra', 'imei','mwra_x', 'mwra_y']\n",
    "df.hist(column=df.columns[~df.columns.isin(exclude_columns)], figsize=(12, 8))"
   ]
  }
 ],
 "metadata": {
  "kernelspec": {
   "display_name": "Python 3 (ipykernel)",
   "language": "python",
   "name": "python3"
  },
  "language_info": {
   "codemirror_mode": {
    "name": "ipython",
    "version": 3
   },
   "file_extension": ".py",
   "mimetype": "text/x-python",
   "name": "python",
   "nbconvert_exporter": "python",
   "pygments_lexer": "ipython3",
   "version": "3.12.6"
  }
 },
 "nbformat": 4,
 "nbformat_minor": 5
}
