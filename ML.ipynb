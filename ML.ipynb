{
 "cells": [
  {
   "cell_type": "code",
   "execution_count": null,
   "id": "initial_id",
   "metadata": {
    "collapsed": true
   },
   "outputs": [],
   "source": [
    "# -*- coding: utf-8 -*-\n",
    "#\n",
    "# Licensed under the Apache License, Version 2.0 (the \"License\");\n",
    "# you may not use this file except in compliance with the License.\n",
    "# You may obtain a copy of the License at\n",
    "#\n",
    "# http://www.apache.org/licenses/LICENSE-2.0\n",
    "#\n",
    "# Unless required by applicable law or agreed to in writing, software\n",
    "# distributed under the License is distributed on an \"AS IS\" BASIS,\n",
    "# WITHOUT WARRANTIES OR CONDITIONS OF ANY KIND, either express or\n",
    "# implied.\n",
    "# See the License for the specific language governing permissions and\n",
    "# limitations under the License."
   ]
  },
  {
   "metadata": {
    "ExecuteTime": {
     "end_time": "2024-11-01T06:34:21.552988Z",
     "start_time": "2024-11-01T06:34:20.685441Z"
    }
   },
   "cell_type": "code",
   "source": [
    "import matplotlib.pyplot as plt\n",
    "import seaborn as sns\n",
    "import pandas as pd\n",
    "import numpy as np\n",
    "import scipy.stats as stats\n",
    "import statsmodels.api as sm\n",
    "from scipy.stats import linregress"
   ],
   "id": "1c4107b5a0b33d80",
   "outputs": [],
   "execution_count": 1
  },
  {
   "metadata": {},
   "cell_type": "markdown",
   "source": "# Fáza 2 - Predspracovanie údajov",
   "id": "45bbb053c9bae402"
  },
  {
   "metadata": {},
   "cell_type": "markdown",
   "source": "## 2.1 Realizácia predspracovania dát",
   "id": "e18c52bf792ee494"
  },
  {
   "metadata": {},
   "cell_type": "markdown",
   "source": "### A/B - Rozdelenia dát na trénovaciu a testovaciu množinu",
   "id": "75518738dde7a9b4"
  },
  {
   "metadata": {},
   "cell_type": "markdown",
   "source": "### dáta načítaváme zo súboru, ktorý sme vytvorili v EDA časti, na základe našich pozorovaní (asi bude treba potrebné pridať samostatné funkcie na to ...)",
   "id": "27f1812852d8a3fa"
  },
  {
   "metadata": {
    "ExecuteTime": {
     "end_time": "2024-11-01T06:42:42.271940Z",
     "start_time": "2024-11-01T06:42:42.244194Z"
    }
   },
   "cell_type": "code",
   "source": [
    "# nacitanie dat\n",
    "df = pd.read_csv('merged_data.csv')\n",
    "print(f\"shape of df: {df.shape}\")\n",
    "# df.head()"
   ],
   "id": "3e107fbb9e838c7d",
   "outputs": [
    {
     "name": "stdout",
     "output_type": "stream",
     "text": [
      "shape of df: (15414, 10)\n"
     ]
    }
   ],
   "execution_count": 9
  },
  {
   "metadata": {},
   "cell_type": "markdown",
   "source": "### Rozdelíme dáta v pomere 80:20 (trénovacia/testovacia množina). Tento pomer vychádza z predpokladu, že pri dostatočne veľkom množstve dát, máme pri rozdelení dostatok dát na trénovanie a efektívne učenie modelu, zatiaľ čo testovacia množina bude dostatočne veľká pre overenie modelu. Tento pomer je bežný a vhodný pre väčšinu úloh strojového učenia.",
   "id": "798b53c00b1d578d"
  },
  {
   "metadata": {},
   "cell_type": "code",
   "outputs": [],
   "execution_count": null,
   "source": [
    "# funkcia na rozdelenie dat\n",
    "TRAIN = 0.8\n",
    "\n",
    "def split_data(df):\n",
    "    row, col = df.shape\n",
    "    train_size = int(row * TRAIN)\n",
    "    train_df = df[:train_size]\n",
    "    test_df = df[train_size:]\n",
    "    return train_df, test_df"
   ],
   "id": "5104e4369522cbf2"
  },
  {
   "metadata": {},
   "cell_type": "markdown",
   "source": [
    "# NOTE: mozno upravit na random vyber dat (da sa s mnimi pracovat jak stale , len chapeme sa xd , zeby to bolo viac random)\n",
    "# + ze akoze mozno ten datum by som pridal (ja pridam), lebo piodla veku sa tiez oze ovplivnovat mwra"
   ],
   "id": "e982a55c5df95fb4"
  },
  {
   "metadata": {},
   "cell_type": "code",
   "outputs": [],
   "execution_count": null,
   "source": "df_train, df_test = split_data(df)",
   "id": "d24d7a6da5a27d45"
  },
  {
   "metadata": {},
   "cell_type": "markdown",
   "source": "### ďalej pracujeme s trénovacím datasetom",
   "id": "b313c1748c99b23c"
  },
  {
   "metadata": {},
   "cell_type": "code",
   "outputs": [],
   "execution_count": null,
   "source": "",
   "id": "655d34a6dce73e86"
  }
 ],
 "metadata": {
  "kernelspec": {
   "display_name": "Python 3",
   "language": "python",
   "name": "python3"
  },
  "language_info": {
   "codemirror_mode": {
    "name": "ipython",
    "version": 2
   },
   "file_extension": ".py",
   "mimetype": "text/x-python",
   "name": "python",
   "nbconvert_exporter": "python",
   "pygments_lexer": "ipython2",
   "version": "2.7.6"
  }
 },
 "nbformat": 4,
 "nbformat_minor": 5
}
