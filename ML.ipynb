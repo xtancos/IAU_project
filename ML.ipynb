{
 "cells": [
  {
   "cell_type": "code",
   "id": "initial_id",
   "metadata": {
    "ExecuteTime": {
     "end_time": "2024-11-03T18:19:16.546244Z",
     "start_time": "2024-11-03T18:19:16.531245Z"
    }
   },
   "source": [
    "# -*- coding: utf-8 -*-\n",
    "#\n",
    "# Licensed under the Apache License, Version 2.0 (the \"License\");\n",
    "# you may not use this file except in compliance with the License.\n",
    "# You may obtain a copy of the License at\n",
    "#\n",
    "# http://www.apache.org/licenses/LICENSE-2.0\n",
    "#\n",
    "# Unless required by applicable law or agreed to in writing, software\n",
    "# distributed under the License is distributed on an \"AS IS\" BASIS,\n",
    "# WITHOUT WARRANTIES OR CONDITIONS OF ANY KIND, either express or\n",
    "# implied.\n",
    "# See the License for the specific language governing permissions and\n",
    "# limitations under the License."
   ],
   "outputs": [],
   "execution_count": 2
  },
  {
   "cell_type": "code",
   "id": "1c4107b5a0b33d80",
   "metadata": {
    "ExecuteTime": {
     "end_time": "2024-11-03T18:19:16.717268Z",
     "start_time": "2024-11-03T18:19:16.678244Z"
    }
   },
   "source": [
    "import matplotlib.pyplot as plt\n",
    "import seaborn as sns\n",
    "import pandas as pd\n",
    "import numpy as np\n",
    "import scipy.stats as stats\n",
    "\n",
    "from sklearn.model_selection import train_test_split\n",
    "from sklearn.preprocessing import StandardScaler\n",
    "\n",
    "from sklearn.svm import SVR\n",
    "from sklearn.feature_selection import RFE\n",
    "\n",
    "from sklearn.feature_selection import mutual_info_regression\n"
   ],
   "outputs": [],
   "execution_count": 3
  },
  {
   "cell_type": "markdown",
   "id": "45bbb053c9bae402",
   "metadata": {},
   "source": [
    "# Fáza 2 - Predspracovanie údajov"
   ]
  },
  {
   "cell_type": "markdown",
   "id": "e18c52bf792ee494",
   "metadata": {},
   "source": [
    "## 2.1 Realizácia predspracovania dát"
   ]
  },
  {
   "cell_type": "markdown",
   "id": "75518738dde7a9b4",
   "metadata": {},
   "source": [
    "### A - Rozdelenia dát na trénovaciu a testovaciu množinu"
   ]
  },
  {
   "cell_type": "markdown",
   "id": "27f1812852d8a3fa",
   "metadata": {},
   "source": [
    "#### zlúčime potrebné dáta do jedného datasetu "
   ]
  },
  {
   "cell_type": "code",
   "id": "3e107fbb9e838c7d",
   "metadata": {
    "ExecuteTime": {
     "end_time": "2024-11-03T18:19:16.780268Z",
     "start_time": "2024-11-03T18:19:16.719268Z"
    }
   },
   "source": [
    "# loading datasets\n",
    "df_processes    = pd.read_csv(\"data/raw/processes.csv\", sep='\\t')\n",
    "df_connections  = pd.read_csv(\"data/raw/connections.csv\", sep='\\t')"
   ],
   "outputs": [],
   "execution_count": 4
  },
  {
   "cell_type": "markdown",
   "id": "9cf8d0b876e60254",
   "metadata": {},
   "source": [
    "#### vyberieme si dáta, ktoré sme identifikovali v EDA"
   ]
  },
  {
   "cell_type": "code",
   "id": "22eebc52440595f4",
   "metadata": {
    "ExecuteTime": {
     "end_time": "2024-11-03T18:19:16.796268Z",
     "start_time": "2024-11-03T18:19:16.781268Z"
    }
   },
   "source": [
    "df_processes    = df_processes[[\"imei\", \"ts\", \"mwra\", \"p.android.gm\", \"p.android.documentsui\", \"p.system\", \"p.android.externalstorage\", \"p.android.settings\", \"p.android.chrome\"]]\n",
    "df_connections  = df_connections[[\"imei\", \"ts\", \"mwra\", \"c.katana\", \"c.dogalize\", \"c.android.chrome\", \"c.android.gm\"]]"
   ],
   "outputs": [],
   "execution_count": 5
  },
  {
   "cell_type": "markdown",
   "id": "1462d1d95f6cca57",
   "metadata": {},
   "source": [
    "#### spojíme ich pomocou \"ts\" a \"imei\""
   ]
  },
  {
   "cell_type": "code",
   "id": "98dc0f41b43eeabd",
   "metadata": {
    "ExecuteTime": {
     "end_time": "2024-11-03T18:19:16.812268Z",
     "start_time": "2024-11-03T18:19:16.797269Z"
    }
   },
   "source": [
    "df = df_connections.merge(df_processes, on=['imei', 'ts'], how='outer')"
   ],
   "outputs": [],
   "execution_count": 6
  },
  {
   "cell_type": "markdown",
   "id": "798b53c00b1d578d",
   "metadata": {},
   "source": [
    "#### Rozdelíme dáta v pomere 80:20 (trénovacia/testovacia množina). Tento pomer vychádza z predpokladu, že pri dostatočne veľkom množstve dát, máme pri rozdelení dostatok dát na trénovanie a efektívne učenie modelu, zatiaľ čo testovacia množina bude dostatočne veľká pre overenie modelu. Tento pomer je bežný a vhodný pre väčšinu úloh strojového učenia."
   ]
  },
  {
   "cell_type": "code",
   "id": "5104e4369522cbf2",
   "metadata": {
    "ExecuteTime": {
     "end_time": "2024-11-03T18:19:16.828269Z",
     "start_time": "2024-11-03T18:19:16.813268Z"
    }
   },
   "source": [
    "TRAIN = 0.8\n",
    "\n",
    "train_df, test_df = train_test_split(df, train_size=TRAIN, random_state=42)\n",
    "\n",
    "train_df.head()"
   ],
   "outputs": [
    {
     "data": {
      "text/plain": [
       "                      imei                   ts  mwra_x  c.katana  c.dogalize  \\\n",
       "4229   3590433799317662410  2018-05-08 05:47:00     1.0   7.37476     6.84145   \n",
       "12572  8630330696303481594  2018-05-13 20:05:00     1.0   7.58574    12.51114   \n",
       "12930   359043379931766650  2018-05-14 02:00:00     0.0  11.17412    12.19228   \n",
       "14497  3590433799317661156  2018-05-15 03:13:00     0.0  12.71124    17.73296   \n",
       "1347    863033069630348750  2018-05-06 07:24:00     1.0   6.97742    13.08809   \n",
       "\n",
       "       c.android.chrome  c.android.gm  mwra_y  p.android.gm  \\\n",
       "4229           14.51324       8.56085     1.0      10.00362   \n",
       "12572          10.92101      15.39765     1.0      11.05524   \n",
       "12930           7.55783       4.73609     0.0       9.57015   \n",
       "14497          10.25499       9.71869     0.0      11.89280   \n",
       "1347           14.43611      10.57469     1.0       9.81065   \n",
       "\n",
       "       p.android.documentsui  p.system  p.android.externalstorage  \\\n",
       "4229                14.20752   4.78716                   10.20058   \n",
       "12572                8.31027  13.02334                   11.10510   \n",
       "12930                7.87946   6.44430                    8.62500   \n",
       "14497                9.72879  11.67246                    9.45534   \n",
       "1347                 5.95691  13.13290                   11.79101   \n",
       "\n",
       "       p.android.settings  p.android.chrome  \n",
       "4229             12.70029           8.13225  \n",
       "12572             7.75706          13.55727  \n",
       "12930             4.71937           9.00245  \n",
       "14497             4.74844          13.72474  \n",
       "1347              7.60488          13.76573  "
      ],
      "text/html": [
       "<div>\n",
       "<style scoped>\n",
       "    .dataframe tbody tr th:only-of-type {\n",
       "        vertical-align: middle;\n",
       "    }\n",
       "\n",
       "    .dataframe tbody tr th {\n",
       "        vertical-align: top;\n",
       "    }\n",
       "\n",
       "    .dataframe thead th {\n",
       "        text-align: right;\n",
       "    }\n",
       "</style>\n",
       "<table border=\"1\" class=\"dataframe\">\n",
       "  <thead>\n",
       "    <tr style=\"text-align: right;\">\n",
       "      <th></th>\n",
       "      <th>imei</th>\n",
       "      <th>ts</th>\n",
       "      <th>mwra_x</th>\n",
       "      <th>c.katana</th>\n",
       "      <th>c.dogalize</th>\n",
       "      <th>c.android.chrome</th>\n",
       "      <th>c.android.gm</th>\n",
       "      <th>mwra_y</th>\n",
       "      <th>p.android.gm</th>\n",
       "      <th>p.android.documentsui</th>\n",
       "      <th>p.system</th>\n",
       "      <th>p.android.externalstorage</th>\n",
       "      <th>p.android.settings</th>\n",
       "      <th>p.android.chrome</th>\n",
       "    </tr>\n",
       "  </thead>\n",
       "  <tbody>\n",
       "    <tr>\n",
       "      <th>4229</th>\n",
       "      <td>3590433799317662410</td>\n",
       "      <td>2018-05-08 05:47:00</td>\n",
       "      <td>1.0</td>\n",
       "      <td>7.37476</td>\n",
       "      <td>6.84145</td>\n",
       "      <td>14.51324</td>\n",
       "      <td>8.56085</td>\n",
       "      <td>1.0</td>\n",
       "      <td>10.00362</td>\n",
       "      <td>14.20752</td>\n",
       "      <td>4.78716</td>\n",
       "      <td>10.20058</td>\n",
       "      <td>12.70029</td>\n",
       "      <td>8.13225</td>\n",
       "    </tr>\n",
       "    <tr>\n",
       "      <th>12572</th>\n",
       "      <td>8630330696303481594</td>\n",
       "      <td>2018-05-13 20:05:00</td>\n",
       "      <td>1.0</td>\n",
       "      <td>7.58574</td>\n",
       "      <td>12.51114</td>\n",
       "      <td>10.92101</td>\n",
       "      <td>15.39765</td>\n",
       "      <td>1.0</td>\n",
       "      <td>11.05524</td>\n",
       "      <td>8.31027</td>\n",
       "      <td>13.02334</td>\n",
       "      <td>11.10510</td>\n",
       "      <td>7.75706</td>\n",
       "      <td>13.55727</td>\n",
       "    </tr>\n",
       "    <tr>\n",
       "      <th>12930</th>\n",
       "      <td>359043379931766650</td>\n",
       "      <td>2018-05-14 02:00:00</td>\n",
       "      <td>0.0</td>\n",
       "      <td>11.17412</td>\n",
       "      <td>12.19228</td>\n",
       "      <td>7.55783</td>\n",
       "      <td>4.73609</td>\n",
       "      <td>0.0</td>\n",
       "      <td>9.57015</td>\n",
       "      <td>7.87946</td>\n",
       "      <td>6.44430</td>\n",
       "      <td>8.62500</td>\n",
       "      <td>4.71937</td>\n",
       "      <td>9.00245</td>\n",
       "    </tr>\n",
       "    <tr>\n",
       "      <th>14497</th>\n",
       "      <td>3590433799317661156</td>\n",
       "      <td>2018-05-15 03:13:00</td>\n",
       "      <td>0.0</td>\n",
       "      <td>12.71124</td>\n",
       "      <td>17.73296</td>\n",
       "      <td>10.25499</td>\n",
       "      <td>9.71869</td>\n",
       "      <td>0.0</td>\n",
       "      <td>11.89280</td>\n",
       "      <td>9.72879</td>\n",
       "      <td>11.67246</td>\n",
       "      <td>9.45534</td>\n",
       "      <td>4.74844</td>\n",
       "      <td>13.72474</td>\n",
       "    </tr>\n",
       "    <tr>\n",
       "      <th>1347</th>\n",
       "      <td>863033069630348750</td>\n",
       "      <td>2018-05-06 07:24:00</td>\n",
       "      <td>1.0</td>\n",
       "      <td>6.97742</td>\n",
       "      <td>13.08809</td>\n",
       "      <td>14.43611</td>\n",
       "      <td>10.57469</td>\n",
       "      <td>1.0</td>\n",
       "      <td>9.81065</td>\n",
       "      <td>5.95691</td>\n",
       "      <td>13.13290</td>\n",
       "      <td>11.79101</td>\n",
       "      <td>7.60488</td>\n",
       "      <td>13.76573</td>\n",
       "    </tr>\n",
       "  </tbody>\n",
       "</table>\n",
       "</div>"
      ]
     },
     "execution_count": 7,
     "metadata": {},
     "output_type": "execute_result"
    }
   ],
   "execution_count": 7
  },
  {
   "cell_type": "markdown",
   "id": "b313c1748c99b23c",
   "metadata": {},
   "source": [
    "#### ďalej pracujeme s trénovacím datasetom"
   ]
  },
  {
   "cell_type": "markdown",
   "id": "dd0ea680b9461d49",
   "metadata": {},
   "source": "### B - Transformujeme dáta na vhodný formát pre ML"
  },
  {
   "cell_type": "code",
   "id": "8a786088b8fd5517",
   "metadata": {
    "ExecuteTime": {
     "end_time": "2024-11-03T18:19:16.859269Z",
     "start_time": "2024-11-03T18:19:16.828269Z"
    }
   },
   "source": [
    "# better info()\n",
    "def analyze_dataframe(the_df):\n",
    "    table = pd.DataFrame({\n",
    "        'Missing Values': the_df.isnull().sum(),\n",
    "        'Data Type': the_df.dtypes\n",
    "    })\n",
    "\n",
    "    rows, columns = the_df.shape\n",
    "    duplicates = the_df.duplicated().sum()\n",
    "\n",
    "    print(f\"Shape: {rows} rows, {columns} columns\")\n",
    "    print(f\"Duplicates: {duplicates}\")\n",
    "\n",
    "    display(table)\n",
    "    \n",
    "analyze_dataframe(train_df)"
   ],
   "outputs": [
    {
     "name": "stdout",
     "output_type": "stream",
     "text": [
      "Shape: 12331 rows, 14 columns\n",
      "Duplicates: 393\n"
     ]
    },
    {
     "data": {
      "text/plain": [
       "                           Missing Values Data Type\n",
       "imei                                    0     int64\n",
       "ts                                      0    object\n",
       "mwra_x                                  0   float64\n",
       "c.katana                                0   float64\n",
       "c.dogalize                              0   float64\n",
       "c.android.chrome                        0   float64\n",
       "c.android.gm                            0   float64\n",
       "mwra_y                                  0   float64\n",
       "p.android.gm                            0   float64\n",
       "p.android.documentsui                   0   float64\n",
       "p.system                                0   float64\n",
       "p.android.externalstorage               0   float64\n",
       "p.android.settings                      0   float64\n",
       "p.android.chrome                        0   float64"
      ],
      "text/html": [
       "<div>\n",
       "<style scoped>\n",
       "    .dataframe tbody tr th:only-of-type {\n",
       "        vertical-align: middle;\n",
       "    }\n",
       "\n",
       "    .dataframe tbody tr th {\n",
       "        vertical-align: top;\n",
       "    }\n",
       "\n",
       "    .dataframe thead th {\n",
       "        text-align: right;\n",
       "    }\n",
       "</style>\n",
       "<table border=\"1\" class=\"dataframe\">\n",
       "  <thead>\n",
       "    <tr style=\"text-align: right;\">\n",
       "      <th></th>\n",
       "      <th>Missing Values</th>\n",
       "      <th>Data Type</th>\n",
       "    </tr>\n",
       "  </thead>\n",
       "  <tbody>\n",
       "    <tr>\n",
       "      <th>imei</th>\n",
       "      <td>0</td>\n",
       "      <td>int64</td>\n",
       "    </tr>\n",
       "    <tr>\n",
       "      <th>ts</th>\n",
       "      <td>0</td>\n",
       "      <td>object</td>\n",
       "    </tr>\n",
       "    <tr>\n",
       "      <th>mwra_x</th>\n",
       "      <td>0</td>\n",
       "      <td>float64</td>\n",
       "    </tr>\n",
       "    <tr>\n",
       "      <th>c.katana</th>\n",
       "      <td>0</td>\n",
       "      <td>float64</td>\n",
       "    </tr>\n",
       "    <tr>\n",
       "      <th>c.dogalize</th>\n",
       "      <td>0</td>\n",
       "      <td>float64</td>\n",
       "    </tr>\n",
       "    <tr>\n",
       "      <th>c.android.chrome</th>\n",
       "      <td>0</td>\n",
       "      <td>float64</td>\n",
       "    </tr>\n",
       "    <tr>\n",
       "      <th>c.android.gm</th>\n",
       "      <td>0</td>\n",
       "      <td>float64</td>\n",
       "    </tr>\n",
       "    <tr>\n",
       "      <th>mwra_y</th>\n",
       "      <td>0</td>\n",
       "      <td>float64</td>\n",
       "    </tr>\n",
       "    <tr>\n",
       "      <th>p.android.gm</th>\n",
       "      <td>0</td>\n",
       "      <td>float64</td>\n",
       "    </tr>\n",
       "    <tr>\n",
       "      <th>p.android.documentsui</th>\n",
       "      <td>0</td>\n",
       "      <td>float64</td>\n",
       "    </tr>\n",
       "    <tr>\n",
       "      <th>p.system</th>\n",
       "      <td>0</td>\n",
       "      <td>float64</td>\n",
       "    </tr>\n",
       "    <tr>\n",
       "      <th>p.android.externalstorage</th>\n",
       "      <td>0</td>\n",
       "      <td>float64</td>\n",
       "    </tr>\n",
       "    <tr>\n",
       "      <th>p.android.settings</th>\n",
       "      <td>0</td>\n",
       "      <td>float64</td>\n",
       "    </tr>\n",
       "    <tr>\n",
       "      <th>p.android.chrome</th>\n",
       "      <td>0</td>\n",
       "      <td>float64</td>\n",
       "    </tr>\n",
       "  </tbody>\n",
       "</table>\n",
       "</div>"
      ]
     },
     "metadata": {},
     "output_type": "display_data"
    }
   ],
   "execution_count": 8
  },
  {
   "cell_type": "code",
   "id": "685a335b2c5b7366",
   "metadata": {
    "ExecuteTime": {
     "end_time": "2024-11-03T18:19:16.874268Z",
     "start_time": "2024-11-03T18:19:16.860268Z"
    }
   },
   "source": [
    "matches = (train_df['mwra_x'] == train_df['mwra_y']).sum()\n",
    "not_matches = len(train_df) - matches\n",
    "\n",
    "print(f\"Matched: {matches}, Not matched: {not_matches}\")"
   ],
   "outputs": [
    {
     "name": "stdout",
     "output_type": "stream",
     "text": [
      "Matched: 12331, Not matched: 0\n"
     ]
    }
   ],
   "execution_count": 9
  },
  {
   "cell_type": "markdown",
   "id": "73cf9b7fc4c67895",
   "metadata": {},
   "source": [
    "#### môžeme vymazať dáta, pomocou ktorých sme spájali datasety do jedného, t.j. nepotrebné stĺpce: ts, mrwa_y + premenujeme mwra_x na mwra"
   ]
  },
  {
   "cell_type": "code",
   "id": "517e0120f5e35379",
   "metadata": {
    "ExecuteTime": {
     "end_time": "2024-11-03T18:19:16.889268Z",
     "start_time": "2024-11-03T18:19:16.875268Z"
    }
   },
   "source": [
    "train_df = train_df.drop(columns=['ts', 'mwra_y'], errors='ignore')\n",
    "train_df = train_df.rename(columns={'mwra_x': 'mwra'})\n",
    "\n",
    "train_df.head()"
   ],
   "outputs": [
    {
     "data": {
      "text/plain": [
       "                      imei  mwra  c.katana  c.dogalize  c.android.chrome  \\\n",
       "4229   3590433799317662410   1.0   7.37476     6.84145          14.51324   \n",
       "12572  8630330696303481594   1.0   7.58574    12.51114          10.92101   \n",
       "12930   359043379931766650   0.0  11.17412    12.19228           7.55783   \n",
       "14497  3590433799317661156   0.0  12.71124    17.73296          10.25499   \n",
       "1347    863033069630348750   1.0   6.97742    13.08809          14.43611   \n",
       "\n",
       "       c.android.gm  p.android.gm  p.android.documentsui  p.system  \\\n",
       "4229        8.56085      10.00362               14.20752   4.78716   \n",
       "12572      15.39765      11.05524                8.31027  13.02334   \n",
       "12930       4.73609       9.57015                7.87946   6.44430   \n",
       "14497       9.71869      11.89280                9.72879  11.67246   \n",
       "1347       10.57469       9.81065                5.95691  13.13290   \n",
       "\n",
       "       p.android.externalstorage  p.android.settings  p.android.chrome  \n",
       "4229                    10.20058            12.70029           8.13225  \n",
       "12572                   11.10510             7.75706          13.55727  \n",
       "12930                    8.62500             4.71937           9.00245  \n",
       "14497                    9.45534             4.74844          13.72474  \n",
       "1347                    11.79101             7.60488          13.76573  "
      ],
      "text/html": [
       "<div>\n",
       "<style scoped>\n",
       "    .dataframe tbody tr th:only-of-type {\n",
       "        vertical-align: middle;\n",
       "    }\n",
       "\n",
       "    .dataframe tbody tr th {\n",
       "        vertical-align: top;\n",
       "    }\n",
       "\n",
       "    .dataframe thead th {\n",
       "        text-align: right;\n",
       "    }\n",
       "</style>\n",
       "<table border=\"1\" class=\"dataframe\">\n",
       "  <thead>\n",
       "    <tr style=\"text-align: right;\">\n",
       "      <th></th>\n",
       "      <th>imei</th>\n",
       "      <th>mwra</th>\n",
       "      <th>c.katana</th>\n",
       "      <th>c.dogalize</th>\n",
       "      <th>c.android.chrome</th>\n",
       "      <th>c.android.gm</th>\n",
       "      <th>p.android.gm</th>\n",
       "      <th>p.android.documentsui</th>\n",
       "      <th>p.system</th>\n",
       "      <th>p.android.externalstorage</th>\n",
       "      <th>p.android.settings</th>\n",
       "      <th>p.android.chrome</th>\n",
       "    </tr>\n",
       "  </thead>\n",
       "  <tbody>\n",
       "    <tr>\n",
       "      <th>4229</th>\n",
       "      <td>3590433799317662410</td>\n",
       "      <td>1.0</td>\n",
       "      <td>7.37476</td>\n",
       "      <td>6.84145</td>\n",
       "      <td>14.51324</td>\n",
       "      <td>8.56085</td>\n",
       "      <td>10.00362</td>\n",
       "      <td>14.20752</td>\n",
       "      <td>4.78716</td>\n",
       "      <td>10.20058</td>\n",
       "      <td>12.70029</td>\n",
       "      <td>8.13225</td>\n",
       "    </tr>\n",
       "    <tr>\n",
       "      <th>12572</th>\n",
       "      <td>8630330696303481594</td>\n",
       "      <td>1.0</td>\n",
       "      <td>7.58574</td>\n",
       "      <td>12.51114</td>\n",
       "      <td>10.92101</td>\n",
       "      <td>15.39765</td>\n",
       "      <td>11.05524</td>\n",
       "      <td>8.31027</td>\n",
       "      <td>13.02334</td>\n",
       "      <td>11.10510</td>\n",
       "      <td>7.75706</td>\n",
       "      <td>13.55727</td>\n",
       "    </tr>\n",
       "    <tr>\n",
       "      <th>12930</th>\n",
       "      <td>359043379931766650</td>\n",
       "      <td>0.0</td>\n",
       "      <td>11.17412</td>\n",
       "      <td>12.19228</td>\n",
       "      <td>7.55783</td>\n",
       "      <td>4.73609</td>\n",
       "      <td>9.57015</td>\n",
       "      <td>7.87946</td>\n",
       "      <td>6.44430</td>\n",
       "      <td>8.62500</td>\n",
       "      <td>4.71937</td>\n",
       "      <td>9.00245</td>\n",
       "    </tr>\n",
       "    <tr>\n",
       "      <th>14497</th>\n",
       "      <td>3590433799317661156</td>\n",
       "      <td>0.0</td>\n",
       "      <td>12.71124</td>\n",
       "      <td>17.73296</td>\n",
       "      <td>10.25499</td>\n",
       "      <td>9.71869</td>\n",
       "      <td>11.89280</td>\n",
       "      <td>9.72879</td>\n",
       "      <td>11.67246</td>\n",
       "      <td>9.45534</td>\n",
       "      <td>4.74844</td>\n",
       "      <td>13.72474</td>\n",
       "    </tr>\n",
       "    <tr>\n",
       "      <th>1347</th>\n",
       "      <td>863033069630348750</td>\n",
       "      <td>1.0</td>\n",
       "      <td>6.97742</td>\n",
       "      <td>13.08809</td>\n",
       "      <td>14.43611</td>\n",
       "      <td>10.57469</td>\n",
       "      <td>9.81065</td>\n",
       "      <td>5.95691</td>\n",
       "      <td>13.13290</td>\n",
       "      <td>11.79101</td>\n",
       "      <td>7.60488</td>\n",
       "      <td>13.76573</td>\n",
       "    </tr>\n",
       "  </tbody>\n",
       "</table>\n",
       "</div>"
      ]
     },
     "execution_count": 10,
     "metadata": {},
     "output_type": "execute_result"
    }
   ],
   "execution_count": 10
  },
  {
   "cell_type": "code",
   "id": "f8529fa15c1b36ee",
   "metadata": {
    "ExecuteTime": {
     "end_time": "2024-11-03T18:19:16.920268Z",
     "start_time": "2024-11-03T18:19:16.890269Z"
    }
   },
   "source": [
    "train_df.describe()"
   ],
   "outputs": [
    {
     "data": {
      "text/plain": [
       "               imei          mwra      c.katana    c.dogalize  \\\n",
       "count  1.233100e+04  12331.000000  12331.000000  12331.000000   \n",
       "mean   3.838281e+18      0.629389      9.998403     11.147842   \n",
       "std    3.318556e+18      0.482988      2.585729      2.658390   \n",
       "min    3.590434e+17      0.000000      1.384790      1.448360   \n",
       "25%    8.630331e+17      0.000000      8.125205      9.301445   \n",
       "50%    3.590434e+18      1.000000      9.828270     11.242980   \n",
       "75%    8.630331e+18      1.000000     11.813160     13.037845   \n",
       "max    8.630331e+18      1.000000     20.036020     21.522060   \n",
       "\n",
       "       c.android.chrome  c.android.gm  p.android.gm  p.android.documentsui  \\\n",
       "count      12331.000000  12331.000000  12331.000000           12331.000000   \n",
       "mean          11.048739     10.537921      9.970223               9.403644   \n",
       "std            2.706215      2.715853      2.743161               2.373004   \n",
       "min            1.264880      1.811270      0.000000               1.613180   \n",
       "25%            9.164120      8.542860      8.055380               7.791280   \n",
       "50%           11.103500     10.416000      9.866390               9.214470   \n",
       "75%           12.976910     12.493050     11.883565              10.739590   \n",
       "max           20.710650     20.883650     20.563610              20.220660   \n",
       "\n",
       "           p.system  p.android.externalstorage  p.android.settings  \\\n",
       "count  12331.000000               12331.000000        12331.000000   \n",
       "mean      11.152060                  11.715285            9.925758   \n",
       "std        2.319367                   2.369038            2.471026   \n",
       "min        3.050450                   3.463510            2.010490   \n",
       "25%        9.418615                  10.134980            8.105040   \n",
       "50%       11.333740                  11.819940            9.855240   \n",
       "75%       12.890415                  13.362925           11.820695   \n",
       "max       19.385580                  20.060160           18.162090   \n",
       "\n",
       "       p.android.chrome  \n",
       "count      12331.000000  \n",
       "mean           9.888880  \n",
       "std            2.567799  \n",
       "min            0.879270  \n",
       "25%            8.057740  \n",
       "50%            9.900880  \n",
       "75%           11.816795  \n",
       "max           17.996590  "
      ],
      "text/html": [
       "<div>\n",
       "<style scoped>\n",
       "    .dataframe tbody tr th:only-of-type {\n",
       "        vertical-align: middle;\n",
       "    }\n",
       "\n",
       "    .dataframe tbody tr th {\n",
       "        vertical-align: top;\n",
       "    }\n",
       "\n",
       "    .dataframe thead th {\n",
       "        text-align: right;\n",
       "    }\n",
       "</style>\n",
       "<table border=\"1\" class=\"dataframe\">\n",
       "  <thead>\n",
       "    <tr style=\"text-align: right;\">\n",
       "      <th></th>\n",
       "      <th>imei</th>\n",
       "      <th>mwra</th>\n",
       "      <th>c.katana</th>\n",
       "      <th>c.dogalize</th>\n",
       "      <th>c.android.chrome</th>\n",
       "      <th>c.android.gm</th>\n",
       "      <th>p.android.gm</th>\n",
       "      <th>p.android.documentsui</th>\n",
       "      <th>p.system</th>\n",
       "      <th>p.android.externalstorage</th>\n",
       "      <th>p.android.settings</th>\n",
       "      <th>p.android.chrome</th>\n",
       "    </tr>\n",
       "  </thead>\n",
       "  <tbody>\n",
       "    <tr>\n",
       "      <th>count</th>\n",
       "      <td>1.233100e+04</td>\n",
       "      <td>12331.000000</td>\n",
       "      <td>12331.000000</td>\n",
       "      <td>12331.000000</td>\n",
       "      <td>12331.000000</td>\n",
       "      <td>12331.000000</td>\n",
       "      <td>12331.000000</td>\n",
       "      <td>12331.000000</td>\n",
       "      <td>12331.000000</td>\n",
       "      <td>12331.000000</td>\n",
       "      <td>12331.000000</td>\n",
       "      <td>12331.000000</td>\n",
       "    </tr>\n",
       "    <tr>\n",
       "      <th>mean</th>\n",
       "      <td>3.838281e+18</td>\n",
       "      <td>0.629389</td>\n",
       "      <td>9.998403</td>\n",
       "      <td>11.147842</td>\n",
       "      <td>11.048739</td>\n",
       "      <td>10.537921</td>\n",
       "      <td>9.970223</td>\n",
       "      <td>9.403644</td>\n",
       "      <td>11.152060</td>\n",
       "      <td>11.715285</td>\n",
       "      <td>9.925758</td>\n",
       "      <td>9.888880</td>\n",
       "    </tr>\n",
       "    <tr>\n",
       "      <th>std</th>\n",
       "      <td>3.318556e+18</td>\n",
       "      <td>0.482988</td>\n",
       "      <td>2.585729</td>\n",
       "      <td>2.658390</td>\n",
       "      <td>2.706215</td>\n",
       "      <td>2.715853</td>\n",
       "      <td>2.743161</td>\n",
       "      <td>2.373004</td>\n",
       "      <td>2.319367</td>\n",
       "      <td>2.369038</td>\n",
       "      <td>2.471026</td>\n",
       "      <td>2.567799</td>\n",
       "    </tr>\n",
       "    <tr>\n",
       "      <th>min</th>\n",
       "      <td>3.590434e+17</td>\n",
       "      <td>0.000000</td>\n",
       "      <td>1.384790</td>\n",
       "      <td>1.448360</td>\n",
       "      <td>1.264880</td>\n",
       "      <td>1.811270</td>\n",
       "      <td>0.000000</td>\n",
       "      <td>1.613180</td>\n",
       "      <td>3.050450</td>\n",
       "      <td>3.463510</td>\n",
       "      <td>2.010490</td>\n",
       "      <td>0.879270</td>\n",
       "    </tr>\n",
       "    <tr>\n",
       "      <th>25%</th>\n",
       "      <td>8.630331e+17</td>\n",
       "      <td>0.000000</td>\n",
       "      <td>8.125205</td>\n",
       "      <td>9.301445</td>\n",
       "      <td>9.164120</td>\n",
       "      <td>8.542860</td>\n",
       "      <td>8.055380</td>\n",
       "      <td>7.791280</td>\n",
       "      <td>9.418615</td>\n",
       "      <td>10.134980</td>\n",
       "      <td>8.105040</td>\n",
       "      <td>8.057740</td>\n",
       "    </tr>\n",
       "    <tr>\n",
       "      <th>50%</th>\n",
       "      <td>3.590434e+18</td>\n",
       "      <td>1.000000</td>\n",
       "      <td>9.828270</td>\n",
       "      <td>11.242980</td>\n",
       "      <td>11.103500</td>\n",
       "      <td>10.416000</td>\n",
       "      <td>9.866390</td>\n",
       "      <td>9.214470</td>\n",
       "      <td>11.333740</td>\n",
       "      <td>11.819940</td>\n",
       "      <td>9.855240</td>\n",
       "      <td>9.900880</td>\n",
       "    </tr>\n",
       "    <tr>\n",
       "      <th>75%</th>\n",
       "      <td>8.630331e+18</td>\n",
       "      <td>1.000000</td>\n",
       "      <td>11.813160</td>\n",
       "      <td>13.037845</td>\n",
       "      <td>12.976910</td>\n",
       "      <td>12.493050</td>\n",
       "      <td>11.883565</td>\n",
       "      <td>10.739590</td>\n",
       "      <td>12.890415</td>\n",
       "      <td>13.362925</td>\n",
       "      <td>11.820695</td>\n",
       "      <td>11.816795</td>\n",
       "    </tr>\n",
       "    <tr>\n",
       "      <th>max</th>\n",
       "      <td>8.630331e+18</td>\n",
       "      <td>1.000000</td>\n",
       "      <td>20.036020</td>\n",
       "      <td>21.522060</td>\n",
       "      <td>20.710650</td>\n",
       "      <td>20.883650</td>\n",
       "      <td>20.563610</td>\n",
       "      <td>20.220660</td>\n",
       "      <td>19.385580</td>\n",
       "      <td>20.060160</td>\n",
       "      <td>18.162090</td>\n",
       "      <td>17.996590</td>\n",
       "    </tr>\n",
       "  </tbody>\n",
       "</table>\n",
       "</div>"
      ]
     },
     "execution_count": 11,
     "metadata": {},
     "output_type": "execute_result"
    }
   ],
   "execution_count": 11
  },
  {
   "cell_type": "code",
   "id": "6014a7bb8eb22148",
   "metadata": {
    "ExecuteTime": {
     "end_time": "2024-11-03T18:19:16.968267Z",
     "start_time": "2024-11-03T18:19:16.921268Z"
    }
   },
   "source": [
    "def remove_outlier(the_df, the_column):\n",
    "    if the_column in ['imei', 'mwra']:\n",
    "        return the_df\n",
    "    \n",
    "    lower_bound = the_df[the_column].quantile(0.05)\n",
    "    upper_bound = the_df[the_column].quantile(0.95)\n",
    "\n",
    "    outlier_mask = (the_df[the_column] > upper_bound) | (the_df[the_column] < lower_bound)\n",
    "\n",
    "    the_df.loc[outlier_mask, the_column] = np.where(\n",
    "        the_df.loc[outlier_mask, the_column] < lower_bound,\n",
    "        lower_bound,\n",
    "        upper_bound\n",
    "    )\n",
    "    return the_df\n",
    "\n",
    "for column in train_df.columns:\n",
    "    train_df = remove_outlier(train_df, column)\n",
    "\n",
    "train_df.describe()\n"
   ],
   "outputs": [
    {
     "data": {
      "text/plain": [
       "               imei          mwra      c.katana    c.dogalize  \\\n",
       "count  1.233100e+04  12331.000000  12331.000000  12331.000000   \n",
       "mean   3.838281e+18      0.629389      9.993590     11.150422   \n",
       "std    3.318556e+18      0.482988      2.388854      2.463512   \n",
       "min    3.590434e+17      0.000000      6.002805      6.656210   \n",
       "25%    8.630331e+17      0.000000      8.125205      9.301445   \n",
       "50%    3.590434e+18      1.000000      9.828270     11.242980   \n",
       "75%    8.630331e+18      1.000000     11.813160     13.037845   \n",
       "max    8.630331e+18      1.000000     14.431685     15.353790   \n",
       "\n",
       "       c.android.chrome  c.android.gm  p.android.gm  p.android.documentsui  \\\n",
       "count      12331.000000  12331.000000  12331.000000           12331.000000   \n",
       "mean          11.050504     10.534418      9.975835               9.380079   \n",
       "std            2.492720      2.517747      2.514924               2.135578   \n",
       "min            6.561885      6.316785      5.623535               5.860770   \n",
       "25%            9.164120      8.542860      8.055380               7.791280   \n",
       "50%           11.103500     10.416000      9.866390               9.214470   \n",
       "75%           12.976910     12.493050     11.883565              10.739590   \n",
       "max           15.374600     15.097205     14.566450              13.775495   \n",
       "\n",
       "           p.system  p.android.externalstorage  p.android.settings  \\\n",
       "count  12331.000000               12331.000000        12331.000000   \n",
       "mean      11.150520                  11.715741            9.932958   \n",
       "std        2.175924                   2.192739            2.312348   \n",
       "min        7.201735                   7.638460            5.967030   \n",
       "25%        9.418615                  10.134980            8.105040   \n",
       "50%       11.333740                  11.819940            9.855240   \n",
       "75%       12.890415                  13.362925           11.820695   \n",
       "max       14.685060                  15.466515           13.907715   \n",
       "\n",
       "       p.android.chrome  \n",
       "count      12331.000000  \n",
       "mean           9.896109  \n",
       "std            2.397355  \n",
       "min            5.633830  \n",
       "25%            8.057740  \n",
       "50%            9.900880  \n",
       "75%           11.816795  \n",
       "max           13.953235  "
      ],
      "text/html": [
       "<div>\n",
       "<style scoped>\n",
       "    .dataframe tbody tr th:only-of-type {\n",
       "        vertical-align: middle;\n",
       "    }\n",
       "\n",
       "    .dataframe tbody tr th {\n",
       "        vertical-align: top;\n",
       "    }\n",
       "\n",
       "    .dataframe thead th {\n",
       "        text-align: right;\n",
       "    }\n",
       "</style>\n",
       "<table border=\"1\" class=\"dataframe\">\n",
       "  <thead>\n",
       "    <tr style=\"text-align: right;\">\n",
       "      <th></th>\n",
       "      <th>imei</th>\n",
       "      <th>mwra</th>\n",
       "      <th>c.katana</th>\n",
       "      <th>c.dogalize</th>\n",
       "      <th>c.android.chrome</th>\n",
       "      <th>c.android.gm</th>\n",
       "      <th>p.android.gm</th>\n",
       "      <th>p.android.documentsui</th>\n",
       "      <th>p.system</th>\n",
       "      <th>p.android.externalstorage</th>\n",
       "      <th>p.android.settings</th>\n",
       "      <th>p.android.chrome</th>\n",
       "    </tr>\n",
       "  </thead>\n",
       "  <tbody>\n",
       "    <tr>\n",
       "      <th>count</th>\n",
       "      <td>1.233100e+04</td>\n",
       "      <td>12331.000000</td>\n",
       "      <td>12331.000000</td>\n",
       "      <td>12331.000000</td>\n",
       "      <td>12331.000000</td>\n",
       "      <td>12331.000000</td>\n",
       "      <td>12331.000000</td>\n",
       "      <td>12331.000000</td>\n",
       "      <td>12331.000000</td>\n",
       "      <td>12331.000000</td>\n",
       "      <td>12331.000000</td>\n",
       "      <td>12331.000000</td>\n",
       "    </tr>\n",
       "    <tr>\n",
       "      <th>mean</th>\n",
       "      <td>3.838281e+18</td>\n",
       "      <td>0.629389</td>\n",
       "      <td>9.993590</td>\n",
       "      <td>11.150422</td>\n",
       "      <td>11.050504</td>\n",
       "      <td>10.534418</td>\n",
       "      <td>9.975835</td>\n",
       "      <td>9.380079</td>\n",
       "      <td>11.150520</td>\n",
       "      <td>11.715741</td>\n",
       "      <td>9.932958</td>\n",
       "      <td>9.896109</td>\n",
       "    </tr>\n",
       "    <tr>\n",
       "      <th>std</th>\n",
       "      <td>3.318556e+18</td>\n",
       "      <td>0.482988</td>\n",
       "      <td>2.388854</td>\n",
       "      <td>2.463512</td>\n",
       "      <td>2.492720</td>\n",
       "      <td>2.517747</td>\n",
       "      <td>2.514924</td>\n",
       "      <td>2.135578</td>\n",
       "      <td>2.175924</td>\n",
       "      <td>2.192739</td>\n",
       "      <td>2.312348</td>\n",
       "      <td>2.397355</td>\n",
       "    </tr>\n",
       "    <tr>\n",
       "      <th>min</th>\n",
       "      <td>3.590434e+17</td>\n",
       "      <td>0.000000</td>\n",
       "      <td>6.002805</td>\n",
       "      <td>6.656210</td>\n",
       "      <td>6.561885</td>\n",
       "      <td>6.316785</td>\n",
       "      <td>5.623535</td>\n",
       "      <td>5.860770</td>\n",
       "      <td>7.201735</td>\n",
       "      <td>7.638460</td>\n",
       "      <td>5.967030</td>\n",
       "      <td>5.633830</td>\n",
       "    </tr>\n",
       "    <tr>\n",
       "      <th>25%</th>\n",
       "      <td>8.630331e+17</td>\n",
       "      <td>0.000000</td>\n",
       "      <td>8.125205</td>\n",
       "      <td>9.301445</td>\n",
       "      <td>9.164120</td>\n",
       "      <td>8.542860</td>\n",
       "      <td>8.055380</td>\n",
       "      <td>7.791280</td>\n",
       "      <td>9.418615</td>\n",
       "      <td>10.134980</td>\n",
       "      <td>8.105040</td>\n",
       "      <td>8.057740</td>\n",
       "    </tr>\n",
       "    <tr>\n",
       "      <th>50%</th>\n",
       "      <td>3.590434e+18</td>\n",
       "      <td>1.000000</td>\n",
       "      <td>9.828270</td>\n",
       "      <td>11.242980</td>\n",
       "      <td>11.103500</td>\n",
       "      <td>10.416000</td>\n",
       "      <td>9.866390</td>\n",
       "      <td>9.214470</td>\n",
       "      <td>11.333740</td>\n",
       "      <td>11.819940</td>\n",
       "      <td>9.855240</td>\n",
       "      <td>9.900880</td>\n",
       "    </tr>\n",
       "    <tr>\n",
       "      <th>75%</th>\n",
       "      <td>8.630331e+18</td>\n",
       "      <td>1.000000</td>\n",
       "      <td>11.813160</td>\n",
       "      <td>13.037845</td>\n",
       "      <td>12.976910</td>\n",
       "      <td>12.493050</td>\n",
       "      <td>11.883565</td>\n",
       "      <td>10.739590</td>\n",
       "      <td>12.890415</td>\n",
       "      <td>13.362925</td>\n",
       "      <td>11.820695</td>\n",
       "      <td>11.816795</td>\n",
       "    </tr>\n",
       "    <tr>\n",
       "      <th>max</th>\n",
       "      <td>8.630331e+18</td>\n",
       "      <td>1.000000</td>\n",
       "      <td>14.431685</td>\n",
       "      <td>15.353790</td>\n",
       "      <td>15.374600</td>\n",
       "      <td>15.097205</td>\n",
       "      <td>14.566450</td>\n",
       "      <td>13.775495</td>\n",
       "      <td>14.685060</td>\n",
       "      <td>15.466515</td>\n",
       "      <td>13.907715</td>\n",
       "      <td>13.953235</td>\n",
       "    </tr>\n",
       "  </tbody>\n",
       "</table>\n",
       "</div>"
      ]
     },
     "execution_count": 12,
     "metadata": {},
     "output_type": "execute_result"
    }
   ],
   "execution_count": 12
  },
  {
   "cell_type": "markdown",
   "id": "4cbf1045d967d3c",
   "metadata": {},
   "source": [
    "#### aplikovali sme vymazanie odľahlích hodnôt na všetky stĺpce v trénovacej množine, pričom sme použili percentyl 5 a 95, z dôvodu zachovania normálnych hodnôt, no vyradzujeme extrémne hodnoty na oboch stranách"
   ]
  },
  {
   "cell_type": "code",
   "id": "3833b1489e6886df",
   "metadata": {
    "ExecuteTime": {
     "end_time": "2024-11-03T18:19:16.984268Z",
     "start_time": "2024-11-03T18:19:16.969268Z"
    }
   },
   "source": [
    "def handle_missing_values(the_df):\n",
    "    for column in the_df.columns:\n",
    "        if the_df[column].isnull().sum() > 0:\n",
    "            median_value = the_df[column].median()\n",
    "            the_df[column].fillna(median_value, inplace=True)\n",
    "            # df.dropna(inplace=True)\n",
    "    return the_df"
   ],
   "outputs": [],
   "execution_count": 13
  },
  {
   "cell_type": "markdown",
   "id": "3cd1d25efad191cf",
   "metadata": {},
   "source": "#### vytvorili sme funkciu na nahradenie missing values pre každý riadok - nahradzujeme chýbajúce hodnoty mediánom"
  },
  {
   "cell_type": "code",
   "id": "986f145a33aba3e0",
   "metadata": {
    "ExecuteTime": {
     "end_time": "2024-11-03T18:19:17.000268Z",
     "start_time": "2024-11-03T18:19:16.986268Z"
    }
   },
   "source": [
    "def normalize_data(the_df):    \n",
    "    scaler = StandardScaler()\n",
    "    numeric_columns = the_df.select_dtypes(include=['float64', 'int64']).columns\n",
    "    the_df[numeric_columns] = scaler.fit_transform(the_df[numeric_columns])\n",
    "    return the_df"
   ],
   "outputs": [],
   "execution_count": 14
  },
  {
   "cell_type": "markdown",
   "id": "9be08c76cef809a3",
   "metadata": {},
   "source": [
    "#### takisto pre normalizáciu dát"
   ]
  },
  {
   "cell_type": "code",
   "id": "564924b45663e969",
   "metadata": {
    "ExecuteTime": {
     "end_time": "2024-11-03T18:19:17.030268Z",
     "start_time": "2024-11-03T18:19:17.016268Z"
    }
   },
   "source": [
    "def remove_duplicates(the_df):\n",
    "    the_df = the_df.drop_duplicates()\n",
    "    return the_df"
   ],
   "outputs": [],
   "execution_count": 15
  },
  {
   "cell_type": "markdown",
   "id": "635233e25bb34eb9",
   "metadata": {},
   "source": [
    "#### a aj na odstránenie duplikátov, ktoré potom aplikujeme na trénovaciu množinu"
   ]
  },
  {
   "cell_type": "code",
   "id": "86f3a7645682911",
   "metadata": {
    "ExecuteTime": {
     "end_time": "2024-11-03T18:19:17.138269Z",
     "start_time": "2024-11-03T18:19:17.116268Z"
    }
   },
   "source": [
    "train_df    = handle_missing_values(train_df)\n",
    "train_df    = normalize_data(train_df)\n",
    "train_df    = remove_duplicates(train_df)\n",
    "\n",
    "analyze_dataframe(train_df)"
   ],
   "outputs": [
    {
     "name": "stdout",
     "output_type": "stream",
     "text": [
      "Shape: 11938 rows, 12 columns\n",
      "Duplicates: 0\n"
     ]
    },
    {
     "data": {
      "text/plain": [
       "                           Missing Values Data Type\n",
       "imei                                    0   float64\n",
       "mwra                                    0   float64\n",
       "c.katana                                0   float64\n",
       "c.dogalize                              0   float64\n",
       "c.android.chrome                        0   float64\n",
       "c.android.gm                            0   float64\n",
       "p.android.gm                            0   float64\n",
       "p.android.documentsui                   0   float64\n",
       "p.system                                0   float64\n",
       "p.android.externalstorage               0   float64\n",
       "p.android.settings                      0   float64\n",
       "p.android.chrome                        0   float64"
      ],
      "text/html": [
       "<div>\n",
       "<style scoped>\n",
       "    .dataframe tbody tr th:only-of-type {\n",
       "        vertical-align: middle;\n",
       "    }\n",
       "\n",
       "    .dataframe tbody tr th {\n",
       "        vertical-align: top;\n",
       "    }\n",
       "\n",
       "    .dataframe thead th {\n",
       "        text-align: right;\n",
       "    }\n",
       "</style>\n",
       "<table border=\"1\" class=\"dataframe\">\n",
       "  <thead>\n",
       "    <tr style=\"text-align: right;\">\n",
       "      <th></th>\n",
       "      <th>Missing Values</th>\n",
       "      <th>Data Type</th>\n",
       "    </tr>\n",
       "  </thead>\n",
       "  <tbody>\n",
       "    <tr>\n",
       "      <th>imei</th>\n",
       "      <td>0</td>\n",
       "      <td>float64</td>\n",
       "    </tr>\n",
       "    <tr>\n",
       "      <th>mwra</th>\n",
       "      <td>0</td>\n",
       "      <td>float64</td>\n",
       "    </tr>\n",
       "    <tr>\n",
       "      <th>c.katana</th>\n",
       "      <td>0</td>\n",
       "      <td>float64</td>\n",
       "    </tr>\n",
       "    <tr>\n",
       "      <th>c.dogalize</th>\n",
       "      <td>0</td>\n",
       "      <td>float64</td>\n",
       "    </tr>\n",
       "    <tr>\n",
       "      <th>c.android.chrome</th>\n",
       "      <td>0</td>\n",
       "      <td>float64</td>\n",
       "    </tr>\n",
       "    <tr>\n",
       "      <th>c.android.gm</th>\n",
       "      <td>0</td>\n",
       "      <td>float64</td>\n",
       "    </tr>\n",
       "    <tr>\n",
       "      <th>p.android.gm</th>\n",
       "      <td>0</td>\n",
       "      <td>float64</td>\n",
       "    </tr>\n",
       "    <tr>\n",
       "      <th>p.android.documentsui</th>\n",
       "      <td>0</td>\n",
       "      <td>float64</td>\n",
       "    </tr>\n",
       "    <tr>\n",
       "      <th>p.system</th>\n",
       "      <td>0</td>\n",
       "      <td>float64</td>\n",
       "    </tr>\n",
       "    <tr>\n",
       "      <th>p.android.externalstorage</th>\n",
       "      <td>0</td>\n",
       "      <td>float64</td>\n",
       "    </tr>\n",
       "    <tr>\n",
       "      <th>p.android.settings</th>\n",
       "      <td>0</td>\n",
       "      <td>float64</td>\n",
       "    </tr>\n",
       "    <tr>\n",
       "      <th>p.android.chrome</th>\n",
       "      <td>0</td>\n",
       "      <td>float64</td>\n",
       "    </tr>\n",
       "  </tbody>\n",
       "</table>\n",
       "</div>"
      ]
     },
     "metadata": {},
     "output_type": "display_data"
    }
   ],
   "execution_count": 16
  },
  {
   "metadata": {},
   "cell_type": "markdown",
   "source": "#### !!! Encoding nebude potrebný, keďže pracujeme s dataframe-om, ktorý má všetky hodnoty vhodné pre učenie",
   "id": "77ded229440091b2"
  },
  {
   "cell_type": "markdown",
   "id": "34390f34-58df-40bb-8982-a4265aead981",
   "metadata": {},
   "source": "### C - Transformácia dát"
  },
  {
   "cell_type": "markdown",
   "id": "533aeef4-f6c5-4b60-8a20-d9df37760998",
   "metadata": {},
   "source": "#### Transformation"
  },
  {
   "cell_type": "markdown",
   "id": "2cd75d6e-dc3a-4de7-b80e-a341f30af181",
   "metadata": {},
   "source": "##### Power Transformation"
  },
  {
   "cell_type": "code",
   "id": "f310f58f-8753-41d3-af79-5fcc4322cf6c",
   "metadata": {
    "ExecuteTime": {
     "end_time": "2024-11-03T18:19:17.342268Z",
     "start_time": "2024-11-03T18:19:17.235269Z"
    }
   },
   "source": [
    "from sklearn.preprocessing import PowerTransformer\n",
    "\n",
    "power_transformer = PowerTransformer(method='yeo-johnson')  \n",
    "train_df_power_transformed = power_transformer.fit_transform(train_df)\n",
    "\n",
    "# Convert transformed data back to DataFrame\n",
    "train_df_power_transformed_df = pd.DataFrame(train_df_power_transformed, columns=train_df.columns)"
   ],
   "outputs": [],
   "execution_count": 17
  },
  {
   "cell_type": "code",
   "id": "e7311923-c91a-42b2-9ad4-ee3889955f9a",
   "metadata": {
    "ExecuteTime": {
     "end_time": "2024-11-03T18:19:17.482273Z",
     "start_time": "2024-11-03T18:19:17.437268Z"
    }
   },
   "source": [
    "print(\"Original Data Description:\")\n",
    "print(train_df.describe())\n",
    "\n",
    "print(\"Transformed Data Description:\")\n",
    "print(train_df_power_transformed_df.describe())"
   ],
   "outputs": [
    {
     "name": "stdout",
     "output_type": "stream",
     "text": [
      "Original Data Description:\n",
      "               imei          mwra      c.katana    c.dogalize  \\\n",
      "count  11938.000000  11938.000000  11938.000000  11938.000000   \n",
      "mean       0.000525     -0.004102      0.001462      0.003526   \n",
      "std        1.000816      1.001132      0.999166      1.000297   \n",
      "min       -1.048462     -1.303169     -1.670653     -1.824385   \n",
      "25%       -0.896585     -1.303169     -0.779800     -0.750331   \n",
      "50%       -0.074688      0.767360     -0.067977      0.040904   \n",
      "75%        1.444075      0.767360      0.762304      0.769541   \n",
      "max        1.444075      0.767360      1.857909      1.706319   \n",
      "\n",
      "       c.android.chrome  c.android.gm  p.android.gm  p.android.documentsui  \\\n",
      "count      11938.000000  11938.000000  11938.000000           11938.000000   \n",
      "mean          -0.002466      0.003779      0.003307               0.003092   \n",
      "std            1.002822      1.000038      0.999324               0.999086   \n",
      "min           -1.800765     -1.675229     -1.730660              -1.648009   \n",
      "25%           -0.764405     -0.788704     -0.758917              -0.739467   \n",
      "50%            0.018930     -0.038690     -0.040498              -0.070309   \n",
      "75%            0.775808      0.782981      0.758745               0.640208   \n",
      "max            1.734760      1.812323      1.825424               2.058269   \n",
      "\n",
      "           p.system  p.android.externalstorage  p.android.settings  \\\n",
      "count  11938.000000               11938.000000        11938.000000   \n",
      "mean       0.004615                  -0.001688           -0.003206   \n",
      "std        0.999627                   1.002046            0.998103   \n",
      "min       -1.814836                  -1.859522           -1.715178   \n",
      "25%       -0.788534                  -0.727823           -0.790552   \n",
      "50%        0.092849                   0.045734           -0.037342   \n",
      "75%        0.803051                   0.750545            0.809796   \n",
      "max        1.624452                   1.710612            1.718996   \n",
      "\n",
      "       p.android.chrome  \n",
      "count      11938.000000  \n",
      "mean           0.003806  \n",
      "std            1.002279  \n",
      "min           -1.777981  \n",
      "25%           -0.770223  \n",
      "50%            0.005880  \n",
      "75%            0.807467  \n",
      "max            1.692403  \n",
      "Transformed Data Description:\n",
      "               imei          mwra      c.katana    c.dogalize  \\\n",
      "count  1.193800e+04  1.193800e+04  1.193800e+04  1.193800e+04   \n",
      "mean  -7.201849e-17  8.213679e-17 -2.618854e-17 -1.428466e-17   \n",
      "std    1.000042e+00  1.000042e+00  1.000042e+00  1.000042e+00   \n",
      "min   -1.191666e+00 -1.297653e+00 -1.771910e+00 -1.766982e+00   \n",
      "25%   -9.435411e-01 -1.297653e+00 -7.691121e-01 -7.662493e-01   \n",
      "50%    1.658818e-01  7.706221e-01 -1.806149e-02  5.889533e-03   \n",
      "75%    1.331028e+00  7.706221e-01  7.827628e-01  7.563712e-01   \n",
      "max    1.331028e+00  7.706221e-01  1.759513e+00  1.761608e+00   \n",
      "\n",
      "       c.android.chrome  c.android.gm  p.android.gm  p.android.documentsui  \\\n",
      "count      1.193800e+04  1.193800e+04  1.193800e+04           1.193800e+04   \n",
      "mean      -1.309427e-17  4.166359e-18  1.904621e-17          -1.279667e-17   \n",
      "std        1.000042e+00  1.000042e+00  1.000042e+00           1.000042e+00   \n",
      "min       -1.757834e+00 -1.742270e+00 -1.792855e+00          -1.829817e+00   \n",
      "25%       -7.668562e-01 -7.835439e-01 -7.536685e-01          -7.220589e-01   \n",
      "50%        2.489505e-03 -7.694323e-03 -1.455623e-02           1.085978e-02   \n",
      "75%        7.704329e-01  7.918792e-01  7.674298e-01           6.901399e-01   \n",
      "max        1.768197e+00  1.744350e+00  1.767105e+00           1.864278e+00   \n",
      "\n",
      "           p.system  p.android.externalstorage  p.android.settings  \\\n",
      "count  1.193800e+04               1.193800e+04        1.193800e+04   \n",
      "mean   2.038540e-17              -8.332718e-18        2.856932e-17   \n",
      "std    1.000042e+00               1.000042e+00        1.000042e+00   \n",
      "min   -1.718309e+00              -1.778848e+00       -1.732479e+00   \n",
      "25%   -8.148078e-01              -7.418439e-01       -7.860176e-01   \n",
      "50%    3.150240e-02               9.051370e-03       -2.458933e-02   \n",
      "75%    7.863226e-01               7.386402e-01        8.172616e-01   \n",
      "max    1.720802e+00               1.783479e+00        1.708874e+00   \n",
      "\n",
      "       p.android.chrome  \n",
      "count      1.193800e+04  \n",
      "mean       5.951941e-19  \n",
      "std        1.000042e+00  \n",
      "min       -1.753563e+00  \n",
      "25%       -7.768986e-01  \n",
      "50%       -1.100200e-02  \n",
      "75%        7.983916e-01  \n",
      "max        1.707400e+00  \n"
     ]
    }
   ],
   "execution_count": 18
  },
  {
   "cell_type": "markdown",
   "id": "548e201a-6764-476d-8543-677e62b61579",
   "metadata": {},
   "source": "##### Quantile Transformation"
  },
  {
   "cell_type": "code",
   "id": "6bdbaa32-e467-4194-bf29-910cc3350320",
   "metadata": {
    "ExecuteTime": {
     "end_time": "2024-11-03T18:19:17.578337Z",
     "start_time": "2024-11-03T18:19:17.532269Z"
    }
   },
   "source": [
    "from sklearn.preprocessing import QuantileTransformer\n",
    "\n",
    "quantile_transformer = QuantileTransformer(output_distribution='normal')  \n",
    "train_df_quantile_transformed = quantile_transformer.fit_transform(train_df)\n",
    "\n",
    "train_df_quantile_transformed_df = pd.DataFrame(train_df_quantile_transformed, columns=train_df.columns)"
   ],
   "outputs": [],
   "execution_count": 19
  },
  {
   "cell_type": "code",
   "id": "8a1aaca6-6994-40d3-ada3-013dd9ce8326",
   "metadata": {
    "ExecuteTime": {
     "end_time": "2024-11-03T18:19:17.639268Z",
     "start_time": "2024-11-03T18:19:17.599269Z"
    }
   },
   "source": [
    "print(\"Original Data Description:\")\n",
    "print(train_df.describe())\n",
    "\n",
    "print(\"Transformed Data Description:\")\n",
    "print(train_df_quantile_transformed_df.describe())"
   ],
   "outputs": [
    {
     "name": "stdout",
     "output_type": "stream",
     "text": [
      "Original Data Description:\n",
      "               imei          mwra      c.katana    c.dogalize  \\\n",
      "count  11938.000000  11938.000000  11938.000000  11938.000000   \n",
      "mean       0.000525     -0.004102      0.001462      0.003526   \n",
      "std        1.000816      1.001132      0.999166      1.000297   \n",
      "min       -1.048462     -1.303169     -1.670653     -1.824385   \n",
      "25%       -0.896585     -1.303169     -0.779800     -0.750331   \n",
      "50%       -0.074688      0.767360     -0.067977      0.040904   \n",
      "75%        1.444075      0.767360      0.762304      0.769541   \n",
      "max        1.444075      0.767360      1.857909      1.706319   \n",
      "\n",
      "       c.android.chrome  c.android.gm  p.android.gm  p.android.documentsui  \\\n",
      "count      11938.000000  11938.000000  11938.000000           11938.000000   \n",
      "mean          -0.002466      0.003779      0.003307               0.003092   \n",
      "std            1.002822      1.000038      0.999324               0.999086   \n",
      "min           -1.800765     -1.675229     -1.730660              -1.648009   \n",
      "25%           -0.764405     -0.788704     -0.758917              -0.739467   \n",
      "50%            0.018930     -0.038690     -0.040498              -0.070309   \n",
      "75%            0.775808      0.782981      0.758745               0.640208   \n",
      "max            1.734760      1.812323      1.825424               2.058269   \n",
      "\n",
      "           p.system  p.android.externalstorage  p.android.settings  \\\n",
      "count  11938.000000               11938.000000        11938.000000   \n",
      "mean       0.004615                  -0.001688           -0.003206   \n",
      "std        0.999627                   1.002046            0.998103   \n",
      "min       -1.814836                  -1.859522           -1.715178   \n",
      "25%       -0.788534                  -0.727823           -0.790552   \n",
      "50%        0.092849                   0.045734           -0.037342   \n",
      "75%        0.803051                   0.750545            0.809796   \n",
      "max        1.624452                   1.710612            1.718996   \n",
      "\n",
      "       p.android.chrome  \n",
      "count      11938.000000  \n",
      "mean           0.003806  \n",
      "std            1.002279  \n",
      "min           -1.777981  \n",
      "25%           -0.770223  \n",
      "50%            0.005880  \n",
      "75%            0.807467  \n",
      "max            1.692403  \n",
      "Transformed Data Description:\n",
      "               imei          mwra      c.katana    c.dogalize  \\\n",
      "count  11938.000000  11938.000000  11938.000000  11938.000000   \n",
      "mean       0.391176      1.324877      0.003232      0.000674   \n",
      "std        3.657187      5.027915      1.797359      1.811494   \n",
      "min       -5.199338     -5.199338     -5.199338     -5.199338   \n",
      "25%       -0.631785     -5.199338     -0.672341     -0.677872   \n",
      "50%        0.119468      5.199338      0.007824      0.003768   \n",
      "75%        5.199338      5.199338      0.676338      0.671303   \n",
      "max        5.199338      5.199338      5.199338      5.199338   \n",
      "\n",
      "       c.android.chrome  c.android.gm  p.android.gm  p.android.documentsui  \\\n",
      "count      11938.000000  11938.000000  11938.000000           11938.000000   \n",
      "mean          -0.000389      0.001697      0.004316              -0.011342   \n",
      "std            1.809758      1.800180      1.802042               1.805814   \n",
      "min           -5.199338     -5.199338     -5.199338              -5.199338   \n",
      "25%           -0.676837     -0.678248     -0.676871              -0.682751   \n",
      "50%            0.005405     -0.000454     -0.003248              -0.004646   \n",
      "75%            0.676857      0.675891      0.670554               0.670971   \n",
      "max            5.199338      5.199338      5.199338               5.199338   \n",
      "\n",
      "           p.system  p.android.externalstorage  p.android.settings  \\\n",
      "count  11938.000000               11938.000000        11938.000000   \n",
      "mean       0.001719                  -0.006284           -0.002032   \n",
      "std        1.807531                   1.810932            1.806843   \n",
      "min       -5.199338                  -5.199338           -5.199338   \n",
      "25%       -0.679909                  -0.676320           -0.672764   \n",
      "50%       -0.005881                  -0.003553            0.002620   \n",
      "75%        0.673381                   0.669067            0.677861   \n",
      "max        5.199338                   5.199338            5.199338   \n",
      "\n",
      "       p.android.chrome  \n",
      "count      11938.000000  \n",
      "mean           0.004572  \n",
      "std            1.815711  \n",
      "min           -5.199338  \n",
      "25%           -0.676864  \n",
      "50%           -0.000799  \n",
      "75%            0.676891  \n",
      "max            5.199338  \n"
     ]
    }
   ],
   "execution_count": 20
  },
  {
   "cell_type": "markdown",
   "id": "5fb8497e-eee4-42c1-a3a5-302dd4624e22",
   "metadata": {},
   "source": "#### Scaling"
  },
  {
   "cell_type": "markdown",
   "id": "43aea099-776d-4e5b-bed5-d75178a603df",
   "metadata": {},
   "source": "##### Standard Scaling"
  },
  {
   "cell_type": "code",
   "id": "4be1e74d-7c7f-49a8-8274-92f9ac03b980",
   "metadata": {
    "ExecuteTime": {
     "end_time": "2024-11-03T18:19:17.655269Z",
     "start_time": "2024-11-03T18:19:17.647268Z"
    }
   },
   "source": [
    "scaler_standard = StandardScaler()\n",
    "train_df_standard_scaled = scaler_standard.fit_transform(train_df)\n",
    "\n",
    "# Shift the data to make all values non-negative\n",
    "train_df_standard_scaled_shifted = train_df_standard_scaled - np.min(train_df_standard_scaled)"
   ],
   "outputs": [],
   "execution_count": 21
  },
  {
   "cell_type": "code",
   "id": "66a17af6-f6d1-4cd9-86e3-bd4fadfade9e",
   "metadata": {
    "ExecuteTime": {
     "end_time": "2024-11-03T18:19:17.751268Z",
     "start_time": "2024-11-03T18:19:17.714269Z"
    }
   },
   "source": [
    "train_df_standard_scaled_shifted = pd.DataFrame(train_df_standard_scaled_shifted, columns=train_df.columns)\n",
    "\n",
    "print(train_df.describe())\n",
    "print(\"\\nStardard Scaled\")\n",
    "print(train_df_standard_scaled_shifted.describe())"
   ],
   "outputs": [
    {
     "name": "stdout",
     "output_type": "stream",
     "text": [
      "               imei          mwra      c.katana    c.dogalize  \\\n",
      "count  11938.000000  11938.000000  11938.000000  11938.000000   \n",
      "mean       0.000525     -0.004102      0.001462      0.003526   \n",
      "std        1.000816      1.001132      0.999166      1.000297   \n",
      "min       -1.048462     -1.303169     -1.670653     -1.824385   \n",
      "25%       -0.896585     -1.303169     -0.779800     -0.750331   \n",
      "50%       -0.074688      0.767360     -0.067977      0.040904   \n",
      "75%        1.444075      0.767360      0.762304      0.769541   \n",
      "max        1.444075      0.767360      1.857909      1.706319   \n",
      "\n",
      "       c.android.chrome  c.android.gm  p.android.gm  p.android.documentsui  \\\n",
      "count      11938.000000  11938.000000  11938.000000           11938.000000   \n",
      "mean          -0.002466      0.003779      0.003307               0.003092   \n",
      "std            1.002822      1.000038      0.999324               0.999086   \n",
      "min           -1.800765     -1.675229     -1.730660              -1.648009   \n",
      "25%           -0.764405     -0.788704     -0.758917              -0.739467   \n",
      "50%            0.018930     -0.038690     -0.040498              -0.070309   \n",
      "75%            0.775808      0.782981      0.758745               0.640208   \n",
      "max            1.734760      1.812323      1.825424               2.058269   \n",
      "\n",
      "           p.system  p.android.externalstorage  p.android.settings  \\\n",
      "count  11938.000000               11938.000000        11938.000000   \n",
      "mean       0.004615                  -0.001688           -0.003206   \n",
      "std        0.999627                   1.002046            0.998103   \n",
      "min       -1.814836                  -1.859522           -1.715178   \n",
      "25%       -0.788534                  -0.727823           -0.790552   \n",
      "50%        0.092849                   0.045734           -0.037342   \n",
      "75%        0.803051                   0.750545            0.809796   \n",
      "max        1.624452                   1.710612            1.718996   \n",
      "\n",
      "       p.android.chrome  \n",
      "count      11938.000000  \n",
      "mean           0.003806  \n",
      "std            1.002279  \n",
      "min           -1.777981  \n",
      "25%           -0.770223  \n",
      "50%            0.005880  \n",
      "75%            0.807467  \n",
      "max            1.692403  \n",
      "\n",
      "Stardard Scaled\n",
      "               imei          mwra      c.katana    c.dogalize  \\\n",
      "count  11938.000000  11938.000000  11938.000000  11938.000000   \n",
      "mean       1.854118      1.854118      1.854118      1.854118   \n",
      "std        1.000042      1.000042      1.000042      1.000042   \n",
      "min        0.805942      0.556465      0.180537      0.026674   \n",
      "25%        0.957701      0.556465      1.072172      1.100454   \n",
      "50%        1.778962      2.624740      1.784619      1.891487   \n",
      "75%        3.296551      2.624740      2.615628      2.619938   \n",
      "max        3.296551      2.624740      3.712193      3.556477   \n",
      "\n",
      "       c.android.chrome  c.android.gm  p.android.gm  p.android.documentsui  \\\n",
      "count      11938.000000  11938.000000  11938.000000           11938.000000   \n",
      "mean           1.854118      1.854118      1.854118               1.854118   \n",
      "std            1.000042      1.000042      1.000042               1.000042   \n",
      "min            0.060805      0.175103      0.118907               0.201437   \n",
      "25%            1.094292      1.061632      1.091348               1.110848   \n",
      "50%            1.875455      1.811649      1.810282               1.780647   \n",
      "75%            2.630235      2.633323      2.610098               2.491844   \n",
      "max            3.586529      3.662671      3.677543               3.911261   \n",
      "\n",
      "           p.system  p.android.externalstorage  p.android.settings  \\\n",
      "count  11938.000000               11938.000000        11938.000000   \n",
      "mean       1.854118                   1.854118            1.854118   \n",
      "std        1.000042                   1.000042            1.000042   \n",
      "min        0.033912                   0.000000            0.138820   \n",
      "25%        1.060640                   1.129435            1.065242   \n",
      "50%        1.942389                   1.901445            1.819916   \n",
      "75%        2.652886                   2.604846            2.668700   \n",
      "max        3.474627                   3.562993            3.579667   \n",
      "\n",
      "       p.android.chrome  \n",
      "count      11938.000000  \n",
      "mean           1.854118  \n",
      "std            1.000042  \n",
      "min            0.076308  \n",
      "25%            1.081816  \n",
      "50%            1.856188  \n",
      "75%            2.655985  \n",
      "max            3.538946  \n"
     ]
    }
   ],
   "execution_count": 22
  },
  {
   "cell_type": "markdown",
   "id": "6b7e357e-48a4-4fbd-869e-efa3bc8a12ed",
   "metadata": {},
   "source": "##### Min-Max Scaling"
  },
  {
   "cell_type": "code",
   "id": "c77bbaf5-da75-42a9-9989-2593bff24dea",
   "metadata": {
    "ExecuteTime": {
     "end_time": "2024-11-03T18:19:17.767270Z",
     "start_time": "2024-11-03T18:19:17.752269Z"
    }
   },
   "source": [
    "from sklearn.preprocessing import MinMaxScaler\n",
    "\n",
    "scaler_minmax = MinMaxScaler(feature_range=(0,5))\n",
    "train_df_minmax = scaler_minmax.fit_transform(train_df)\n"
   ],
   "outputs": [],
   "execution_count": 23
  },
  {
   "cell_type": "code",
   "id": "6ec59b5f-ff58-49e6-95ed-87f75716f9d9",
   "metadata": {
    "ExecuteTime": {
     "end_time": "2024-11-03T18:19:17.813267Z",
     "start_time": "2024-11-03T18:19:17.768269Z"
    }
   },
   "source": [
    "train_df_minmax = pd.DataFrame(train_df_minmax, columns=train_df.columns)\n",
    "\n",
    "print(train_df.describe())\n",
    "print(\"\\nMin-Max Scaled\")\n",
    "print(train_df_minmax.describe())"
   ],
   "outputs": [
    {
     "name": "stdout",
     "output_type": "stream",
     "text": [
      "               imei          mwra      c.katana    c.dogalize  \\\n",
      "count  11938.000000  11938.000000  11938.000000  11938.000000   \n",
      "mean       0.000525     -0.004102      0.001462      0.003526   \n",
      "std        1.000816      1.001132      0.999166      1.000297   \n",
      "min       -1.048462     -1.303169     -1.670653     -1.824385   \n",
      "25%       -0.896585     -1.303169     -0.779800     -0.750331   \n",
      "50%       -0.074688      0.767360     -0.067977      0.040904   \n",
      "75%        1.444075      0.767360      0.762304      0.769541   \n",
      "max        1.444075      0.767360      1.857909      1.706319   \n",
      "\n",
      "       c.android.chrome  c.android.gm  p.android.gm  p.android.documentsui  \\\n",
      "count      11938.000000  11938.000000  11938.000000           11938.000000   \n",
      "mean          -0.002466      0.003779      0.003307               0.003092   \n",
      "std            1.002822      1.000038      0.999324               0.999086   \n",
      "min           -1.800765     -1.675229     -1.730660              -1.648009   \n",
      "25%           -0.764405     -0.788704     -0.758917              -0.739467   \n",
      "50%            0.018930     -0.038690     -0.040498              -0.070309   \n",
      "75%            0.775808      0.782981      0.758745               0.640208   \n",
      "max            1.734760      1.812323      1.825424               2.058269   \n",
      "\n",
      "           p.system  p.android.externalstorage  p.android.settings  \\\n",
      "count  11938.000000               11938.000000        11938.000000   \n",
      "mean       0.004615                  -0.001688           -0.003206   \n",
      "std        0.999627                   1.002046            0.998103   \n",
      "min       -1.814836                  -1.859522           -1.715178   \n",
      "25%       -0.788534                  -0.727823           -0.790552   \n",
      "50%        0.092849                   0.045734           -0.037342   \n",
      "75%        0.803051                   0.750545            0.809796   \n",
      "max        1.624452                   1.710612            1.718996   \n",
      "\n",
      "       p.android.chrome  \n",
      "count      11938.000000  \n",
      "mean           0.003806  \n",
      "std            1.002279  \n",
      "min           -1.777981  \n",
      "25%           -0.770223  \n",
      "50%            0.005880  \n",
      "75%            0.807467  \n",
      "max            1.692403  \n",
      "\n",
      "Min-Max Scaled\n",
      "               imei          mwra      c.katana    c.dogalize  \\\n",
      "count  11938.000000  11938.000000  11938.000000  11938.000000   \n",
      "mean       2.104256      3.137041      2.369400      2.588592   \n",
      "std        2.007626      2.417575      1.415826      1.416569   \n",
      "min        0.000000      0.000000      0.000000      0.000000   \n",
      "25%        0.304662      0.000000      1.262346      1.521019   \n",
      "50%        1.953378      5.000000      2.271005      2.641525   \n",
      "75%        5.000000      5.000000      3.447519      3.673384   \n",
      "max        5.000000      5.000000      5.000000      5.000000   \n",
      "\n",
      "       c.android.chrome  c.android.gm  p.android.gm  p.android.documentsui  \\\n",
      "count      11938.000000  11938.000000  11938.000000           11938.000000   \n",
      "mean           2.543184      2.407144      2.438028               2.227438   \n",
      "std            1.418208      1.433724      1.405091               1.347829   \n",
      "min            0.000000      0.000000      0.000000               0.000000   \n",
      "25%            1.465638      1.270984      1.366311               1.225679   \n",
      "50%            2.573444      2.346257      2.376437               2.128416   \n",
      "75%            3.643833      3.524262      3.500205               3.086947   \n",
      "max            5.000000      5.000000      5.000000               5.000000   \n",
      "\n",
      "           p.system  p.android.externalstorage  p.android.settings  \\\n",
      "count  11938.000000               11938.000000        11938.000000   \n",
      "mean       2.645099                   2.601911            2.492553   \n",
      "std        1.453247                   1.403373            1.453191   \n",
      "min        0.000000                   0.000000            0.000000   \n",
      "25%        1.492027                   1.584953            1.346213   \n",
      "50%        2.773373                   2.668326            2.442853   \n",
      "75%        3.805857                   3.655418            3.676246   \n",
      "max        5.000000                   5.000000            5.000000   \n",
      "\n",
      "       p.android.chrome  \n",
      "count      11938.000000  \n",
      "mean           2.567132  \n",
      "std            1.444046  \n",
      "min            0.000000  \n",
      "25%            1.451940  \n",
      "50%            2.570121  \n",
      "75%            3.725017  \n",
      "max            5.000000  \n"
     ]
    }
   ],
   "execution_count": 24
  },
  {
   "metadata": {},
   "cell_type": "markdown",
   "source": "## 2.2 Výber atribútov pre strojové učenie",
   "id": "ad3e295fd9cf9de0"
  },
  {
   "metadata": {},
   "cell_type": "markdown",
   "source": "### A/C - Zisťujeme, ktoré atribúty sú pre ML informatívne k predikovanej premennej + zdôvodnenie",
   "id": "d9663924a4f693dd"
  },
  {
   "metadata": {},
   "cell_type": "markdown",
   "source": "#### RFE - je iteratívna metóda výberu atribútov, ktorá postupne odstraňuje najmenej dôležité atribúty na základe ich prínosu (ich vplyv na model) pre model. Vybrali sme ju, pretože umožňuje identifikovať atribúty, ktoré majú najsilnejší vplyv na predikciu",
   "id": "589aa16f58c67a10"
  },
  {
   "metadata": {
    "ExecuteTime": {
     "end_time": "2024-11-03T18:20:06.672239Z",
     "start_time": "2024-11-03T18:19:17.829268Z"
    }
   },
   "cell_type": "code",
   "source": [
    "def get_top_rfe(X, y):\n",
    "\n",
    "    estimator = SVR(kernel=\"linear\")\n",
    "    selector = RFE(estimator, n_features_to_select=4, step=1)\n",
    "    selector.fit(X, y)\n",
    "\n",
    "    features = X.columns[selector.support_].tolist()\n",
    "    return features\n",
    "\n",
    "X = train_df.drop(columns=['mwra'])\n",
    "y = train_df['mwra']\n",
    "\n",
    "features1 = get_top_rfe(X, y)\n",
    "print(features1)"
   ],
   "id": "4577e1b93bc9e086",
   "outputs": [
    {
     "name": "stdout",
     "output_type": "stream",
     "text": [
      "['c.katana', 'c.android.chrome', 'c.android.gm', 'p.android.gm']\n"
     ]
    }
   ],
   "execution_count": 25
  },
  {
   "metadata": {},
   "cell_type": "markdown",
   "source": "",
   "id": "a5d97795241c44cc"
  },
  {
   "metadata": {},
   "cell_type": "markdown",
   "source": "#### Korelačná analýza - základná metóda, pomocou ktorej sme identifikovali lineárne vzťahy medzi atribútmi a mwra. Potrebná na zistenie, ktoré atribúty sú silno lineárne prepojené s mwra. Vybrali sme si ju kôli jednoduchosti a vhodnosti pre náš model.",
   "id": "4e5b675c0a717b79"
  },
  {
   "metadata": {
    "ExecuteTime": {
     "end_time": "2024-11-03T18:20:06.703058Z",
     "start_time": "2024-11-03T18:20:06.674214Z"
    }
   },
   "cell_type": "code",
   "source": [
    "def get_top_correlations(the_df):\n",
    "    numerical_columns = the_df.select_dtypes(include=[np.number])\n",
    "    correlation_matrix = numerical_columns.corr()\n",
    "    \n",
    "    target_correlations = correlation_matrix[\"mwra\"].drop(\"mwra\")\n",
    "    features = target_correlations.abs().sort_values(ascending=False).head(4)\n",
    "    \n",
    "    return features.index.tolist()\n",
    "\n",
    "features2 = get_top_correlations(train_df)\n",
    "print(features2)"
   ],
   "id": "965fe9eec43d1f71",
   "outputs": [
    {
     "name": "stdout",
     "output_type": "stream",
     "text": [
      "['c.katana', 'c.android.chrome', 'p.android.gm', 'p.system']\n"
     ]
    }
   ],
   "execution_count": 26
  },
  {
   "metadata": {},
   "cell_type": "markdown",
   "source": "#### Mutual info - použitá na meranie množstva informácií, ktoré jeden atribút poskytuje o mrwa. Použili sme ju aj preto, pretože zachytáva aj nelineárne vzťahy medzi premennými, čiže veľmi jedinečné informácie, ktoré niesú lineárne závislé",
   "id": "f55b0df97631027f"
  },
  {
   "metadata": {
    "ExecuteTime": {
     "end_time": "2024-11-03T18:20:07.265573Z",
     "start_time": "2024-11-03T18:20:06.704037Z"
    }
   },
   "cell_type": "code",
   "source": [
    "def get_top_mutual_info(X, y):\n",
    "    selector = mutual_info_regression(X, y)\n",
    "    scores = pd.Series(selector, index=X.columns)\n",
    "    top_features = scores.nlargest(4)\n",
    "    return top_features.index.tolist()\n",
    "\n",
    "X = train_df.drop('mwra', axis=1)\n",
    "y = train_df['mwra']\n",
    "\n",
    "features3 = get_top_mutual_info(X, y)\n",
    "print(features3)\n"
   ],
   "id": "372a793b39781221",
   "outputs": [
    {
     "name": "stdout",
     "output_type": "stream",
     "text": [
      "['c.katana', 'c.android.chrome', 'p.android.gm', 'p.android.documentsui']\n"
     ]
    }
   ],
   "execution_count": 27
  },
  {
   "metadata": {
    "ExecuteTime": {
     "end_time": "2024-11-03T18:20:30.922972Z",
     "start_time": "2024-11-03T18:20:07.267553Z"
    }
   },
   "cell_type": "code",
   "source": [
    "from sklearn.ensemble import RandomForestRegressor\n",
    "\n",
    "def get_top_feature_importance(X, y):\n",
    "    model = RandomForestRegressor(n_estimators=100, random_state=42)\n",
    "    model.fit(X, y)\n",
    "    \n",
    "    importances = model.feature_importances_\n",
    "    feature_importance_series = pd.Series(importances, index=X.columns)\n",
    "    top_features = feature_importance_series.nlargest(4)\n",
    "    \n",
    "    return top_features.index.tolist()\n",
    "\n",
    "X = train_df.drop('mwra', axis=1)\n",
    "y = train_df['mwra']\n",
    "\n",
    "features4 = get_top_feature_importance(X, y)\n",
    "print(features4)"
   ],
   "id": "3b01d79a722f763b",
   "outputs": [
    {
     "name": "stdout",
     "output_type": "stream",
     "text": [
      "['c.katana', 'p.android.gm', 'c.android.chrome', 'c.dogalize']\n"
     ]
    }
   ],
   "execution_count": 28
  },
  {
   "metadata": {},
   "cell_type": "markdown",
   "source": "### B/C - zoradenie atribútov + zdôvodnenie",
   "id": "bb1f374275bc1240"
  },
  {
   "metadata": {},
   "cell_type": "markdown",
   "source": [
    "#### Na základe analýzy sme identifikovali najrelevantnejšie atribúty ovplyvňujúce mwra:\n",
    "1. c.katana\n",
    "2. c.android.chrome\n",
    "3. p.android.gm\n",
    "#### usporiadali sme tieto atribúty v takomto poradí a to na základe výsledkov z predošlích testov, keďže RFE podľa modelu SVR s lineárnym jadromnajlepšie predpovedá tieto atribúty:\n",
    "['c.katana', 'c.android.chrome', 'c.android.gm', 'p.android.gm']\n",
    "#### podobne predpovedala aj korelačná závislosť, no rozdiel bol len v jednom atribúte,\n",
    "['c.katana', 'c.android.chrome', 'p.android.gm', 'p.system']\n",
    "#### pri mutual information, ktorá sa zameriava na to, koľko informáacií poskytuje každý atribút o mrwa, zistili sme, že najvplyvňejšie atribúty sú:\n",
    "['c.katana', 'c.android.chrome', 'p.android.gm', 'p.android.settings']"
   ],
   "id": "607cf0abbd107db7"
  }
 ],
 "metadata": {
  "kernelspec": {
   "display_name": "Python 3 (ipykernel)",
   "language": "python",
   "name": "python3"
  },
  "language_info": {
   "codemirror_mode": {
    "name": "ipython",
    "version": 3
   },
   "file_extension": ".py",
   "mimetype": "text/x-python",
   "name": "python",
   "nbconvert_exporter": "python",
   "pygments_lexer": "ipython3",
   "version": "3.12.6"
  }
 },
 "nbformat": 4,
 "nbformat_minor": 5
}
