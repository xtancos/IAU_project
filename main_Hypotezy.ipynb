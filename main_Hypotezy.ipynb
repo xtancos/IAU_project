{
 "cells": [
  {
   "cell_type": "code",
   "id": "initial_id",
   "metadata": {},
   "source": [
    "# -*- coding: utf-8 -*-\n",
    "#\n",
    "# Licensed under the Apache License, Version 2.0 (the \"License\");\n",
    "# you may not use this file except in compliance with the License.\n",
    "# You may obtain a copy of the License at\n",
    "#\n",
    "# http://www.apache.org/licenses/LICENSE-2.0\n",
    "#\n",
    "# Unless required by applicable law or agreed to in writing, software\n",
    "# distributed under the License is distributed on an \"AS IS\" BASIS,\n",
    "# WITHOUT WARRANTIES OR CONDITIONS OF ANY KIND, either express or\n",
    "# implied.\n",
    "# See the License for the specific language governing permissions and\n",
    "# limitations under the License."
   ],
   "outputs": [],
   "execution_count": null
  },
  {
   "cell_type": "code",
   "id": "252053e55cc4a6b6",
   "metadata": {},
   "source": [
    "import matplotlib.pyplot as plt\n",
    "import seaborn as sns\n",
    "import pandas as pd\n",
    "import numpy as np\n",
    "import scipy.stats as stats\n",
    "import statsmodels.api as sm\n",
    "from scipy.stats import linregress"
   ],
   "outputs": [],
   "execution_count": null
  },
  {
   "cell_type": "markdown",
   "id": "64dd339fc9e65e9b",
   "metadata": {},
   "source": [
    "# 1.1 Základný opis dát spolu s ich charakteristikami, EDA\n",
    "## A - Analýza štruktúr dát ako súbory"
   ]
  },
  {
   "cell_type": "code",
   "id": "b9d60e6026280e8c",
   "metadata": {},
   "source": [
    "# load the datasets\n",
    "df_profiles     = pd.read_csv(\"data/raw/profiles.csv\", sep='\\t')\n",
    "df_processes    = pd.read_csv(\"data/raw/processes.csv\", sep='\\t')\n",
    "df_devices      = pd.read_csv(\"data/raw/devices.csv\", sep='\\t')\n",
    "df_connections  = pd.read_csv(\"data/raw/connections.csv\", sep='\\t')\n",
    "\n",
    "# better info()\n",
    "def analyze_dataframe(df):\n",
    "    table = pd.DataFrame({\n",
    "        'Missing Values': df.isnull().sum(),\n",
    "        'Data Type': df.dtypes\n",
    "    })\n",
    "\n",
    "    rows, columns = df.shape\n",
    "    duplicates = df.duplicated().sum()\n",
    "\n",
    "    print(f\"Shape: {rows} rows, {columns} columns\")\n",
    "    print(f\"Duplicates: {duplicates}\")\n",
    "\n",
    "    display(table)"
   ],
   "outputs": [],
   "execution_count": null
  },
  {
   "cell_type": "markdown",
   "id": "1cac966f86222e53",
   "metadata": {},
   "source": [
    "## PROFILES:"
   ]
  },
  {
   "cell_type": "code",
   "id": "a342126b23e00096",
   "metadata": {},
   "source": [
    "# displaying them\n",
    "analyze_dataframe(df_profiles)\n",
    "df_profiles.describe()"
   ],
   "outputs": [],
   "execution_count": null
  },
  {
   "cell_type": "code",
   "id": "f30899831f5f9466",
   "metadata": {},
   "source": [
    "df_profiles.head()"
   ],
   "outputs": [],
   "execution_count": null
  },
  {
   "cell_type": "markdown",
   "id": "f0c6fec3d842a521",
   "metadata": {},
   "source": [
    "## ----------------------------------------------------------------------------------------"
   ]
  },
  {
   "cell_type": "markdown",
   "id": "b33ea0a3ee449a44",
   "metadata": {},
   "source": [
    "## PROCESSES:"
   ]
  },
  {
   "cell_type": "code",
   "id": "617a2aab5af8b194",
   "metadata": {},
   "source": [
    "analyze_dataframe(df_processes)\n",
    "df_processes.describe()"
   ],
   "outputs": [],
   "execution_count": null
  },
  {
   "cell_type": "code",
   "id": "574806cd694c7272",
   "metadata": {},
   "source": [
    "df_processes.head()"
   ],
   "outputs": [],
   "execution_count": null
  },
  {
   "cell_type": "markdown",
   "id": "3fe422b69cffc27e",
   "metadata": {},
   "source": [
    "## ----------------------------------------------------------------------------------------"
   ]
  },
  {
   "cell_type": "markdown",
   "id": "54ff0aaf0da3af5c",
   "metadata": {},
   "source": [
    "## DEVICES:"
   ]
  },
  {
   "cell_type": "code",
   "id": "ad221df7c923fe9d",
   "metadata": {},
   "source": [
    "analyze_dataframe(df_devices)\n",
    "df_devices.describe()"
   ],
   "outputs": [],
   "execution_count": null
  },
  {
   "cell_type": "code",
   "id": "508fc5db8d0a4dac",
   "metadata": {},
   "source": [
    "df_devices.head()"
   ],
   "outputs": [],
   "execution_count": null
  },
  {
   "cell_type": "markdown",
   "id": "44d18592d4b770ea",
   "metadata": {},
   "source": [
    "## ----------------------------------------------------------------------------------------"
   ]
  },
  {
   "cell_type": "markdown",
   "id": "86dc822f25801994",
   "metadata": {},
   "source": [
    "## CONNECTIONS:"
   ]
  },
  {
   "cell_type": "code",
   "id": "cacc621761d1309e",
   "metadata": {},
   "source": [
    "analyze_dataframe(df_connections)\n",
    "df_connections.describe()"
   ],
   "outputs": [],
   "execution_count": null
  },
  {
   "cell_type": "code",
   "id": "d8724b170bffaa59",
   "metadata": {},
   "source": [
    "df_connections.head()"
   ],
   "outputs": [],
   "execution_count": null
  },
  {
   "cell_type": "markdown",
   "id": "fb9feeea57defd8c",
   "metadata": {},
   "source": [
    "## ----------------------------------------------------------------------------------------"
   ]
  },
  {
   "cell_type": "markdown",
   "id": "d66756d75242b1bc",
   "metadata": {},
   "source": [
    "### Zhrnutie analýzy dát\n",
    "- #### Identifikovali sme duplicitne údajoe a chýbajúce hodnoty. Plánujeme ich odstrániť v nasledujúcej fáze\n",
    "- #### Budeme sa sústrediť na systémové a používateľské aplikácie, pretože obsahujú relevantné údaje pre detekciu malware"
   ]
  },
  {
   "cell_type": "markdown",
   "id": "26a4e01dedd6724d",
   "metadata": {},
   "source": [
    "## ----------------------------------------------------------------------------------------\n",
    "## ----------------------------------------------------------------------------------------"
   ]
  },
  {
   "cell_type": "markdown",
   "id": "cc672e599ca8ad11",
   "metadata": {},
   "source": [
    "## B - Analýza jednotlivých atribútov, významné atribúty, ich distribúcie a základné deskriptívne štatistiky"
   ]
  },
  {
   "cell_type": "markdown",
   "id": "78801795eeeae371",
   "metadata": {},
   "source": "#### predovšetkým sa budeme zaujímať o analýzu dataframe-ov: df_processes a df_connections, ktoré súvisia so závislou premennou mwra najviac, vyjadríme si závislosti cez korelačné matice"
  },
  {
   "cell_type": "markdown",
   "id": "fcb896da63f36af",
   "metadata": {},
   "source": [
    "### DF_PROCESSES"
   ]
  },
  {
   "cell_type": "code",
   "id": "192a8c32ce5b6bf7",
   "metadata": {},
   "source": [
    "df_numerical_processes = df_processes.select_dtypes(include=['float64', 'int64'])\n",
    "\n",
    "correlation_matrix_processes = df_numerical_processes.corr()\n",
    "correlation_matrix_processes"
   ],
   "outputs": [],
   "execution_count": null
  },
  {
   "cell_type": "code",
   "id": "2cefeb8ea1492fe",
   "metadata": {},
   "source": [
    "plt.figure(figsize=(15, 15))\n",
    "sns.heatmap(correlation_matrix_processes, annot=True, cmap=\"coolwarm\", fmt='.2f')\n",
    "plt.title(\"Processes\")\n",
    "plt.show()"
   ],
   "outputs": [],
   "execution_count": null
  },
  {
   "cell_type": "markdown",
   "id": "193374823474288b",
   "metadata": {},
   "source": [
    "#### z týchto atribútov vyberieme:\n",
    "- #### p.android.gm\n",
    "- #### p.android.documentsui\n",
    "- #### p.system\n",
    "\n",
    "- #### p.android.externalstorage\n",
    "- #### p.android.settings\n",
    "- #### p.android.chrome\n",
    "\n",
    "#### kôli ich prepojeniu s mwra"
   ]
  },
  {
   "cell_type": "code",
   "id": "623ea60122ae8e8",
   "metadata": {},
   "source": [
    "significant_processes = [\n",
    "    \"p.android.gm\", \n",
    "    \"p.android.documentsui\",\n",
    "    \"p.system\",\n",
    "    \"p.android.externalstorage\",\n",
    "    \"p.android.settings\",\n",
    "    \"p.android.chrome\"]\n",
    "\n",
    "descriptive_stats = df_processes[significant_processes].describe()\n",
    "descriptive_stats"
   ],
   "outputs": [],
   "execution_count": null
  },
  {
   "cell_type": "markdown",
   "id": "a7d88665179f0aa0",
   "metadata": {},
   "source": "#### pomocou histogramov, zisťujeme normalitu týchto atribútov, vieme približne určit aj odľahlé hodnoty, ktoré identifikujeme nižšie"
  },
  {
   "cell_type": "code",
   "id": "c4cd4fb0e08a4dc",
   "metadata": {},
   "source": [
    "for attribute in significant_processes:\n",
    "    plt.figure(figsize=(10, 6))\n",
    "    sns.histplot(df_processes[attribute], bins=30, kde=True)\n",
    "    plt.title(f'distribucia: {attribute}')\n",
    "    plt.xlabel(attribute)\n",
    "    plt.ylabel('frekvencia')\n",
    "    plt.show()"
   ],
   "outputs": [],
   "execution_count": null
  },
  {
   "cell_type": "markdown",
   "id": "7c7eb618f8627ea9",
   "metadata": {},
   "source": "#### pomocou boxplotov identifikujeme odľahlé hodnoty a neskôr ich budeme skúmať resp. ich odstránime"
  },
  {
   "cell_type": "code",
   "id": "eae77ad9ec5a2f8d",
   "metadata": {},
   "source": [
    "for attribute in significant_processes:\n",
    "    plt.figure(figsize=(10, 6))\n",
    "    sns.boxplot(x=df_processes[attribute])\n",
    "    plt.title(f'boxplot: {attribute}')\n",
    "    plt.xlabel(attribute)\n",
    "    plt.show()"
   ],
   "outputs": [],
   "execution_count": null
  },
  {
   "cell_type": "markdown",
   "id": "13cedf75e64de9f0",
   "metadata": {},
   "source": [
    "## ----------------------------------------------------------------------------------------"
   ]
  },
  {
   "cell_type": "markdown",
   "id": "874644d387a17bab",
   "metadata": {},
   "source": [
    "### DF_CONNECTIONS"
   ]
  },
  {
   "cell_type": "code",
   "id": "1fe456cfbfcc1786",
   "metadata": {},
   "source": [
    "df_numerical_connections = df_connections.select_dtypes(include=['float64', 'int64'])\n",
    "\n",
    "correlation_matrix_connections = df_numerical_connections.corr()\n",
    "correlation_matrix_connections"
   ],
   "outputs": [],
   "execution_count": null
  },
  {
   "cell_type": "code",
   "id": "7e5d4ca397ae2d7f",
   "metadata": {},
   "source": [
    "plt.figure(figsize=(10, 10))\n",
    "sns.heatmap(correlation_matrix_connections, annot=True, cmap=\"coolwarm\", fmt='.2f')\n",
    "plt.title(\"Connections\")\n",
    "plt.show()"
   ],
   "outputs": [],
   "execution_count": null
  },
  {
   "cell_type": "markdown",
   "id": "949d6b70e2effac4",
   "metadata": {},
   "source": [
    "#### z týchto atribútov vyberáme:\n",
    "- #### c.katana\n",
    "- #### c.dogalize\n",
    "- #### c.adroid.gm\n",
    "- #### c.android.chrome\n",
    "- \n",
    "#### kôli ich prepojeniu s mwra"
   ]
  },
  {
   "cell_type": "code",
   "id": "20c30e62646773a",
   "metadata": {},
   "source": [
    "significant_connections = [\n",
    "    \"c.katana\",\n",
    "    \"c.dogalize\",\n",
    "    \"c.android.chrome\",\n",
    "    \"c.android.gm\"\n",
    "]\n",
    "\n",
    "descriptive_stats = df_connections[significant_connections].describe()\n",
    "descriptive_stats"
   ],
   "outputs": [],
   "execution_count": null
  },
  {
   "cell_type": "markdown",
   "id": "e4516022ad726573",
   "metadata": {},
   "source": "#### takisto ako pre df_processes, tak aj tu overujeme normalitu atribútov"
  },
  {
   "cell_type": "code",
   "id": "b5b4278b6a5a7115",
   "metadata": {},
   "source": [
    "for attribute in significant_connections:\n",
    "    plt.figure(figsize=(10, 6))\n",
    "    sns.histplot(df_connections[attribute], bins=30, kde=True)\n",
    "    plt.title(f'distribucia: {attribute}')\n",
    "    plt.xlabel(attribute)\n",
    "    plt.ylabel('frekvencia')\n",
    "    plt.show()"
   ],
   "outputs": [],
   "execution_count": null
  },
  {
   "cell_type": "markdown",
   "id": "dc5f6b37e018b0b6",
   "metadata": {},
   "source": "#### a na identifikáciu odľahlých hodnôt použijeme takisto boxploty"
  },
  {
   "cell_type": "code",
   "id": "18f4beef082dbbf6",
   "metadata": {},
   "source": [
    "for attribute in significant_connections:\n",
    "    plt.figure(figsize=(10, 6))\n",
    "    sns.boxplot(x=df_connections[attribute])\n",
    "    plt.title(f'boxplot: {attribute}')\n",
    "    plt.xlabel(attribute)\n",
    "    plt.show()"
   ],
   "outputs": [],
   "execution_count": null
  },
  {
   "cell_type": "markdown",
   "id": "df9b1f43ba5ce434",
   "metadata": {},
   "source": [
    "## ----------------------------------------------------------------------------------------\n",
    "## ----------------------------------------------------------------------------------------"
   ]
  },
  {
   "cell_type": "markdown",
   "id": "b856ac4e1229bb8e",
   "metadata": {},
   "source": [
    "## C - Párová analýza dát\n",
    "#### spojíme všetky zvolené významné atribúty do dataframe-u, pre ľahšiu prácu s nimi a následne ich porovnáme, resp. zistíme ich korelácie"
   ]
  },
  {
   "cell_type": "code",
   "id": "72d708be8381da97",
   "metadata": {},
   "source": [
    "df_merged = pd.merge(df_connections, df_processes, on=['imei', 'ts'], how='inner')\n",
    "df_merged = df_merged[significant_processes + significant_connections]\n",
    "df_merged.to_csv('merged_data.csv', index=False)\n",
    "df_merged.head()"
   ],
   "outputs": [],
   "execution_count": null
  },
  {
   "cell_type": "code",
   "id": "23969d3c6f547119",
   "metadata": {},
   "source": [
    "df_numerical_merged = df_merged.select_dtypes(include=['float64', 'int64'])\n",
    "\n",
    "correlation_matrix_connections = df_numerical_merged.corr()\n",
    "correlation_matrix_connections"
   ],
   "outputs": [],
   "execution_count": null
  },
  {
   "cell_type": "code",
   "id": "d20c33566e2a8fc6",
   "metadata": {},
   "source": [
    "sns.heatmap(correlation_matrix_connections, annot=True, cmap=\"coolwarm\", fmt='.2f')"
   ],
   "outputs": [],
   "execution_count": null
  },
  {
   "cell_type": "markdown",
   "id": "a1cd21f6a83af7cf",
   "metadata": {},
   "source": "#### porovnávame aj podobné atribúty za predpokladu, že sa hodnoty budú rovnať"
  },
  {
   "cell_type": "code",
   "id": "f88bb24c26734482",
   "metadata": {},
   "source": [
    "pd.DataFrame({'c.katana': df_connections['c.katana'], 'p.katana': df_processes['p.katana']}).hist(figsize=(6,3))\n",
    "pd.DataFrame({'c.android.chrome': df_connections['c.android.chrome'], 'p.android.chrome': df_processes['p.android.chrome']}).hist(figsize=(6,3))\n",
    "pd.DataFrame({'c.dogalize': df_connections['c.dogalize'], 'p.dogalize': df_processes['p.dogalize']}).hist(figsize=(6,3))\n",
    "pd.DataFrame({'c.android.gm': df_connections['c.android.gm'], 'p.android.gm': df_processes['p.android.gm']}).hist(figsize=(6,3))\n",
    "pd.DataFrame({'c.android.vending': df_connections['c.android.vending'], 'p.android.vending': df_processes['p.android.vending']}).hist(figsize=(6,3))"
   ],
   "outputs": [],
   "execution_count": null
  },
  {
   "cell_type": "markdown",
   "id": "fabf1d5538fb5d61",
   "metadata": {},
   "source": "#### porovnateľné hodnoty sú, .gm, .chrome, .vending"
  },
  {
   "cell_type": "markdown",
   "id": "57e08a03e627cfdc",
   "metadata": {},
   "source": "## D - závislosti medzi predikovanou premennou a ostatnými premennými (sme identifikovali v C) pomocou heatmapy"
  },
  {
   "cell_type": "markdown",
   "id": "3bf676411fc8e1da",
   "metadata": {},
   "source": [
    "## Naše prvotné úvahy k riešeniu zadania:\n",
    "- Predpokladáme, že viaceré atribúty sú medzi sebou prepojené a závislé, napríklad katana a chrome a podobne.\n",
    "- Závislosť od viacerých atribútov nás viedla k tomu, že sme ich spojili do datasetu df_merged.\n",
    "- Bude potrebné kombinovať záznamy z viacerých súborov, čo sme už čiastočne vykonali, avšak musíme ešte dôkladnejšie preskúmať závislosti medzi rôznymi atribútmi a následne riešiť ďalšie problémy."
   ]
  },
  {
   "cell_type": "markdown",
   "id": "3a7f68632d2d97c3",
   "metadata": {},
   "source": [
    "# 1.2 Identifikácia problémov, integrácia a čistenie dát\n",
    "## A - prvotne riesenia problemov"
   ]
  },
  {
   "cell_type": "markdown",
   "id": "5b3daa5f23e42d14",
   "metadata": {},
   "source": "#### vymažeme duplikáty, keďže niesú vôbec potrebné a môžu výsledky ovplivniť"
  },
  {
   "cell_type": "code",
   "id": "57508fc4-c623-450e-8d86-ef6f9ed905c0",
   "metadata": {},
   "source": [
    "df_profiles.info()"
   ],
   "outputs": [],
   "execution_count": null
  },
  {
   "cell_type": "code",
   "id": "25186af7-6b76-4e6d-9efe-f519a00644a5",
   "metadata": {},
   "source": [
    "df_profiles['registration']=pd.to_datetime(df_profiles['registration'],format=\"mixed\")\n",
    "df_profiles['birthdate']=pd.to_datetime(df_profiles['birthdate'])\n",
    "df_profiles.info()"
   ],
   "outputs": [],
   "execution_count": null
  },
  {
   "cell_type": "code",
   "id": "42481b2b-73e4-42f4-a8b9-e3e361c91901",
   "metadata": {},
   "source": [
    "df_connections.info()"
   ],
   "outputs": [],
   "execution_count": null
  },
  {
   "cell_type": "code",
   "id": "7482d16f-e6e2-4fe4-a560-d4ebd5a40cb4",
   "metadata": {},
   "source": [
    "df_connections['ts']=pd.to_datetime(df_connections['ts'])\n",
    "df_connections.info()"
   ],
   "outputs": [],
   "execution_count": null
  },
  {
   "cell_type": "code",
   "id": "694c3cb8-7515-4fc2-92fe-e4b2951387a1",
   "metadata": {},
   "source": [
    "df_processes['ts']=pd.to_datetime(df_processes['ts'])\n",
    "df_processes.info()"
   ],
   "outputs": [],
   "execution_count": null
  },
  {
   "cell_type": "code",
   "id": "1a9c7b16-aaab-4aad-8a43-1949b9b22cdc",
   "metadata": {},
   "source": [
    "print(df_connections.duplicated().sum())\n",
    "print(df_devices.duplicated().sum())\n",
    "print(df_processes.duplicated().sum())\n",
    "print(df_profiles.duplicated().sum())"
   ],
   "outputs": [],
   "execution_count": null
  },
  {
   "cell_type": "code",
   "id": "77fec294-5ba8-4fb4-95ae-6c40df827252",
   "metadata": {},
   "source": [
    "df_connections = df_connections.drop_duplicates()\n",
    "df_devices = df_devices.drop_duplicates()\n",
    "df_processes = df_processes.drop_duplicates()\n",
    "df_profiles = df_profiles.drop_duplicates()"
   ],
   "outputs": [],
   "execution_count": null
  },
  {
   "cell_type": "code",
   "id": "164d2c64-a48b-4088-b849-10a9128f299a",
   "metadata": {},
   "source": [
    "print(df_connections.duplicated().sum())\n",
    "print(df_devices.duplicated().sum())\n",
    "print(df_processes.duplicated().sum())\n",
    "print(df_profiles.duplicated().sum())"
   ],
   "outputs": [],
   "execution_count": null
  },
  {
   "cell_type": "markdown",
   "id": "96ad27c7-c933-4809-90f9-5093d8c0a2cf",
   "metadata": {},
   "source": "## B - Missing Values, kde najviac detekovaných missing values sa nachádzalo v df profiles"
  },
  {
   "metadata": {},
   "cell_type": "markdown",
   "source": [
    "#### preto sme chýbajúce hodnoty riešili troma spôsobmi:\n",
    "- v stĺpci birthday sme nahradili chýbajúce hodnoty .mean() - pretože sme to ináč riešiť nevedeli a nechceli sme tento stĺpec vymazať, keďže si myslíme, že vek môže ovplivniť mwra\n",
    "- v stĺpci job, sme nahradili chýbajúce hodnoty objektom \"no-job\"\n",
    "- ostatné nepotrebné stĺpce sme odstránili"
   ],
   "id": "f395550660ad8b7"
  },
  {
   "cell_type": "code",
   "id": "7c1fa44a-7a4a-4cdb-8d21-63f933f2e829",
   "metadata": {},
   "source": [
    "df_profiles.isnull().sum()"
   ],
   "outputs": [],
   "execution_count": null
  },
  {
   "cell_type": "code",
   "id": "9e2ee57f-c1c8-425e-a8c4-92f316383942",
   "metadata": {},
   "source": [
    "df_profiles['birthdate']=df_profiles['birthdate'].fillna(df_profiles['birthdate'].mean())\n",
    "df_profiles['birthdate'].isnull().shape[0]\n",
    "df_profiles.head()"
   ],
   "outputs": [],
   "execution_count": null
  },
  {
   "cell_type": "code",
   "id": "86a90322-6cce-4147-a6eb-c565d722e0bc",
   "metadata": {},
   "source": [
    "df_profiles['job'] = df_profiles['job'].fillna('no job')\n",
    "df_profiles.head()"
   ],
   "outputs": [],
   "execution_count": null
  },
  {
   "cell_type": "code",
   "id": "b90e3146-0cfd-43d7-8b49-5d123810db14",
   "metadata": {},
   "source": [
    "for column in df_profiles.columns:\n",
    "    if df_profiles[df_profiles[column].isnull()].shape[0]:\n",
    "        df_profiles.drop([column],axis=1,inplace=True)\n",
    "        print(\"dropped: \"+column)\n",
    "df_profiles.isnull().sum()"
   ],
   "outputs": [],
   "execution_count": null
  },
  {
   "cell_type": "markdown",
   "id": "1fc37155d6b11059",
   "metadata": {},
   "source": [
    "## C - outliers\n",
    "#### už vyššie sme identifikovali vychýlené hodnoty, v tomto bode sme ich riešili dvoma spôsobmi:\n",
    "- nahradením\n",
    "- vymazaním"
   ]
  },
  {
   "cell_type": "code",
   "id": "c556afb6-8e2c-43e1-bb4b-391f73eecd3c",
   "metadata": {},
   "source": [
    "def identify_outliers(a):\n",
    "    lower = a.quantile(0.25) - 1.5 * stats.iqr(a)\n",
    "    upper = a.quantile(0.75) + 1.5 * stats.iqr(a)\n",
    "    \n",
    "    return a[(a > upper) | (a < lower)]"
   ],
   "outputs": [],
   "execution_count": null
  },
  {
   "cell_type": "code",
   "id": "ab2658c4-6d11-46fa-8dc1-d7d370602792",
   "metadata": {},
   "source": [
    "androidgm0 = df_connections[df_connections['mwra'] == 0]['c.android.gm']\n",
    "androidgm0.describe()"
   ],
   "outputs": [],
   "execution_count": null
  },
  {
   "cell_type": "code",
   "id": "cc0375d0-61ba-4528-955e-4d9e2589898e",
   "metadata": {},
   "source": [
    "androidgm0_out = identify_outliers(androidgm0)\n",
    "androidgm0_out"
   ],
   "outputs": [],
   "execution_count": null
  },
  {
   "cell_type": "code",
   "id": "e15e74a6-970d-43db-bbc4-786272f6fef4",
   "metadata": {},
   "source": [
    "sns.histplot(androidgm0)"
   ],
   "outputs": [],
   "execution_count": null
  },
  {
   "cell_type": "code",
   "id": "a972b019-c625-4105-8816-9f0f02c2e476",
   "metadata": {},
   "source": [
    "androidgm0 = androidgm0.drop(androidgm0_out.index)\n",
    "sns.histplot(androidgm0)"
   ],
   "outputs": [],
   "execution_count": null
  },
  {
   "cell_type": "code",
   "id": "5874f2dd-001e-4ed1-83c8-448eab72c965",
   "metadata": {},
   "source": [
    "androidgm1 = df_connections[df_connections['mwra'] == 1]['c.android.gm']\n",
    "androidgm1.describe()"
   ],
   "outputs": [],
   "execution_count": null
  },
  {
   "cell_type": "code",
   "id": "2e7441c2-a9ec-4929-9de7-a24de282af86",
   "metadata": {},
   "source": [
    "sns.histplot(androidgm1)"
   ],
   "outputs": [],
   "execution_count": null
  },
  {
   "cell_type": "code",
   "id": "d2fec6b2-f69a-4af9-97d3-5134fb15747f",
   "metadata": {},
   "source": [
    "androidgm1_out = identify_outliers(androidgm1)\n",
    "androidgm1_out"
   ],
   "outputs": [],
   "execution_count": null
  },
  {
   "cell_type": "code",
   "id": "05d69d71-9d61-40dc-9871-ec356473381c",
   "metadata": {},
   "source": [
    "androidgm1 = androidgm1.drop(androidgm1_out.index)\n",
    "sns.histplot(androidgm1)"
   ],
   "outputs": [],
   "execution_count": null
  },
  {
   "cell_type": "code",
   "id": "4b5fe58b7b2853dd",
   "metadata": {},
   "source": [
    "plt.figure(figsize=(10, 6))\n",
    "sns.boxplot(x=df_merged['c.katana'])\n",
    "plt.title(f'boxplot: c.katana (povodny)')\n",
    "plt.xlabel('c.katana')\n",
    "plt.show()"
   ],
   "outputs": [],
   "execution_count": null
  },
  {
   "cell_type": "code",
   "id": "a2e8673c0f7e6e6a",
   "metadata": {},
   "source": [
    "z_scores = np.abs(stats.zscore(df_merged['c.katana']))\n",
    "threshold = 3\n",
    "df_no_outliers = df_merged['c.katana'][(z_scores < threshold)]"
   ],
   "outputs": [],
   "execution_count": null
  },
  {
   "cell_type": "code",
   "id": "b431a5ed848af956",
   "metadata": {},
   "source": [
    "plt.figure(figsize=(10, 6))\n",
    "sns.boxplot(x=df_no_outliers)\n",
    "plt.title(f'boxplot: c.katana (bez outlierov)')\n",
    "plt.xlabel('c.katana')\n",
    "plt.show()"
   ],
   "outputs": [],
   "execution_count": null
  },
  {
   "cell_type": "code",
   "id": "2995a81712be0edf",
   "metadata": {},
   "source": [
    "plt.figure(figsize=(10, 6))\n",
    "sns.boxplot(x=df_merged['c.android.chrome'])\n",
    "plt.title(f'boxplot: c.android.chrome (povodny)')\n",
    "plt.xlabel('c.android.chrome')\n",
    "plt.show()"
   ],
   "outputs": [],
   "execution_count": null
  },
  {
   "cell_type": "code",
   "id": "327a9161af40389a",
   "metadata": {},
   "source": [
    "lower_bound = df_merged['c.android.chrome'].quantile(0.05)\n",
    "upper_bound = df_merged['c.android.chrome'].quantile(0.95)\n",
    "\n",
    "df_replaced_outliers = df_merged['c.android.chrome'].copy()\n",
    "df_replaced_outliers[df_replaced_outliers < lower_bound] = lower_bound\n",
    "df_replaced_outliers[df_replaced_outliers > upper_bound] = upper_bound"
   ],
   "outputs": [],
   "execution_count": null
  },
  {
   "cell_type": "code",
   "id": "270aff12919bc395",
   "metadata": {},
   "source": [
    "plt.figure(figsize=(10, 6))\n",
    "sns.boxplot(x=df_replaced_outliers)\n",
    "plt.title(f'boxplot: c.android.chrome (outliery nahradené kvantilmi)')\n",
    "plt.xlabel('c.android.chrome')\n",
    "plt.show()"
   ],
   "outputs": [],
   "execution_count": null
  },
  {
   "cell_type": "markdown",
   "id": "9e3dd27724441ccb",
   "metadata": {},
   "source": [
    "# 1.3 Formulácia a štatistické overenie hypotéz o dátach"
   ]
  },
  {
   "cell_type": "markdown",
   "id": "2264da7b-b08f-4b6b-b534-ed9726d80882",
   "metadata": {},
   "source": [
    "### Hypoteza 1:\n",
    "**H₀**: Medzi aplikačnými procesmy bez prítomnosti malvéru (mwra = 0) a s prítomnosťou škodlivého softvéru (mwra = 1) neexistuje signifikantný rozdiel v hodnotách sledovanej premennej 'c.android.gm' (čo zodpovedá aplikácii Gmail pre Android)."
   ]
  },
  {
   "cell_type": "code",
   "id": "e24dfbdd-ee0e-48ea-95f2-b790d4544228",
   "metadata": {},
   "source": [
    "plt.figure(figsize=(10, 6))  \n",
    "sns.boxplot(x='mwra', y='c.android.gm', data=df_connections)\n",
    "\n",
    "plt.title('c.android.gm vs mwra')\n",
    "plt.xlabel('mwra (0 = bez malware, 1 = s malware)')\n",
    "plt.ylabel('c.android.gm')\n",
    "plt.grid(axis='y')\n",
    "plt.show()"
   ],
   "outputs": [],
   "execution_count": null
  },
  {
   "cell_type": "code",
   "id": "fc523771-d186-4caf-9b44-5da512b21804",
   "metadata": {},
   "source": [
    "group1 = df_connections[df_connections['mwra'] == 0]['c.android.gm']\n",
    "group2 = df_connections[df_connections['mwra'] == 1]['c.android.gm']\n",
    "t_stat, p_value = stats.ttest_ind(group1, group2)\n",
    "print(f\"T-statistic: {t_stat}, P-value: {p_value}\")"
   ],
   "outputs": [],
   "execution_count": null
  },
  {
   "cell_type": "code",
   "id": "ee7a0b31-cc2e-4b7f-b67e-59701e940186",
   "metadata": {},
   "source": [
    "from statsmodels.stats.power import TTestIndPower\n",
    "\n",
    "\n",
    "effect_size = (np.mean(group1) - np.mean(group2)) / np.sqrt((np.var(group1) + np.var(group2)) / 2) \n",
    "alpha = 0.05 \n",
    "n1 = len(group1)  \n",
    "n2 = len(group2)  \n",
    "\n",
    "analysis = TTestIndPower()\n",
    "power = analysis.solve_power(effect_size=effect_size, nobs1=n1, alpha=alpha, ratio=n2/n1, alternative='two-sided')\n",
    "\n",
    "print(f'Statistická sila testu pre 1. Hypotézu je {power}')\n"
   ],
   "outputs": [],
   "execution_count": null
  },
  {
   "cell_type": "markdown",
   "id": "9ae01a26-9b5c-40bb-b148-f53d4fbb0bf4",
   "metadata": {},
   "source": [
    "**Záver:** Keďže p-hodnota **(~0.873)** je väčšia ako štandardná hladina významnosti (napr. 0,05), nemáme dostatok dôkazov na zamietnutie nulovej hypotézy.\n",
    "\n",
    "**Interpretácia:** Z toho vyplýva, že neexistuje štatisticky významný rozdiel medzi zariadeniami s malvérom (mwra = 1) v súvislosti s 'c.android.gm', aplikáciou Gmail.\n",
    "## ----------------------------------------------------------------------------------------"
   ]
  },
  {
   "cell_type": "markdown",
   "id": "bef9eb1c-e386-43a2-a912-d8005d059e89",
   "metadata": {},
   "source": [
    "### Hypotéza 2:\n",
    "**H₀**: Medzi aplikačnými procesmi bez prítomnosti malvéru (mwra = 0) a s prítomnosťou škodlivého softvéru (mwra = 1) neexistuje signifikantný rozdiel v hodnotách sledovanej premennej 'p.android.settings' (čo zodpovedá nastaveniam Androidu)."
   ]
  },
  {
   "cell_type": "code",
   "id": "568c0fd5-1029-41b5-b4c7-39cd150ad260",
   "metadata": {},
   "source": [
    "plt.figure(figsize=(10, 6))  \n",
    "sns.boxplot(x='mwra', y='p.android.settings', data=df_processes)\n",
    "\n",
    "plt.title('p.android.settings vs mwra')\n",
    "plt.xlabel('mwra (0 = bez malware, 1 = s malware)')\n",
    "plt.ylabel('p.android.settings')\n",
    "plt.grid(axis='y')\n",
    "\n",
    "plt.show()\n",
    "\n",
    "group1 = df_processes[df_processes['mwra'] == 0]['p.android.settings']\n",
    "group2 = df_processes[df_processes['mwra'] == 1]['p.android.settings']\n",
    "t_stat, p_value = stats.ttest_ind(group1, group2)\n",
    "print(f\"T-statistic: {t_stat}, P-value: {p_value}\")"
   ],
   "outputs": [],
   "execution_count": null
  },
  {
   "cell_type": "markdown",
   "id": "1e3fc0bf-6777-4e62-b7bb-b6ea55b2081b",
   "metadata": {},
   "source": [
    "***Záver***: Keďže p-hodnota je menšia ako štandardná hladina významnosti (p < 0,05), máme dostatok dôkazov na zamietnutie nulovej hypotézy.\n",
    "\n",
    "***Interpretácia***: Z toho vyplýva, že existuje štatisticky významný rozdiel medzi zariadeniami s malvérom (mwra = 1) v súvislosti s aplikáciou 'p.android.settings' (nastavenia Androidu)."
   ]
  },
  {
   "cell_type": "code",
   "id": "c5eed0d9-6957-42c9-9d5f-878580ab8aa7",
   "metadata": {},
   "source": [
    "from statsmodels.stats.power import TTestIndPower\n",
    "\n",
    "\n",
    "effect_size = (np.mean(group1) - np.mean(group2)) / np.sqrt((np.var(group1) + np.var(group2)) / 2)  # efekt veľkosti\n",
    "alpha = 0.05  \n",
    "n1 = len(group1)  \n",
    "n2 = len(group2)  \n",
    "\n",
    "analysis = TTestIndPower()\n",
    "power = analysis.solve_power(effect_size=effect_size, nobs1=n1, alpha=alpha, ratio=n2/n1, alternative='two-sided')\n",
    "\n",
    "print(f'Statistická sila testu pre 2. Hypotézu je {power}')\n"
   ],
   "outputs": [],
   "execution_count": null
  }
 ],
 "metadata": {
  "kernelspec": {
   "display_name": "Python 3 (ipykernel)",
   "language": "python",
   "name": "python3"
  },
  "language_info": {
   "codemirror_mode": {
    "name": "ipython",
    "version": 3
   },
   "file_extension": ".py",
   "mimetype": "text/x-python",
   "name": "python",
   "nbconvert_exporter": "python",
   "pygments_lexer": "ipython3",
   "version": "3.12.6"
  }
 },
 "nbformat": 4,
 "nbformat_minor": 5
}
