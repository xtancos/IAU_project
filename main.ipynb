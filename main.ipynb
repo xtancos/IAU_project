{
 "cells": [
  {
   "metadata": {
    "ExecuteTime": {
     "end_time": "2024-10-14T10:56:32.390068Z",
     "start_time": "2024-10-14T10:56:32.372065Z"
    }
   },
   "cell_type": "code",
   "source": "import pandas as pd",
   "id": "d84eabfd1ed4a523",
   "outputs": [],
   "execution_count": 14
  },
  {
   "metadata": {},
   "cell_type": "markdown",
   "source": "1.2 Identifikácia problémov, integrácia a čistenie dát",
   "id": "f383fab36f316421"
  },
  {
   "metadata": {
    "ExecuteTime": {
     "end_time": "2024-10-14T10:56:32.470062Z",
     "start_time": "2024-10-14T10:56:32.391101Z"
    }
   },
   "cell_type": "code",
   "source": [
    "# load data\n",
    "df_connections  = pd.read_csv(\"data/connections.csv\", sep=\"\\t\")\n",
    "df_devices      = pd.read_csv(\"data/devices.csv\", sep=\"\\t\")\n",
    "df_processes    = pd.read_csv(\"data/processes.csv\", sep=\"\\t\")\n",
    "df_profiles     = pd.read_csv(\"data/profiles.csv\", sep=\"\\t\")\n",
    "\n",
    "# identification of the problems:\n",
    "def analyze_dataframe(df, name):\n",
    "    print(f\"\\nData set: {name}\")\n",
    "    print(f\"Shape: \\trows: {df.shape[0]}\\n\\t\\tcolumns: {df.shape[1]}\")\n",
    "    print(f\"Missing values:\\n{df.isnull().sum()}\")\n",
    "    print(f\"Duplicates: {df.duplicated().sum()}\")\n",
    "    print(f\"Data types:\\n{df.dtypes}\")"
   ],
   "id": "e253ae85218fcc88",
   "outputs": [],
   "execution_count": 15
  },
  {
   "metadata": {
    "ExecuteTime": {
     "end_time": "2024-10-14T10:56:32.485085Z",
     "start_time": "2024-10-14T10:56:32.471086Z"
    }
   },
   "cell_type": "code",
   "source": "analyze_dataframe(df_connections, \"connections\")",
   "id": "ac0994b0ec4140c6",
   "outputs": [
    {
     "name": "stdout",
     "output_type": "stream",
     "text": [
      "\n",
      "Data set: connections\n",
      "Shape: \trows: 15056\n",
      "\t\tcolumns: 13\n",
      "Missing values:\n",
      "ts                   0\n",
      "imei                 0\n",
      "mwra                 0\n",
      "c.android.chrome     0\n",
      "c.android.youtube    0\n",
      "c.dogalize           0\n",
      "c.android.gm         0\n",
      "c.katana             0\n",
      "c.UCMobile.intl      0\n",
      "c.UCMobile.x86       0\n",
      "c.raider             0\n",
      "c.updateassist       0\n",
      "c.android.vending    0\n",
      "dtype: int64\n",
      "Duplicates: 179\n",
      "Data types:\n",
      "ts                    object\n",
      "imei                   int64\n",
      "mwra                 float64\n",
      "c.android.chrome     float64\n",
      "c.android.youtube    float64\n",
      "c.dogalize           float64\n",
      "c.android.gm         float64\n",
      "c.katana             float64\n",
      "c.UCMobile.intl      float64\n",
      "c.UCMobile.x86       float64\n",
      "c.raider             float64\n",
      "c.updateassist       float64\n",
      "c.android.vending    float64\n",
      "dtype: object\n"
     ]
    }
   ],
   "execution_count": 16
  },
  {
   "metadata": {
    "ExecuteTime": {
     "end_time": "2024-10-14T10:56:32.501091Z",
     "start_time": "2024-10-14T10:56:32.486070Z"
    }
   },
   "cell_type": "code",
   "source": "analyze_dataframe(df_devices, \"devices\")",
   "id": "1f93fc29590e4ea6",
   "outputs": [
    {
     "name": "stdout",
     "output_type": "stream",
     "text": [
      "\n",
      "Data set: devices\n",
      "Shape: \trows: 2877\n",
      "\t\tcolumns: 6\n",
      "Missing values:\n",
      "latitude      0\n",
      "longitude     0\n",
      "store_name    0\n",
      "code          1\n",
      "location      0\n",
      "imei          0\n",
      "dtype: int64\n",
      "Duplicates: 9\n",
      "Data types:\n",
      "latitude      float64\n",
      "longitude     float64\n",
      "store_name     object\n",
      "code           object\n",
      "location       object\n",
      "imei            int64\n",
      "dtype: object\n"
     ]
    }
   ],
   "execution_count": 17
  },
  {
   "metadata": {
    "ExecuteTime": {
     "end_time": "2024-10-14T10:56:32.532097Z",
     "start_time": "2024-10-14T10:56:32.502094Z"
    }
   },
   "cell_type": "code",
   "source": "analyze_dataframe(df_processes, \"processes\")",
   "id": "fcb3f1084cc43281",
   "outputs": [
    {
     "name": "stdout",
     "output_type": "stream",
     "text": [
      "\n",
      "Data set: processes\n",
      "Shape: \trows: 15056\n",
      "\t\tcolumns: 23\n",
      "Missing values:\n",
      "ts                            0\n",
      "imei                          0\n",
      "mwra                          0\n",
      "p.android.externalstorage     0\n",
      "p.system                      0\n",
      "p.android.packageinstaller    0\n",
      "p.android.settings            0\n",
      "p.android.chrome              0\n",
      "p.android.gm                  0\n",
      "p.android.documentsui         0\n",
      "p.process.gapps               0\n",
      "p.gms.persistent              0\n",
      "p.notifier                    0\n",
      "p.olauncher                   0\n",
      "p.dogalize                    0\n",
      "p.android.gms                 0\n",
      "p.simulator                   0\n",
      "p.katana                      0\n",
      "p.inputmethod.latin           0\n",
      "p.browser.provider            0\n",
      "p.android.defcontainer        0\n",
      "p.android.vending             0\n",
      "p.google                      0\n",
      "dtype: int64\n",
      "Duplicates: 179\n",
      "Data types:\n",
      "ts                             object\n",
      "imei                            int64\n",
      "mwra                          float64\n",
      "p.android.externalstorage     float64\n",
      "p.system                      float64\n",
      "p.android.packageinstaller    float64\n",
      "p.android.settings            float64\n",
      "p.android.chrome              float64\n",
      "p.android.gm                  float64\n",
      "p.android.documentsui         float64\n",
      "p.process.gapps               float64\n",
      "p.gms.persistent              float64\n",
      "p.notifier                    float64\n",
      "p.olauncher                   float64\n",
      "p.dogalize                    float64\n",
      "p.android.gms                 float64\n",
      "p.simulator                   float64\n",
      "p.katana                      float64\n",
      "p.inputmethod.latin           float64\n",
      "p.browser.provider            float64\n",
      "p.android.defcontainer        float64\n",
      "p.android.vending             float64\n",
      "p.google                      float64\n",
      "dtype: object\n"
     ]
    }
   ],
   "execution_count": 18
  },
  {
   "metadata": {
    "ExecuteTime": {
     "end_time": "2024-10-14T10:56:32.548087Z",
     "start_time": "2024-10-14T10:56:32.533064Z"
    }
   },
   "cell_type": "code",
   "source": "analyze_dataframe(df_profiles, \"profiles\")",
   "id": "734b2739c522aa01",
   "outputs": [
    {
     "name": "stdout",
     "output_type": "stream",
     "text": [
      "\n",
      "Data set: profiles\n",
      "Shape: \trows: 2623\n",
      "\t\tcolumns: 12\n",
      "Missing values:\n",
      "mail                   0\n",
      "imei                   0\n",
      "birthdate           1180\n",
      "username               0\n",
      "user_id                0\n",
      "address              393\n",
      "ssn                    0\n",
      "job                 1836\n",
      "registration           0\n",
      "current_location     131\n",
      "company                0\n",
      "name                   0\n",
      "dtype: int64\n",
      "Duplicates: 0\n",
      "Data types:\n",
      "mail                object\n",
      "imei                 int64\n",
      "birthdate           object\n",
      "username            object\n",
      "user_id              int64\n",
      "address             object\n",
      "ssn                 object\n",
      "job                 object\n",
      "registration        object\n",
      "current_location    object\n",
      "company             object\n",
      "name                object\n",
      "dtype: object\n"
     ]
    }
   ],
   "execution_count": 19
  }
 ],
 "metadata": {
  "kernelspec": {
   "display_name": "Python 3",
   "language": "python",
   "name": "python3"
  },
  "language_info": {
   "codemirror_mode": {
    "name": "ipython",
    "version": 2
   },
   "file_extension": ".py",
   "mimetype": "text/x-python",
   "name": "python",
   "nbconvert_exporter": "python",
   "pygments_lexer": "ipython2",
   "version": "2.7.6"
  }
 },
 "nbformat": 4,
 "nbformat_minor": 5
}
