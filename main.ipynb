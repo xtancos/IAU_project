{
 "cells": [
  {
   "metadata": {
    "ExecuteTime": {
     "end_time": "2024-10-14T19:26:11.608710Z",
     "start_time": "2024-10-14T19:26:11.594712Z"
    }
   },
   "cell_type": "code",
   "source": [
    "import pandas as pd\n",
    "import re\n",
    "import numpy as np\n",
    "import matplotlib.pyplot as plt\n",
    "import seaborn as sns"
   ],
   "id": "d84eabfd1ed4a523",
   "outputs": [],
   "execution_count": 107
  },
  {
   "metadata": {},
   "cell_type": "markdown",
   "source": "1.2 Identifikácia problémov, integrácia a čistenie dát",
   "id": "f383fab36f316421"
  },
  {
   "metadata": {},
   "cell_type": "markdown",
   "source": "definujeme si funkcie na zistenie duplicitných záznamov, nejednotné formáty, chýbajúce hodnoty a vychýlené hodnoty",
   "id": "e2e6588f8d1a8452"
  },
  {
   "metadata": {
    "ExecuteTime": {
     "end_time": "2024-10-14T19:26:11.720220Z",
     "start_time": "2024-10-14T19:26:11.646165Z"
    }
   },
   "cell_type": "code",
   "source": [
    "# read data\n",
    "df_connections  = pd.read_csv(\"data/connections.csv\", sep=\"\\t\")\n",
    "df_devices      = pd.read_csv(\"data/devices.csv\", sep=\"\\t\")\n",
    "df_processes    = pd.read_csv(\"data/processes.csv\", sep=\"\\t\")\n",
    "df_profiles     = pd.read_csv(\"data/profiles.csv\", sep=\"\\t\")\n",
    "\n",
    "# identification of the problems:\n",
    "def df_missing_values(df):\n",
    "    print(f\"Missing values:\\n{df.isnull().sum()}\")\n",
    "    \n",
    "def df_duplicates(df):\n",
    "    print(f\"Duplicates: {df.duplicated().sum()}\")\n",
    "\n",
    "def df_shape(df):\n",
    "    print(f\"Shape: \\trows: {df.shape[0]}\\n\\t\\tcolumns: {df.shape[1]}\")\n",
    "    \n",
    "def df_dtypes(df):\n",
    "    print(f\"Data types:\\n{df.dtypes}\")\n",
    "\n",
    "# all in one:\n",
    "def analyze_dataframe(df, name):\n",
    "    print(f\"\\nData set: {name}\")\n",
    "    print(f\"Shape: \\trows: {df.shape[0]}\\n\\t\\tcolumns: {df.shape[1]}\")\n",
    "    print(f\"Missing values:\\n{df.isnull().sum()}\")\n",
    "    print(f\"Duplicates: {df.duplicated().sum()}\")\n",
    "    print(f\"Data types:\\n{df.dtypes}\")\n",
    "\n",
    "# for removing duplicates\n",
    "def remove_duplicates(df):\n",
    "    initial_count = df.shape[0]\n",
    "    df = df.drop_duplicates()\n",
    "    final_count = df.shape[0]\n",
    "    removed_count = initial_count - final_count\n",
    "    print(f\"Removed {removed_count} duplicate rows.\")\n",
    "    return df\n",
    "\n",
    "# removing missing values\n",
    "def remove_nan(df):\n",
    "    initial_count = df.shape[0]\n",
    "    df = df.dropna()\n",
    "\n",
    "    final_count = df.shape[0]\n",
    "    removed_count = initial_count - final_count\n",
    "\n",
    "    print(f\"Removed {removed_count} rows with missing values.\")\n",
    "    return df\n"
   ],
   "id": "e253ae85218fcc88",
   "outputs": [],
   "execution_count": 108
  },
  {
   "metadata": {},
   "cell_type": "markdown",
   "source": "1.2.a",
   "id": "c17d58c6efa5ef3a"
  },
  {
   "metadata": {
    "ExecuteTime": {
     "end_time": "2024-10-14T19:26:11.752226Z",
     "start_time": "2024-10-14T19:26:11.721201Z"
    }
   },
   "cell_type": "code",
   "source": [
    "df_connections  = remove_duplicates(df_connections)\n",
    "df_devices      = remove_duplicates(df_devices)\n",
    "df_processes    = remove_duplicates(df_processes)\n",
    "df_profiles     = remove_duplicates(df_profiles)"
   ],
   "id": "1f933e6f9f5aace5",
   "outputs": [
    {
     "name": "stdout",
     "output_type": "stream",
     "text": [
      "Removed 179 duplicate rows.\n",
      "Removed 9 duplicate rows.\n",
      "Removed 179 duplicate rows.\n",
      "Removed 0 duplicate rows.\n"
     ]
    }
   ],
   "execution_count": 109
  },
  {
   "metadata": {
    "ExecuteTime": {
     "end_time": "2024-10-14T19:26:11.768223Z",
     "start_time": "2024-10-14T19:26:11.753237Z"
    }
   },
   "cell_type": "code",
   "source": [
    "df_connections  = remove_nan(df_connections)\n",
    "df_devices      = remove_nan(df_devices)\n",
    "df_processes    = remove_nan(df_processes)\n",
    "df_profiles     = remove_nan(df_profiles)"
   ],
   "id": "9e0711553492d3ec",
   "outputs": [
    {
     "name": "stdout",
     "output_type": "stream",
     "text": [
      "Removed 0 rows with missing values.\n",
      "Removed 1 rows with missing values.\n",
      "Removed 0 rows with missing values.\n",
      "Removed 2268 rows with missing values.\n"
     ]
    }
   ],
   "execution_count": 110
  },
  {
   "metadata": {
    "ExecuteTime": {
     "end_time": "2024-10-14T19:26:11.783231Z",
     "start_time": "2024-10-14T19:26:11.769224Z"
    }
   },
   "cell_type": "code",
   "source": "analyze_dataframe(df_connections, \"connections\")",
   "id": "b76ac26ae5d7fc6",
   "outputs": [
    {
     "name": "stdout",
     "output_type": "stream",
     "text": [
      "\n",
      "Data set: connections\n",
      "Shape: \trows: 14877\n",
      "\t\tcolumns: 13\n",
      "Missing values:\n",
      "ts                   0\n",
      "imei                 0\n",
      "mwra                 0\n",
      "c.android.chrome     0\n",
      "c.android.youtube    0\n",
      "c.dogalize           0\n",
      "c.android.gm         0\n",
      "c.katana             0\n",
      "c.UCMobile.intl      0\n",
      "c.UCMobile.x86       0\n",
      "c.raider             0\n",
      "c.updateassist       0\n",
      "c.android.vending    0\n",
      "dtype: int64\n",
      "Duplicates: 0\n",
      "Data types:\n",
      "ts                    object\n",
      "imei                   int64\n",
      "mwra                 float64\n",
      "c.android.chrome     float64\n",
      "c.android.youtube    float64\n",
      "c.dogalize           float64\n",
      "c.android.gm         float64\n",
      "c.katana             float64\n",
      "c.UCMobile.intl      float64\n",
      "c.UCMobile.x86       float64\n",
      "c.raider             float64\n",
      "c.updateassist       float64\n",
      "c.android.vending    float64\n",
      "dtype: object\n"
     ]
    }
   ],
   "execution_count": 111
  },
  {
   "metadata": {
    "ExecuteTime": {
     "end_time": "2024-10-14T19:26:11.799254Z",
     "start_time": "2024-10-14T19:26:11.784233Z"
    }
   },
   "cell_type": "code",
   "source": [
    "analyze_dataframe(df_devices, \"devices\")\n",
    "df_dtypes(df_devices)"
   ],
   "id": "933384ab9720a4c5",
   "outputs": [
    {
     "name": "stdout",
     "output_type": "stream",
     "text": [
      "\n",
      "Data set: devices\n",
      "Shape: \trows: 2867\n",
      "\t\tcolumns: 6\n",
      "Missing values:\n",
      "latitude      0\n",
      "longitude     0\n",
      "store_name    0\n",
      "code          0\n",
      "location      0\n",
      "imei          0\n",
      "dtype: int64\n",
      "Duplicates: 0\n",
      "Data types:\n",
      "latitude      float64\n",
      "longitude     float64\n",
      "store_name     object\n",
      "code           object\n",
      "location       object\n",
      "imei            int64\n",
      "dtype: object\n",
      "Data types:\n",
      "latitude      float64\n",
      "longitude     float64\n",
      "store_name     object\n",
      "code           object\n",
      "location       object\n",
      "imei            int64\n",
      "dtype: object\n"
     ]
    }
   ],
   "execution_count": 112
  },
  {
   "metadata": {
    "ExecuteTime": {
     "end_time": "2024-10-14T19:26:11.830229Z",
     "start_time": "2024-10-14T19:26:11.800208Z"
    }
   },
   "cell_type": "code",
   "source": "analyze_dataframe(df_processes, \"processes\")",
   "id": "db390900006dea4b",
   "outputs": [
    {
     "name": "stdout",
     "output_type": "stream",
     "text": [
      "\n",
      "Data set: processes\n",
      "Shape: \trows: 14877\n",
      "\t\tcolumns: 23\n",
      "Missing values:\n",
      "ts                            0\n",
      "imei                          0\n",
      "mwra                          0\n",
      "p.android.externalstorage     0\n",
      "p.system                      0\n",
      "p.android.packageinstaller    0\n",
      "p.android.settings            0\n",
      "p.android.chrome              0\n",
      "p.android.gm                  0\n",
      "p.android.documentsui         0\n",
      "p.process.gapps               0\n",
      "p.gms.persistent              0\n",
      "p.notifier                    0\n",
      "p.olauncher                   0\n",
      "p.dogalize                    0\n",
      "p.android.gms                 0\n",
      "p.simulator                   0\n",
      "p.katana                      0\n",
      "p.inputmethod.latin           0\n",
      "p.browser.provider            0\n",
      "p.android.defcontainer        0\n",
      "p.android.vending             0\n",
      "p.google                      0\n",
      "dtype: int64\n",
      "Duplicates: 0\n",
      "Data types:\n",
      "ts                             object\n",
      "imei                            int64\n",
      "mwra                          float64\n",
      "p.android.externalstorage     float64\n",
      "p.system                      float64\n",
      "p.android.packageinstaller    float64\n",
      "p.android.settings            float64\n",
      "p.android.chrome              float64\n",
      "p.android.gm                  float64\n",
      "p.android.documentsui         float64\n",
      "p.process.gapps               float64\n",
      "p.gms.persistent              float64\n",
      "p.notifier                    float64\n",
      "p.olauncher                   float64\n",
      "p.dogalize                    float64\n",
      "p.android.gms                 float64\n",
      "p.simulator                   float64\n",
      "p.katana                      float64\n",
      "p.inputmethod.latin           float64\n",
      "p.browser.provider            float64\n",
      "p.android.defcontainer        float64\n",
      "p.android.vending             float64\n",
      "p.google                      float64\n",
      "dtype: object\n"
     ]
    }
   ],
   "execution_count": 113
  },
  {
   "metadata": {
    "ExecuteTime": {
     "end_time": "2024-10-14T19:26:11.846227Z",
     "start_time": "2024-10-14T19:26:11.832225Z"
    }
   },
   "cell_type": "code",
   "source": [
    "analyze_dataframe(df_profiles, \"profiles\")\n",
    "df_profiles.head()"
   ],
   "id": "dec2d59aca20a09c",
   "outputs": [
    {
     "name": "stdout",
     "output_type": "stream",
     "text": [
      "\n",
      "Data set: profiles\n",
      "Shape: \trows: 355\n",
      "\t\tcolumns: 12\n",
      "Missing values:\n",
      "mail                0\n",
      "imei                0\n",
      "birthdate           0\n",
      "username            0\n",
      "user_id             0\n",
      "address             0\n",
      "ssn                 0\n",
      "job                 0\n",
      "registration        0\n",
      "current_location    0\n",
      "company             0\n",
      "name                0\n",
      "dtype: int64\n",
      "Duplicates: 0\n",
      "Data types:\n",
      "mail                object\n",
      "imei                 int64\n",
      "birthdate           object\n",
      "username            object\n",
      "user_id              int64\n",
      "address             object\n",
      "ssn                 object\n",
      "job                 object\n",
      "registration        object\n",
      "current_location    object\n",
      "company             object\n",
      "name                object\n",
      "dtype: object\n"
     ]
    },
    {
     "data": {
      "text/plain": [
       "                      mail                 imei   birthdate       username  \\\n",
       "2      abigail33@yahoo.com   359043379931766940  1929-07-04  burgessedward   \n",
       "9   kimberlycole@yahoo.com  3590433799317661743  1980-03-20     victoria79   \n",
       "17      mclayton@gmail.com  8630330696303481594  1997-12-29    laurenperry   \n",
       "30    kellyjames@gmail.com  8630330696303481982  1953-12-11       nicole80   \n",
       "34  moralesjames@yahoo.com  3590433799317661446  1950-10-17  emilywilliams   \n",
       "\n",
       "    user_id                                            address          ssn  \\\n",
       "2      2558  0755 Scott Parks Apt. 877\\nBowersborough, PW 0...  559-66-9181   \n",
       "9      1517  4681 Donald Plaza Apt. 819\\nAlyssahaven, NE 16176  792-70-7654   \n",
       "17       62   44173 Sophia Curve Apt. 292\\nAllenfurt, KY 80351  730-18-9437   \n",
       "30      745         5808 Key Turnpike\\nBrittanymouth, MP 38939  282-65-1993   \n",
       "34     1902          54680 Estrada Estate\\nAndreport, MA 57184  149-23-3842   \n",
       "\n",
       "                     job          registration  \\\n",
       "2     Academic librarian  05/17/2024, 00:00:00   \n",
       "9           Sports coach  04/03/2020, 00:00:00   \n",
       "17          TEFL teacher           11 Feb 2023   \n",
       "30  Biomedical scientist           15 Aug 2022   \n",
       "34       Legal secretary            2019-01-14   \n",
       "\n",
       "                                    current_location  \\\n",
       "2   (Decimal('-19.5608945'), Decimal('-175.139772'))   \n",
       "9      (Decimal('40.478458'), Decimal('-65.656674'))   \n",
       "17    (Decimal('70.5156535'), Decimal('-84.149757'))   \n",
       "30     (Decimal('25.5423705'), Decimal('75.549933'))   \n",
       "34     (Decimal('-51.831089'), Decimal('38.371928'))   \n",
       "\n",
       "                            company               name  \n",
       "2   Underwood, Hughes and Alexander    Michelle Martin  \n",
       "9          Smith, Smith and Wheeler        Adam Thomas  \n",
       "17                       Newman Ltd      Katie Watkins  \n",
       "30                      Smith Group    Danny Hernandez  \n",
       "34                         Cruz Ltd  Elizabeth Sanchez  "
      ],
      "text/html": [
       "<div>\n",
       "<style scoped>\n",
       "    .dataframe tbody tr th:only-of-type {\n",
       "        vertical-align: middle;\n",
       "    }\n",
       "\n",
       "    .dataframe tbody tr th {\n",
       "        vertical-align: top;\n",
       "    }\n",
       "\n",
       "    .dataframe thead th {\n",
       "        text-align: right;\n",
       "    }\n",
       "</style>\n",
       "<table border=\"1\" class=\"dataframe\">\n",
       "  <thead>\n",
       "    <tr style=\"text-align: right;\">\n",
       "      <th></th>\n",
       "      <th>mail</th>\n",
       "      <th>imei</th>\n",
       "      <th>birthdate</th>\n",
       "      <th>username</th>\n",
       "      <th>user_id</th>\n",
       "      <th>address</th>\n",
       "      <th>ssn</th>\n",
       "      <th>job</th>\n",
       "      <th>registration</th>\n",
       "      <th>current_location</th>\n",
       "      <th>company</th>\n",
       "      <th>name</th>\n",
       "    </tr>\n",
       "  </thead>\n",
       "  <tbody>\n",
       "    <tr>\n",
       "      <th>2</th>\n",
       "      <td>abigail33@yahoo.com</td>\n",
       "      <td>359043379931766940</td>\n",
       "      <td>1929-07-04</td>\n",
       "      <td>burgessedward</td>\n",
       "      <td>2558</td>\n",
       "      <td>0755 Scott Parks Apt. 877\\nBowersborough, PW 0...</td>\n",
       "      <td>559-66-9181</td>\n",
       "      <td>Academic librarian</td>\n",
       "      <td>05/17/2024, 00:00:00</td>\n",
       "      <td>(Decimal('-19.5608945'), Decimal('-175.139772'))</td>\n",
       "      <td>Underwood, Hughes and Alexander</td>\n",
       "      <td>Michelle Martin</td>\n",
       "    </tr>\n",
       "    <tr>\n",
       "      <th>9</th>\n",
       "      <td>kimberlycole@yahoo.com</td>\n",
       "      <td>3590433799317661743</td>\n",
       "      <td>1980-03-20</td>\n",
       "      <td>victoria79</td>\n",
       "      <td>1517</td>\n",
       "      <td>4681 Donald Plaza Apt. 819\\nAlyssahaven, NE 16176</td>\n",
       "      <td>792-70-7654</td>\n",
       "      <td>Sports coach</td>\n",
       "      <td>04/03/2020, 00:00:00</td>\n",
       "      <td>(Decimal('40.478458'), Decimal('-65.656674'))</td>\n",
       "      <td>Smith, Smith and Wheeler</td>\n",
       "      <td>Adam Thomas</td>\n",
       "    </tr>\n",
       "    <tr>\n",
       "      <th>17</th>\n",
       "      <td>mclayton@gmail.com</td>\n",
       "      <td>8630330696303481594</td>\n",
       "      <td>1997-12-29</td>\n",
       "      <td>laurenperry</td>\n",
       "      <td>62</td>\n",
       "      <td>44173 Sophia Curve Apt. 292\\nAllenfurt, KY 80351</td>\n",
       "      <td>730-18-9437</td>\n",
       "      <td>TEFL teacher</td>\n",
       "      <td>11 Feb 2023</td>\n",
       "      <td>(Decimal('70.5156535'), Decimal('-84.149757'))</td>\n",
       "      <td>Newman Ltd</td>\n",
       "      <td>Katie Watkins</td>\n",
       "    </tr>\n",
       "    <tr>\n",
       "      <th>30</th>\n",
       "      <td>kellyjames@gmail.com</td>\n",
       "      <td>8630330696303481982</td>\n",
       "      <td>1953-12-11</td>\n",
       "      <td>nicole80</td>\n",
       "      <td>745</td>\n",
       "      <td>5808 Key Turnpike\\nBrittanymouth, MP 38939</td>\n",
       "      <td>282-65-1993</td>\n",
       "      <td>Biomedical scientist</td>\n",
       "      <td>15 Aug 2022</td>\n",
       "      <td>(Decimal('25.5423705'), Decimal('75.549933'))</td>\n",
       "      <td>Smith Group</td>\n",
       "      <td>Danny Hernandez</td>\n",
       "    </tr>\n",
       "    <tr>\n",
       "      <th>34</th>\n",
       "      <td>moralesjames@yahoo.com</td>\n",
       "      <td>3590433799317661446</td>\n",
       "      <td>1950-10-17</td>\n",
       "      <td>emilywilliams</td>\n",
       "      <td>1902</td>\n",
       "      <td>54680 Estrada Estate\\nAndreport, MA 57184</td>\n",
       "      <td>149-23-3842</td>\n",
       "      <td>Legal secretary</td>\n",
       "      <td>2019-01-14</td>\n",
       "      <td>(Decimal('-51.831089'), Decimal('38.371928'))</td>\n",
       "      <td>Cruz Ltd</td>\n",
       "      <td>Elizabeth Sanchez</td>\n",
       "    </tr>\n",
       "  </tbody>\n",
       "</table>\n",
       "</div>"
      ]
     },
     "execution_count": 114,
     "metadata": {},
     "output_type": "execute_result"
    }
   ],
   "execution_count": 114
  },
  {
   "metadata": {},
   "cell_type": "markdown",
   "source": "V profiloch sme sa snažili upraviť dáta na správny touple, ktorý obsahuje dáta typu float",
   "id": "627824f384997a3"
  },
  {
   "metadata": {
    "ExecuteTime": {
     "end_time": "2024-10-14T19:26:11.862227Z",
     "start_time": "2024-10-14T19:26:11.847227Z"
    }
   },
   "cell_type": "code",
   "source": [
    "df_profiles_cleaned = df_profiles.dropna(subset=['current_location'])\n",
    "print(f\"All: {df_profiles.shape[0]}\")\n",
    "print(f\"Cleaned: {df_profiles_cleaned.shape[0]}\")"
   ],
   "id": "4b5a48d2f838e030",
   "outputs": [
    {
     "name": "stdout",
     "output_type": "stream",
     "text": [
      "All: 355\n",
      "Cleaned: 355\n"
     ]
    }
   ],
   "execution_count": 115
  },
  {
   "metadata": {
    "ExecuteTime": {
     "end_time": "2024-10-14T19:26:11.878222Z",
     "start_time": "2024-10-14T19:26:11.863236Z"
    }
   },
   "cell_type": "code",
   "source": [
    "def remove_non_numeric_chars(coord_str):\n",
    "    if pd.notnull(coord_str):\n",
    "        coord_str = str(coord_str)\n",
    "        \n",
    "        coord_str_clean = re.sub(r\"[^0-9\\-,.]\", \"\", coord_str)\n",
    "        return coord_str_clean\n",
    "    return None\n",
    "\n",
    "def convert_decimal_to_float(coord):\n",
    "    if pd.notnull(coord):\n",
    "        coord = coord.split(',')\n",
    "        \n",
    "        latitude = float(coord[0])\n",
    "        longitude = float(coord[1])\n",
    "        \n",
    "        return (latitude, longitude)\n",
    "    \n",
    "    return None\n",
    "\n",
    "df_profiles['current_location'] = df_profiles['current_location'].apply(remove_non_numeric_chars)\n",
    "\n",
    "df_profiles['current_location'] = df_profiles['current_location'].apply(convert_decimal_to_float)\n",
    "\n",
    "print(df_profiles['current_location'].head())"
   ],
   "id": "c6f106210dad0742",
   "outputs": [
    {
     "name": "stdout",
     "output_type": "stream",
     "text": [
      "2     (-19.5608945, -175.139772)\n",
      "9        (40.478458, -65.656674)\n",
      "17      (70.5156535, -84.149757)\n",
      "30       (25.5423705, 75.549933)\n",
      "34       (-51.831089, 38.371928)\n",
      "Name: current_location, dtype: object\n"
     ]
    }
   ],
   "execution_count": 116
  },
  {
   "metadata": {
    "ExecuteTime": {
     "end_time": "2024-10-14T19:26:12.034171Z",
     "start_time": "2024-10-14T19:26:11.880229Z"
    }
   },
   "cell_type": "code",
   "source": [
    "def plot_points(df):\n",
    "    plt.figure(figsize=(12, 8))\n",
    "\n",
    "    plt.scatter(df['longitude'], df['latitude'], marker='o', color='red')\n",
    "\n",
    "    plt.title('Geographical Coordinates')\n",
    "    plt.xlabel('Longitude')\n",
    "    plt.ylabel('Latitude')\n",
    "\n",
    "    plt.xlim(-180, 180)\n",
    "    plt.ylim(-60, 60)\n",
    "\n",
    "    plt.grid(True)\n",
    "    plt.show()\n",
    "\n",
    "plot_points(df_devices)"
   ],
   "id": "522200d4445cf727",
   "outputs": [
    {
     "data": {
      "text/plain": [
       "<Figure size 1200x800 with 1 Axes>"
      ],
      "image/png": "[encoded data removed]"
     },
     "metadata": {},
     "output_type": "display_data"
    }
   ],
   "execution_count": 117
  },
  {
   "metadata": {
    "ExecuteTime": {
     "end_time": "2024-10-14T19:26:12.049257Z",
     "start_time": "2024-10-14T19:26:12.035165Z"
    }
   },
   "cell_type": "code",
   "source": "",
   "id": "52426ca57eb47953",
   "outputs": [],
   "execution_count": 117
  }
 ],
 "metadata": {
  "kernelspec": {
   "display_name": "Python 3",
   "language": "python",
   "name": "python3"
  },
  "language_info": {
   "codemirror_mode": {
    "name": "ipython",
    "version": 2
   },
   "file_extension": ".py",
   "mimetype": "text/x-python",
   "name": "python",
   "nbconvert_exporter": "python",
   "pygments_lexer": "ipython2",
   "version": "2.7.6"
  }
 },
 "nbformat": 4,
 "nbformat_minor": 5
}
