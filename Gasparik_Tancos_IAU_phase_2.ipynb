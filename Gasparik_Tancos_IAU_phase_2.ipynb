{
 "cells": [
  {
   "cell_type": "code",
   "id": "initial_id",
   "metadata": {
    "ExecuteTime": {
     "end_time": "2024-11-03T22:05:22.430721Z",
     "start_time": "2024-11-03T22:05:22.412468Z"
    }
   },
   "source": [
    "# -*- coding: utf-8 -*-\n",
    "#\n",
    "# Licensed under the Apache License, Version 2.0 (the \"License\");\n",
    "# you may not use this file except in compliance with the License.\n",
    "# You may obtain a copy of the License at\n",
    "#\n",
    "# http://www.apache.org/licenses/LICENSE-2.0\n",
    "#\n",
    "# Unless required by applicable law or agreed to in writing, software\n",
    "# distributed under the License is distributed on an \"AS IS\" BASIS,\n",
    "# WITHOUT WARRANTIES OR CONDITIONS OF ANY KIND, either express or\n",
    "# implied.\n",
    "# See the License for the specific language governing permissions and\n",
    "# limitations under the License."
   ],
   "outputs": [],
   "execution_count": 106
  },
  {
   "cell_type": "code",
   "id": "1c4107b5a0b33d80",
   "metadata": {
    "ExecuteTime": {
     "end_time": "2024-11-03T22:05:22.664973Z",
     "start_time": "2024-11-03T22:05:22.650972Z"
    }
   },
   "source": [
    "import matplotlib.pyplot as plt\n",
    "import seaborn as sns\n",
    "import pandas as pd\n",
    "import numpy as np\n",
    "import scipy.stats as stats\n",
    "\n",
    "from sklearn.model_selection import train_test_split\n",
    "from sklearn.preprocessing import StandardScaler\n",
    "\n",
    "from sklearn.svm import SVR\n",
    "from sklearn.feature_selection import RFE\n",
    "\n",
    "from sklearn.feature_selection import mutual_info_regression\n"
   ],
   "outputs": [],
   "execution_count": 107
  },
  {
   "cell_type": "markdown",
   "id": "45bbb053c9bae402",
   "metadata": {},
   "source": [
    "# Fáza 2 - Predspracovanie údajov"
   ]
  },
  {
   "cell_type": "markdown",
   "id": "e18c52bf792ee494",
   "metadata": {},
   "source": [
    "## 2.1 Realizácia predspracovania dát"
   ]
  },
  {
   "cell_type": "markdown",
   "id": "75518738dde7a9b4",
   "metadata": {},
   "source": [
    "### A - Rozdelenia dát na trénovaciu a testovaciu množinu"
   ]
  },
  {
   "cell_type": "markdown",
   "id": "27f1812852d8a3fa",
   "metadata": {},
   "source": [
    "#### zlúčime potrebné dáta do jedného datasetu "
   ]
  },
  {
   "cell_type": "code",
   "id": "3e107fbb9e838c7d",
   "metadata": {
    "ExecuteTime": {
     "end_time": "2024-11-03T22:05:22.759991Z",
     "start_time": "2024-11-03T22:05:22.697975Z"
    }
   },
   "source": [
    "# loading datasets\n",
    "df_processes    = pd.read_csv(\"data/raw/processes.csv\", sep='\\t')\n",
    "df_connections  = pd.read_csv(\"data/raw/connections.csv\", sep='\\t')"
   ],
   "outputs": [],
   "execution_count": 108
  },
  {
   "cell_type": "markdown",
   "id": "9cf8d0b876e60254",
   "metadata": {},
   "source": [
    "#### vyberieme si dáta, ktoré sme identifikovali v EDA"
   ]
  },
  {
   "cell_type": "code",
   "id": "22eebc52440595f4",
   "metadata": {
    "ExecuteTime": {
     "end_time": "2024-11-03T22:05:22.774964Z",
     "start_time": "2024-11-03T22:05:22.760972Z"
    }
   },
   "source": [
    "df_processes    = df_processes[[\"imei\", \"ts\", \"mwra\", \"p.android.gm\", \"p.android.documentsui\", \"p.system\", \"p.android.externalstorage\", \"p.android.settings\", \"p.android.chrome\"]]\n",
    "df_connections  = df_connections[[\"imei\", \"ts\", \"mwra\", \"c.katana\", \"c.dogalize\", \"c.android.chrome\", \"c.android.gm\"]]"
   ],
   "outputs": [],
   "execution_count": 109
  },
  {
   "cell_type": "markdown",
   "id": "1462d1d95f6cca57",
   "metadata": {},
   "source": [
    "#### spojíme ich pomocou \"ts\" a \"imei\""
   ]
  },
  {
   "cell_type": "code",
   "id": "98dc0f41b43eeabd",
   "metadata": {
    "ExecuteTime": {
     "end_time": "2024-11-03T22:05:22.790954Z",
     "start_time": "2024-11-03T22:05:22.776968Z"
    }
   },
   "source": [
    "df = df_connections.merge(df_processes, on=['imei', 'ts'], how='outer')"
   ],
   "outputs": [],
   "execution_count": 110
  },
  {
   "cell_type": "markdown",
   "id": "798b53c00b1d578d",
   "metadata": {},
   "source": [
    "#### Rozdelíme dáta v pomere 80:20 (trénovacia/testovacia množina). Tento pomer vychádza z predpokladu, že pri dostatočne veľkom množstve dát, máme pri rozdelení dostatok dát na trénovanie a efektívne učenie modelu, zatiaľ čo testovacia množina bude dostatočne veľká pre overenie modelu. Tento pomer je bežný a vhodný pre väčšinu úloh strojového učenia."
   ]
  },
  {
   "cell_type": "code",
   "id": "5104e4369522cbf2",
   "metadata": {
    "ExecuteTime": {
     "end_time": "2024-11-03T22:05:22.854578Z",
     "start_time": "2024-11-03T22:05:22.840960Z"
    }
   },
   "source": [
    "TRAIN = 0.8\n",
    "\n",
    "train_df, test_df = train_test_split(df, train_size=TRAIN, random_state=42)\n",
    "\n",
    "train_df.head()"
   ],
   "outputs": [
    {
     "data": {
      "text/plain": [
       "                      imei                   ts  mwra_x  c.katana  c.dogalize  \\\n",
       "4229   3590433799317662410  2018-05-08 05:47:00     1.0   7.37476     6.84145   \n",
       "12572  8630330696303481594  2018-05-13 20:05:00     1.0   7.58574    12.51114   \n",
       "12930   359043379931766650  2018-05-14 02:00:00     0.0  11.17412    12.19228   \n",
       "14497  3590433799317661156  2018-05-15 03:13:00     0.0  12.71124    17.73296   \n",
       "1347    863033069630348750  2018-05-06 07:24:00     1.0   6.97742    13.08809   \n",
       "\n",
       "       c.android.chrome  c.android.gm  mwra_y  p.android.gm  \\\n",
       "4229           14.51324       8.56085     1.0      10.00362   \n",
       "12572          10.92101      15.39765     1.0      11.05524   \n",
       "12930           7.55783       4.73609     0.0       9.57015   \n",
       "14497          10.25499       9.71869     0.0      11.89280   \n",
       "1347           14.43611      10.57469     1.0       9.81065   \n",
       "\n",
       "       p.android.documentsui  p.system  p.android.externalstorage  \\\n",
       "4229                14.20752   4.78716                   10.20058   \n",
       "12572                8.31027  13.02334                   11.10510   \n",
       "12930                7.87946   6.44430                    8.62500   \n",
       "14497                9.72879  11.67246                    9.45534   \n",
       "1347                 5.95691  13.13290                   11.79101   \n",
       "\n",
       "       p.android.settings  p.android.chrome  \n",
       "4229             12.70029           8.13225  \n",
       "12572             7.75706          13.55727  \n",
       "12930             4.71937           9.00245  \n",
       "14497             4.74844          13.72474  \n",
       "1347              7.60488          13.76573  "
      ],
      "text/html": [
       "<div>\n",
       "<style scoped>\n",
       "    .dataframe tbody tr th:only-of-type {\n",
       "        vertical-align: middle;\n",
       "    }\n",
       "\n",
       "    .dataframe tbody tr th {\n",
       "        vertical-align: top;\n",
       "    }\n",
       "\n",
       "    .dataframe thead th {\n",
       "        text-align: right;\n",
       "    }\n",
       "</style>\n",
       "<table border=\"1\" class=\"dataframe\">\n",
       "  <thead>\n",
       "    <tr style=\"text-align: right;\">\n",
       "      <th></th>\n",
       "      <th>imei</th>\n",
       "      <th>ts</th>\n",
       "      <th>mwra_x</th>\n",
       "      <th>c.katana</th>\n",
       "      <th>c.dogalize</th>\n",
       "      <th>c.android.chrome</th>\n",
       "      <th>c.android.gm</th>\n",
       "      <th>mwra_y</th>\n",
       "      <th>p.android.gm</th>\n",
       "      <th>p.android.documentsui</th>\n",
       "      <th>p.system</th>\n",
       "      <th>p.android.externalstorage</th>\n",
       "      <th>p.android.settings</th>\n",
       "      <th>p.android.chrome</th>\n",
       "    </tr>\n",
       "  </thead>\n",
       "  <tbody>\n",
       "    <tr>\n",
       "      <th>4229</th>\n",
       "      <td>3590433799317662410</td>\n",
       "      <td>2018-05-08 05:47:00</td>\n",
       "      <td>1.0</td>\n",
       "      <td>7.37476</td>\n",
       "      <td>6.84145</td>\n",
       "      <td>14.51324</td>\n",
       "      <td>8.56085</td>\n",
       "      <td>1.0</td>\n",
       "      <td>10.00362</td>\n",
       "      <td>14.20752</td>\n",
       "      <td>4.78716</td>\n",
       "      <td>10.20058</td>\n",
       "      <td>12.70029</td>\n",
       "      <td>8.13225</td>\n",
       "    </tr>\n",
       "    <tr>\n",
       "      <th>12572</th>\n",
       "      <td>8630330696303481594</td>\n",
       "      <td>2018-05-13 20:05:00</td>\n",
       "      <td>1.0</td>\n",
       "      <td>7.58574</td>\n",
       "      <td>12.51114</td>\n",
       "      <td>10.92101</td>\n",
       "      <td>15.39765</td>\n",
       "      <td>1.0</td>\n",
       "      <td>11.05524</td>\n",
       "      <td>8.31027</td>\n",
       "      <td>13.02334</td>\n",
       "      <td>11.10510</td>\n",
       "      <td>7.75706</td>\n",
       "      <td>13.55727</td>\n",
       "    </tr>\n",
       "    <tr>\n",
       "      <th>12930</th>\n",
       "      <td>359043379931766650</td>\n",
       "      <td>2018-05-14 02:00:00</td>\n",
       "      <td>0.0</td>\n",
       "      <td>11.17412</td>\n",
       "      <td>12.19228</td>\n",
       "      <td>7.55783</td>\n",
       "      <td>4.73609</td>\n",
       "      <td>0.0</td>\n",
       "      <td>9.57015</td>\n",
       "      <td>7.87946</td>\n",
       "      <td>6.44430</td>\n",
       "      <td>8.62500</td>\n",
       "      <td>4.71937</td>\n",
       "      <td>9.00245</td>\n",
       "    </tr>\n",
       "    <tr>\n",
       "      <th>14497</th>\n",
       "      <td>3590433799317661156</td>\n",
       "      <td>2018-05-15 03:13:00</td>\n",
       "      <td>0.0</td>\n",
       "      <td>12.71124</td>\n",
       "      <td>17.73296</td>\n",
       "      <td>10.25499</td>\n",
       "      <td>9.71869</td>\n",
       "      <td>0.0</td>\n",
       "      <td>11.89280</td>\n",
       "      <td>9.72879</td>\n",
       "      <td>11.67246</td>\n",
       "      <td>9.45534</td>\n",
       "      <td>4.74844</td>\n",
       "      <td>13.72474</td>\n",
       "    </tr>\n",
       "    <tr>\n",
       "      <th>1347</th>\n",
       "      <td>863033069630348750</td>\n",
       "      <td>2018-05-06 07:24:00</td>\n",
       "      <td>1.0</td>\n",
       "      <td>6.97742</td>\n",
       "      <td>13.08809</td>\n",
       "      <td>14.43611</td>\n",
       "      <td>10.57469</td>\n",
       "      <td>1.0</td>\n",
       "      <td>9.81065</td>\n",
       "      <td>5.95691</td>\n",
       "      <td>13.13290</td>\n",
       "      <td>11.79101</td>\n",
       "      <td>7.60488</td>\n",
       "      <td>13.76573</td>\n",
       "    </tr>\n",
       "  </tbody>\n",
       "</table>\n",
       "</div>"
      ]
     },
     "execution_count": 111,
     "metadata": {},
     "output_type": "execute_result"
    }
   ],
   "execution_count": 111
  },
  {
   "cell_type": "markdown",
   "id": "b313c1748c99b23c",
   "metadata": {},
   "source": [
    "#### ďalej pracujeme s trénovacím datasetom"
   ]
  },
  {
   "cell_type": "markdown",
   "id": "dd0ea680b9461d49",
   "metadata": {},
   "source": [
    "### B - Transformujeme dáta na vhodný formát pre ML"
   ]
  },
  {
   "cell_type": "code",
   "id": "8a786088b8fd5517",
   "metadata": {
    "ExecuteTime": {
     "end_time": "2024-11-03T22:05:22.917639Z",
     "start_time": "2024-11-03T22:05:22.891638Z"
    }
   },
   "source": [
    "# better info()\n",
    "def analyze_dataframe(the_df):\n",
    "    table = pd.DataFrame({\n",
    "        'Missing Values': the_df.isnull().sum(),\n",
    "        'Data Type': the_df.dtypes\n",
    "    })\n",
    "\n",
    "    rows, columns = the_df.shape\n",
    "    duplicates = the_df.duplicated().sum()\n",
    "\n",
    "    print(f\"Shape: {rows} rows, {columns} columns\")\n",
    "    print(f\"Duplicates: {duplicates}\")\n",
    "\n",
    "    display(table)\n",
    "    \n",
    "analyze_dataframe(train_df)"
   ],
   "outputs": [
    {
     "name": "stdout",
     "output_type": "stream",
     "text": [
      "Shape: 12331 rows, 14 columns\n",
      "Duplicates: 393\n"
     ]
    },
    {
     "data": {
      "text/plain": [
       "                           Missing Values Data Type\n",
       "imei                                    0     int64\n",
       "ts                                      0    object\n",
       "mwra_x                                  0   float64\n",
       "c.katana                                0   float64\n",
       "c.dogalize                              0   float64\n",
       "c.android.chrome                        0   float64\n",
       "c.android.gm                            0   float64\n",
       "mwra_y                                  0   float64\n",
       "p.android.gm                            0   float64\n",
       "p.android.documentsui                   0   float64\n",
       "p.system                                0   float64\n",
       "p.android.externalstorage               0   float64\n",
       "p.android.settings                      0   float64\n",
       "p.android.chrome                        0   float64"
      ],
      "text/html": [
       "<div>\n",
       "<style scoped>\n",
       "    .dataframe tbody tr th:only-of-type {\n",
       "        vertical-align: middle;\n",
       "    }\n",
       "\n",
       "    .dataframe tbody tr th {\n",
       "        vertical-align: top;\n",
       "    }\n",
       "\n",
       "    .dataframe thead th {\n",
       "        text-align: right;\n",
       "    }\n",
       "</style>\n",
       "<table border=\"1\" class=\"dataframe\">\n",
       "  <thead>\n",
       "    <tr style=\"text-align: right;\">\n",
       "      <th></th>\n",
       "      <th>Missing Values</th>\n",
       "      <th>Data Type</th>\n",
       "    </tr>\n",
       "  </thead>\n",
       "  <tbody>\n",
       "    <tr>\n",
       "      <th>imei</th>\n",
       "      <td>0</td>\n",
       "      <td>int64</td>\n",
       "    </tr>\n",
       "    <tr>\n",
       "      <th>ts</th>\n",
       "      <td>0</td>\n",
       "      <td>object</td>\n",
       "    </tr>\n",
       "    <tr>\n",
       "      <th>mwra_x</th>\n",
       "      <td>0</td>\n",
       "      <td>float64</td>\n",
       "    </tr>\n",
       "    <tr>\n",
       "      <th>c.katana</th>\n",
       "      <td>0</td>\n",
       "      <td>float64</td>\n",
       "    </tr>\n",
       "    <tr>\n",
       "      <th>c.dogalize</th>\n",
       "      <td>0</td>\n",
       "      <td>float64</td>\n",
       "    </tr>\n",
       "    <tr>\n",
       "      <th>c.android.chrome</th>\n",
       "      <td>0</td>\n",
       "      <td>float64</td>\n",
       "    </tr>\n",
       "    <tr>\n",
       "      <th>c.android.gm</th>\n",
       "      <td>0</td>\n",
       "      <td>float64</td>\n",
       "    </tr>\n",
       "    <tr>\n",
       "      <th>mwra_y</th>\n",
       "      <td>0</td>\n",
       "      <td>float64</td>\n",
       "    </tr>\n",
       "    <tr>\n",
       "      <th>p.android.gm</th>\n",
       "      <td>0</td>\n",
       "      <td>float64</td>\n",
       "    </tr>\n",
       "    <tr>\n",
       "      <th>p.android.documentsui</th>\n",
       "      <td>0</td>\n",
       "      <td>float64</td>\n",
       "    </tr>\n",
       "    <tr>\n",
       "      <th>p.system</th>\n",
       "      <td>0</td>\n",
       "      <td>float64</td>\n",
       "    </tr>\n",
       "    <tr>\n",
       "      <th>p.android.externalstorage</th>\n",
       "      <td>0</td>\n",
       "      <td>float64</td>\n",
       "    </tr>\n",
       "    <tr>\n",
       "      <th>p.android.settings</th>\n",
       "      <td>0</td>\n",
       "      <td>float64</td>\n",
       "    </tr>\n",
       "    <tr>\n",
       "      <th>p.android.chrome</th>\n",
       "      <td>0</td>\n",
       "      <td>float64</td>\n",
       "    </tr>\n",
       "  </tbody>\n",
       "</table>\n",
       "</div>"
      ]
     },
     "metadata": {},
     "output_type": "display_data"
    }
   ],
   "execution_count": 112
  },
  {
   "cell_type": "code",
   "id": "685a335b2c5b7366",
   "metadata": {
    "ExecuteTime": {
     "end_time": "2024-11-03T22:05:22.948666Z",
     "start_time": "2024-11-03T22:05:22.936693Z"
    }
   },
   "source": [
    "matches = (train_df['mwra_x'] == train_df['mwra_y']).sum()\n",
    "not_matches = len(train_df) - matches\n",
    "\n",
    "print(f\"Matched: {matches}, Not matched: {not_matches}\")"
   ],
   "outputs": [
    {
     "name": "stdout",
     "output_type": "stream",
     "text": [
      "Matched: 12331, Not matched: 0\n"
     ]
    }
   ],
   "execution_count": 113
  },
  {
   "cell_type": "markdown",
   "id": "73cf9b7fc4c67895",
   "metadata": {},
   "source": [
    "#### môžeme vymazať dáta, pomocou ktorých sme spájali datasety do jedného, t.j. nepotrebné stĺpce: ts, mrwa_y + premenujeme mwra_x na mwra"
   ]
  },
  {
   "cell_type": "code",
   "id": "517e0120f5e35379",
   "metadata": {
    "ExecuteTime": {
     "end_time": "2024-11-03T22:05:22.994369Z",
     "start_time": "2024-11-03T22:05:22.969342Z"
    }
   },
   "source": [
    "train_df = train_df.drop(columns=['ts', 'mwra_y'], errors='ignore')\n",
    "train_df = train_df.rename(columns={'mwra_x': 'mwra'})\n",
    "\n",
    "train_df.head()"
   ],
   "outputs": [
    {
     "data": {
      "text/plain": [
       "                      imei  mwra  c.katana  c.dogalize  c.android.chrome  \\\n",
       "4229   3590433799317662410   1.0   7.37476     6.84145          14.51324   \n",
       "12572  8630330696303481594   1.0   7.58574    12.51114          10.92101   \n",
       "12930   359043379931766650   0.0  11.17412    12.19228           7.55783   \n",
       "14497  3590433799317661156   0.0  12.71124    17.73296          10.25499   \n",
       "1347    863033069630348750   1.0   6.97742    13.08809          14.43611   \n",
       "\n",
       "       c.android.gm  p.android.gm  p.android.documentsui  p.system  \\\n",
       "4229        8.56085      10.00362               14.20752   4.78716   \n",
       "12572      15.39765      11.05524                8.31027  13.02334   \n",
       "12930       4.73609       9.57015                7.87946   6.44430   \n",
       "14497       9.71869      11.89280                9.72879  11.67246   \n",
       "1347       10.57469       9.81065                5.95691  13.13290   \n",
       "\n",
       "       p.android.externalstorage  p.android.settings  p.android.chrome  \n",
       "4229                    10.20058            12.70029           8.13225  \n",
       "12572                   11.10510             7.75706          13.55727  \n",
       "12930                    8.62500             4.71937           9.00245  \n",
       "14497                    9.45534             4.74844          13.72474  \n",
       "1347                    11.79101             7.60488          13.76573  "
      ],
      "text/html": [
       "<div>\n",
       "<style scoped>\n",
       "    .dataframe tbody tr th:only-of-type {\n",
       "        vertical-align: middle;\n",
       "    }\n",
       "\n",
       "    .dataframe tbody tr th {\n",
       "        vertical-align: top;\n",
       "    }\n",
       "\n",
       "    .dataframe thead th {\n",
       "        text-align: right;\n",
       "    }\n",
       "</style>\n",
       "<table border=\"1\" class=\"dataframe\">\n",
       "  <thead>\n",
       "    <tr style=\"text-align: right;\">\n",
       "      <th></th>\n",
       "      <th>imei</th>\n",
       "      <th>mwra</th>\n",
       "      <th>c.katana</th>\n",
       "      <th>c.dogalize</th>\n",
       "      <th>c.android.chrome</th>\n",
       "      <th>c.android.gm</th>\n",
       "      <th>p.android.gm</th>\n",
       "      <th>p.android.documentsui</th>\n",
       "      <th>p.system</th>\n",
       "      <th>p.android.externalstorage</th>\n",
       "      <th>p.android.settings</th>\n",
       "      <th>p.android.chrome</th>\n",
       "    </tr>\n",
       "  </thead>\n",
       "  <tbody>\n",
       "    <tr>\n",
       "      <th>4229</th>\n",
       "      <td>3590433799317662410</td>\n",
       "      <td>1.0</td>\n",
       "      <td>7.37476</td>\n",
       "      <td>6.84145</td>\n",
       "      <td>14.51324</td>\n",
       "      <td>8.56085</td>\n",
       "      <td>10.00362</td>\n",
       "      <td>14.20752</td>\n",
       "      <td>4.78716</td>\n",
       "      <td>10.20058</td>\n",
       "      <td>12.70029</td>\n",
       "      <td>8.13225</td>\n",
       "    </tr>\n",
       "    <tr>\n",
       "      <th>12572</th>\n",
       "      <td>8630330696303481594</td>\n",
       "      <td>1.0</td>\n",
       "      <td>7.58574</td>\n",
       "      <td>12.51114</td>\n",
       "      <td>10.92101</td>\n",
       "      <td>15.39765</td>\n",
       "      <td>11.05524</td>\n",
       "      <td>8.31027</td>\n",
       "      <td>13.02334</td>\n",
       "      <td>11.10510</td>\n",
       "      <td>7.75706</td>\n",
       "      <td>13.55727</td>\n",
       "    </tr>\n",
       "    <tr>\n",
       "      <th>12930</th>\n",
       "      <td>359043379931766650</td>\n",
       "      <td>0.0</td>\n",
       "      <td>11.17412</td>\n",
       "      <td>12.19228</td>\n",
       "      <td>7.55783</td>\n",
       "      <td>4.73609</td>\n",
       "      <td>9.57015</td>\n",
       "      <td>7.87946</td>\n",
       "      <td>6.44430</td>\n",
       "      <td>8.62500</td>\n",
       "      <td>4.71937</td>\n",
       "      <td>9.00245</td>\n",
       "    </tr>\n",
       "    <tr>\n",
       "      <th>14497</th>\n",
       "      <td>3590433799317661156</td>\n",
       "      <td>0.0</td>\n",
       "      <td>12.71124</td>\n",
       "      <td>17.73296</td>\n",
       "      <td>10.25499</td>\n",
       "      <td>9.71869</td>\n",
       "      <td>11.89280</td>\n",
       "      <td>9.72879</td>\n",
       "      <td>11.67246</td>\n",
       "      <td>9.45534</td>\n",
       "      <td>4.74844</td>\n",
       "      <td>13.72474</td>\n",
       "    </tr>\n",
       "    <tr>\n",
       "      <th>1347</th>\n",
       "      <td>863033069630348750</td>\n",
       "      <td>1.0</td>\n",
       "      <td>6.97742</td>\n",
       "      <td>13.08809</td>\n",
       "      <td>14.43611</td>\n",
       "      <td>10.57469</td>\n",
       "      <td>9.81065</td>\n",
       "      <td>5.95691</td>\n",
       "      <td>13.13290</td>\n",
       "      <td>11.79101</td>\n",
       "      <td>7.60488</td>\n",
       "      <td>13.76573</td>\n",
       "    </tr>\n",
       "  </tbody>\n",
       "</table>\n",
       "</div>"
      ]
     },
     "execution_count": 114,
     "metadata": {},
     "output_type": "execute_result"
    }
   ],
   "execution_count": 114
  },
  {
   "cell_type": "code",
   "id": "f8529fa15c1b36ee",
   "metadata": {
    "ExecuteTime": {
     "end_time": "2024-11-03T22:05:23.103622Z",
     "start_time": "2024-11-03T22:05:23.079632Z"
    }
   },
   "source": [
    "train_df.describe()"
   ],
   "outputs": [
    {
     "data": {
      "text/plain": [
       "               imei          mwra      c.katana    c.dogalize  \\\n",
       "count  1.233100e+04  12331.000000  12331.000000  12331.000000   \n",
       "mean   3.838281e+18      0.629389      9.998403     11.147842   \n",
       "std    3.318556e+18      0.482988      2.585729      2.658390   \n",
       "min    3.590434e+17      0.000000      1.384790      1.448360   \n",
       "25%    8.630331e+17      0.000000      8.125205      9.301445   \n",
       "50%    3.590434e+18      1.000000      9.828270     11.242980   \n",
       "75%    8.630331e+18      1.000000     11.813160     13.037845   \n",
       "max    8.630331e+18      1.000000     20.036020     21.522060   \n",
       "\n",
       "       c.android.chrome  c.android.gm  p.android.gm  p.android.documentsui  \\\n",
       "count      12331.000000  12331.000000  12331.000000           12331.000000   \n",
       "mean          11.048739     10.537921      9.970223               9.403644   \n",
       "std            2.706215      2.715853      2.743161               2.373004   \n",
       "min            1.264880      1.811270      0.000000               1.613180   \n",
       "25%            9.164120      8.542860      8.055380               7.791280   \n",
       "50%           11.103500     10.416000      9.866390               9.214470   \n",
       "75%           12.976910     12.493050     11.883565              10.739590   \n",
       "max           20.710650     20.883650     20.563610              20.220660   \n",
       "\n",
       "           p.system  p.android.externalstorage  p.android.settings  \\\n",
       "count  12331.000000               12331.000000        12331.000000   \n",
       "mean      11.152060                  11.715285            9.925758   \n",
       "std        2.319367                   2.369038            2.471026   \n",
       "min        3.050450                   3.463510            2.010490   \n",
       "25%        9.418615                  10.134980            8.105040   \n",
       "50%       11.333740                  11.819940            9.855240   \n",
       "75%       12.890415                  13.362925           11.820695   \n",
       "max       19.385580                  20.060160           18.162090   \n",
       "\n",
       "       p.android.chrome  \n",
       "count      12331.000000  \n",
       "mean           9.888880  \n",
       "std            2.567799  \n",
       "min            0.879270  \n",
       "25%            8.057740  \n",
       "50%            9.900880  \n",
       "75%           11.816795  \n",
       "max           17.996590  "
      ],
      "text/html": [
       "<div>\n",
       "<style scoped>\n",
       "    .dataframe tbody tr th:only-of-type {\n",
       "        vertical-align: middle;\n",
       "    }\n",
       "\n",
       "    .dataframe tbody tr th {\n",
       "        vertical-align: top;\n",
       "    }\n",
       "\n",
       "    .dataframe thead th {\n",
       "        text-align: right;\n",
       "    }\n",
       "</style>\n",
       "<table border=\"1\" class=\"dataframe\">\n",
       "  <thead>\n",
       "    <tr style=\"text-align: right;\">\n",
       "      <th></th>\n",
       "      <th>imei</th>\n",
       "      <th>mwra</th>\n",
       "      <th>c.katana</th>\n",
       "      <th>c.dogalize</th>\n",
       "      <th>c.android.chrome</th>\n",
       "      <th>c.android.gm</th>\n",
       "      <th>p.android.gm</th>\n",
       "      <th>p.android.documentsui</th>\n",
       "      <th>p.system</th>\n",
       "      <th>p.android.externalstorage</th>\n",
       "      <th>p.android.settings</th>\n",
       "      <th>p.android.chrome</th>\n",
       "    </tr>\n",
       "  </thead>\n",
       "  <tbody>\n",
       "    <tr>\n",
       "      <th>count</th>\n",
       "      <td>1.233100e+04</td>\n",
       "      <td>12331.000000</td>\n",
       "      <td>12331.000000</td>\n",
       "      <td>12331.000000</td>\n",
       "      <td>12331.000000</td>\n",
       "      <td>12331.000000</td>\n",
       "      <td>12331.000000</td>\n",
       "      <td>12331.000000</td>\n",
       "      <td>12331.000000</td>\n",
       "      <td>12331.000000</td>\n",
       "      <td>12331.000000</td>\n",
       "      <td>12331.000000</td>\n",
       "    </tr>\n",
       "    <tr>\n",
       "      <th>mean</th>\n",
       "      <td>3.838281e+18</td>\n",
       "      <td>0.629389</td>\n",
       "      <td>9.998403</td>\n",
       "      <td>11.147842</td>\n",
       "      <td>11.048739</td>\n",
       "      <td>10.537921</td>\n",
       "      <td>9.970223</td>\n",
       "      <td>9.403644</td>\n",
       "      <td>11.152060</td>\n",
       "      <td>11.715285</td>\n",
       "      <td>9.925758</td>\n",
       "      <td>9.888880</td>\n",
       "    </tr>\n",
       "    <tr>\n",
       "      <th>std</th>\n",
       "      <td>3.318556e+18</td>\n",
       "      <td>0.482988</td>\n",
       "      <td>2.585729</td>\n",
       "      <td>2.658390</td>\n",
       "      <td>2.706215</td>\n",
       "      <td>2.715853</td>\n",
       "      <td>2.743161</td>\n",
       "      <td>2.373004</td>\n",
       "      <td>2.319367</td>\n",
       "      <td>2.369038</td>\n",
       "      <td>2.471026</td>\n",
       "      <td>2.567799</td>\n",
       "    </tr>\n",
       "    <tr>\n",
       "      <th>min</th>\n",
       "      <td>3.590434e+17</td>\n",
       "      <td>0.000000</td>\n",
       "      <td>1.384790</td>\n",
       "      <td>1.448360</td>\n",
       "      <td>1.264880</td>\n",
       "      <td>1.811270</td>\n",
       "      <td>0.000000</td>\n",
       "      <td>1.613180</td>\n",
       "      <td>3.050450</td>\n",
       "      <td>3.463510</td>\n",
       "      <td>2.010490</td>\n",
       "      <td>0.879270</td>\n",
       "    </tr>\n",
       "    <tr>\n",
       "      <th>25%</th>\n",
       "      <td>8.630331e+17</td>\n",
       "      <td>0.000000</td>\n",
       "      <td>8.125205</td>\n",
       "      <td>9.301445</td>\n",
       "      <td>9.164120</td>\n",
       "      <td>8.542860</td>\n",
       "      <td>8.055380</td>\n",
       "      <td>7.791280</td>\n",
       "      <td>9.418615</td>\n",
       "      <td>10.134980</td>\n",
       "      <td>8.105040</td>\n",
       "      <td>8.057740</td>\n",
       "    </tr>\n",
       "    <tr>\n",
       "      <th>50%</th>\n",
       "      <td>3.590434e+18</td>\n",
       "      <td>1.000000</td>\n",
       "      <td>9.828270</td>\n",
       "      <td>11.242980</td>\n",
       "      <td>11.103500</td>\n",
       "      <td>10.416000</td>\n",
       "      <td>9.866390</td>\n",
       "      <td>9.214470</td>\n",
       "      <td>11.333740</td>\n",
       "      <td>11.819940</td>\n",
       "      <td>9.855240</td>\n",
       "      <td>9.900880</td>\n",
       "    </tr>\n",
       "    <tr>\n",
       "      <th>75%</th>\n",
       "      <td>8.630331e+18</td>\n",
       "      <td>1.000000</td>\n",
       "      <td>11.813160</td>\n",
       "      <td>13.037845</td>\n",
       "      <td>12.976910</td>\n",
       "      <td>12.493050</td>\n",
       "      <td>11.883565</td>\n",
       "      <td>10.739590</td>\n",
       "      <td>12.890415</td>\n",
       "      <td>13.362925</td>\n",
       "      <td>11.820695</td>\n",
       "      <td>11.816795</td>\n",
       "    </tr>\n",
       "    <tr>\n",
       "      <th>max</th>\n",
       "      <td>8.630331e+18</td>\n",
       "      <td>1.000000</td>\n",
       "      <td>20.036020</td>\n",
       "      <td>21.522060</td>\n",
       "      <td>20.710650</td>\n",
       "      <td>20.883650</td>\n",
       "      <td>20.563610</td>\n",
       "      <td>20.220660</td>\n",
       "      <td>19.385580</td>\n",
       "      <td>20.060160</td>\n",
       "      <td>18.162090</td>\n",
       "      <td>17.996590</td>\n",
       "    </tr>\n",
       "  </tbody>\n",
       "</table>\n",
       "</div>"
      ]
     },
     "execution_count": 115,
     "metadata": {},
     "output_type": "execute_result"
    }
   ],
   "execution_count": 115
  },
  {
   "cell_type": "code",
   "id": "6014a7bb8eb22148",
   "metadata": {
    "ExecuteTime": {
     "end_time": "2024-11-03T22:05:23.165344Z",
     "start_time": "2024-11-03T22:05:23.133722Z"
    }
   },
   "source": [
    "def remove_outliers_from_dataframe(df):\n",
    "    def identify_outliers(a):\n",
    "        lower = a.quantile(0.25) - 1.5 * stats.iqr(a)\n",
    "        upper = a.quantile(0.75) + 1.5 * stats.iqr(a)\n",
    "        return (a > upper) | (a < lower)\n",
    "\n",
    "    for column in df.columns:\n",
    "        outlier_mask = identify_outliers(df[column])\n",
    "        lower_bound = df[column].quantile(0.05)\n",
    "        upper_bound = df[column].quantile(0.95)\n",
    "        df.loc[outlier_mask, column] = np.where(\n",
    "            df.loc[outlier_mask, column] < lower_bound,\n",
    "            lower_bound,\n",
    "            upper_bound\n",
    "        )\n",
    "    return df\n",
    "\n",
    "train_df.describe()"
   ],
   "outputs": [
    {
     "data": {
      "text/plain": [
       "               imei          mwra      c.katana    c.dogalize  \\\n",
       "count  1.233100e+04  12331.000000  12331.000000  12331.000000   \n",
       "mean   3.838281e+18      0.629389      9.998403     11.147842   \n",
       "std    3.318556e+18      0.482988      2.585729      2.658390   \n",
       "min    3.590434e+17      0.000000      1.384790      1.448360   \n",
       "25%    8.630331e+17      0.000000      8.125205      9.301445   \n",
       "50%    3.590434e+18      1.000000      9.828270     11.242980   \n",
       "75%    8.630331e+18      1.000000     11.813160     13.037845   \n",
       "max    8.630331e+18      1.000000     20.036020     21.522060   \n",
       "\n",
       "       c.android.chrome  c.android.gm  p.android.gm  p.android.documentsui  \\\n",
       "count      12331.000000  12331.000000  12331.000000           12331.000000   \n",
       "mean          11.048739     10.537921      9.970223               9.403644   \n",
       "std            2.706215      2.715853      2.743161               2.373004   \n",
       "min            1.264880      1.811270      0.000000               1.613180   \n",
       "25%            9.164120      8.542860      8.055380               7.791280   \n",
       "50%           11.103500     10.416000      9.866390               9.214470   \n",
       "75%           12.976910     12.493050     11.883565              10.739590   \n",
       "max           20.710650     20.883650     20.563610              20.220660   \n",
       "\n",
       "           p.system  p.android.externalstorage  p.android.settings  \\\n",
       "count  12331.000000               12331.000000        12331.000000   \n",
       "mean      11.152060                  11.715285            9.925758   \n",
       "std        2.319367                   2.369038            2.471026   \n",
       "min        3.050450                   3.463510            2.010490   \n",
       "25%        9.418615                  10.134980            8.105040   \n",
       "50%       11.333740                  11.819940            9.855240   \n",
       "75%       12.890415                  13.362925           11.820695   \n",
       "max       19.385580                  20.060160           18.162090   \n",
       "\n",
       "       p.android.chrome  \n",
       "count      12331.000000  \n",
       "mean           9.888880  \n",
       "std            2.567799  \n",
       "min            0.879270  \n",
       "25%            8.057740  \n",
       "50%            9.900880  \n",
       "75%           11.816795  \n",
       "max           17.996590  "
      ],
      "text/html": [
       "<div>\n",
       "<style scoped>\n",
       "    .dataframe tbody tr th:only-of-type {\n",
       "        vertical-align: middle;\n",
       "    }\n",
       "\n",
       "    .dataframe tbody tr th {\n",
       "        vertical-align: top;\n",
       "    }\n",
       "\n",
       "    .dataframe thead th {\n",
       "        text-align: right;\n",
       "    }\n",
       "</style>\n",
       "<table border=\"1\" class=\"dataframe\">\n",
       "  <thead>\n",
       "    <tr style=\"text-align: right;\">\n",
       "      <th></th>\n",
       "      <th>imei</th>\n",
       "      <th>mwra</th>\n",
       "      <th>c.katana</th>\n",
       "      <th>c.dogalize</th>\n",
       "      <th>c.android.chrome</th>\n",
       "      <th>c.android.gm</th>\n",
       "      <th>p.android.gm</th>\n",
       "      <th>p.android.documentsui</th>\n",
       "      <th>p.system</th>\n",
       "      <th>p.android.externalstorage</th>\n",
       "      <th>p.android.settings</th>\n",
       "      <th>p.android.chrome</th>\n",
       "    </tr>\n",
       "  </thead>\n",
       "  <tbody>\n",
       "    <tr>\n",
       "      <th>count</th>\n",
       "      <td>1.233100e+04</td>\n",
       "      <td>12331.000000</td>\n",
       "      <td>12331.000000</td>\n",
       "      <td>12331.000000</td>\n",
       "      <td>12331.000000</td>\n",
       "      <td>12331.000000</td>\n",
       "      <td>12331.000000</td>\n",
       "      <td>12331.000000</td>\n",
       "      <td>12331.000000</td>\n",
       "      <td>12331.000000</td>\n",
       "      <td>12331.000000</td>\n",
       "      <td>12331.000000</td>\n",
       "    </tr>\n",
       "    <tr>\n",
       "      <th>mean</th>\n",
       "      <td>3.838281e+18</td>\n",
       "      <td>0.629389</td>\n",
       "      <td>9.998403</td>\n",
       "      <td>11.147842</td>\n",
       "      <td>11.048739</td>\n",
       "      <td>10.537921</td>\n",
       "      <td>9.970223</td>\n",
       "      <td>9.403644</td>\n",
       "      <td>11.152060</td>\n",
       "      <td>11.715285</td>\n",
       "      <td>9.925758</td>\n",
       "      <td>9.888880</td>\n",
       "    </tr>\n",
       "    <tr>\n",
       "      <th>std</th>\n",
       "      <td>3.318556e+18</td>\n",
       "      <td>0.482988</td>\n",
       "      <td>2.585729</td>\n",
       "      <td>2.658390</td>\n",
       "      <td>2.706215</td>\n",
       "      <td>2.715853</td>\n",
       "      <td>2.743161</td>\n",
       "      <td>2.373004</td>\n",
       "      <td>2.319367</td>\n",
       "      <td>2.369038</td>\n",
       "      <td>2.471026</td>\n",
       "      <td>2.567799</td>\n",
       "    </tr>\n",
       "    <tr>\n",
       "      <th>min</th>\n",
       "      <td>3.590434e+17</td>\n",
       "      <td>0.000000</td>\n",
       "      <td>1.384790</td>\n",
       "      <td>1.448360</td>\n",
       "      <td>1.264880</td>\n",
       "      <td>1.811270</td>\n",
       "      <td>0.000000</td>\n",
       "      <td>1.613180</td>\n",
       "      <td>3.050450</td>\n",
       "      <td>3.463510</td>\n",
       "      <td>2.010490</td>\n",
       "      <td>0.879270</td>\n",
       "    </tr>\n",
       "    <tr>\n",
       "      <th>25%</th>\n",
       "      <td>8.630331e+17</td>\n",
       "      <td>0.000000</td>\n",
       "      <td>8.125205</td>\n",
       "      <td>9.301445</td>\n",
       "      <td>9.164120</td>\n",
       "      <td>8.542860</td>\n",
       "      <td>8.055380</td>\n",
       "      <td>7.791280</td>\n",
       "      <td>9.418615</td>\n",
       "      <td>10.134980</td>\n",
       "      <td>8.105040</td>\n",
       "      <td>8.057740</td>\n",
       "    </tr>\n",
       "    <tr>\n",
       "      <th>50%</th>\n",
       "      <td>3.590434e+18</td>\n",
       "      <td>1.000000</td>\n",
       "      <td>9.828270</td>\n",
       "      <td>11.242980</td>\n",
       "      <td>11.103500</td>\n",
       "      <td>10.416000</td>\n",
       "      <td>9.866390</td>\n",
       "      <td>9.214470</td>\n",
       "      <td>11.333740</td>\n",
       "      <td>11.819940</td>\n",
       "      <td>9.855240</td>\n",
       "      <td>9.900880</td>\n",
       "    </tr>\n",
       "    <tr>\n",
       "      <th>75%</th>\n",
       "      <td>8.630331e+18</td>\n",
       "      <td>1.000000</td>\n",
       "      <td>11.813160</td>\n",
       "      <td>13.037845</td>\n",
       "      <td>12.976910</td>\n",
       "      <td>12.493050</td>\n",
       "      <td>11.883565</td>\n",
       "      <td>10.739590</td>\n",
       "      <td>12.890415</td>\n",
       "      <td>13.362925</td>\n",
       "      <td>11.820695</td>\n",
       "      <td>11.816795</td>\n",
       "    </tr>\n",
       "    <tr>\n",
       "      <th>max</th>\n",
       "      <td>8.630331e+18</td>\n",
       "      <td>1.000000</td>\n",
       "      <td>20.036020</td>\n",
       "      <td>21.522060</td>\n",
       "      <td>20.710650</td>\n",
       "      <td>20.883650</td>\n",
       "      <td>20.563610</td>\n",
       "      <td>20.220660</td>\n",
       "      <td>19.385580</td>\n",
       "      <td>20.060160</td>\n",
       "      <td>18.162090</td>\n",
       "      <td>17.996590</td>\n",
       "    </tr>\n",
       "  </tbody>\n",
       "</table>\n",
       "</div>"
      ]
     },
     "execution_count": 116,
     "metadata": {},
     "output_type": "execute_result"
    }
   ],
   "execution_count": 116
  },
  {
   "cell_type": "markdown",
   "id": "4cbf1045d967d3c",
   "metadata": {},
   "source": [
    "#### aplikovali sme vymazanie odľahlích hodnôt na všetky stĺpce v trénovacej množine, pričom sme použili percentyl 5 a 95, z dôvodu zachovania normálnych hodnôt, no vyradzujeme extrémne hodnoty na oboch stranách"
   ]
  },
  {
   "cell_type": "code",
   "id": "3833b1489e6886df",
   "metadata": {
    "ExecuteTime": {
     "end_time": "2024-11-03T22:05:23.272446Z",
     "start_time": "2024-11-03T22:05:23.259422Z"
    }
   },
   "source": [
    "def handle_missing_values(the_df):\n",
    "    for column in the_df.columns:\n",
    "        if the_df[column].isnull().sum() > 0:\n",
    "            median_value = the_df[column].median()\n",
    "            the_df[column].fillna(median_value, inplace=True)\n",
    "            # df.dropna(inplace=True)\n",
    "    return the_df"
   ],
   "outputs": [],
   "execution_count": 117
  },
  {
   "cell_type": "markdown",
   "id": "3cd1d25efad191cf",
   "metadata": {},
   "source": [
    "#### vytvorili sme funkciu na nahradenie missing values pre každý riadok"
   ]
  },
  {
   "cell_type": "code",
   "id": "986f145a33aba3e0",
   "metadata": {
    "ExecuteTime": {
     "end_time": "2024-11-03T22:05:23.381576Z",
     "start_time": "2024-11-03T22:05:23.371535Z"
    }
   },
   "source": [
    "def normalize_data(the_df):    \n",
    "    scaler = StandardScaler()\n",
    "    numeric_columns = the_df.select_dtypes(include=['float64', 'int64']).columns\n",
    "    the_df[numeric_columns] = scaler.fit_transform(the_df[numeric_columns])\n",
    "    return the_df"
   ],
   "outputs": [],
   "execution_count": 118
  },
  {
   "cell_type": "markdown",
   "id": "9be08c76cef809a3",
   "metadata": {},
   "source": [
    "#### takisto pre normalizáciu dát"
   ]
  },
  {
   "cell_type": "code",
   "id": "564924b45663e969",
   "metadata": {
    "ExecuteTime": {
     "end_time": "2024-11-03T22:05:23.536790Z",
     "start_time": "2024-11-03T22:05:23.520783Z"
    }
   },
   "source": [
    "def remove_duplicates(the_df):\n",
    "    the_df = the_df.drop_duplicates()\n",
    "    return the_df"
   ],
   "outputs": [],
   "execution_count": 119
  },
  {
   "cell_type": "markdown",
   "id": "635233e25bb34eb9",
   "metadata": {},
   "source": [
    "#### a aj na odstránenie duplikátov, ktoré potom aplikujeme na trénovaciu množinu"
   ]
  },
  {
   "cell_type": "code",
   "id": "86f3a7645682911",
   "metadata": {
    "ExecuteTime": {
     "end_time": "2024-11-03T22:05:23.662660Z",
     "start_time": "2024-11-03T22:05:23.633676Z"
    }
   },
   "source": [
    "train_df    = handle_missing_values(train_df)\n",
    "train_df    = normalize_data(train_df)\n",
    "train_df    = remove_duplicates(train_df)\n",
    "\n",
    "analyze_dataframe(train_df)"
   ],
   "outputs": [
    {
     "name": "stdout",
     "output_type": "stream",
     "text": [
      "Shape: 11938 rows, 12 columns\n",
      "Duplicates: 0\n"
     ]
    },
    {
     "data": {
      "text/plain": [
       "                           Missing Values Data Type\n",
       "imei                                    0   float64\n",
       "mwra                                    0   float64\n",
       "c.katana                                0   float64\n",
       "c.dogalize                              0   float64\n",
       "c.android.chrome                        0   float64\n",
       "c.android.gm                            0   float64\n",
       "p.android.gm                            0   float64\n",
       "p.android.documentsui                   0   float64\n",
       "p.system                                0   float64\n",
       "p.android.externalstorage               0   float64\n",
       "p.android.settings                      0   float64\n",
       "p.android.chrome                        0   float64"
      ],
      "text/html": [
       "<div>\n",
       "<style scoped>\n",
       "    .dataframe tbody tr th:only-of-type {\n",
       "        vertical-align: middle;\n",
       "    }\n",
       "\n",
       "    .dataframe tbody tr th {\n",
       "        vertical-align: top;\n",
       "    }\n",
       "\n",
       "    .dataframe thead th {\n",
       "        text-align: right;\n",
       "    }\n",
       "</style>\n",
       "<table border=\"1\" class=\"dataframe\">\n",
       "  <thead>\n",
       "    <tr style=\"text-align: right;\">\n",
       "      <th></th>\n",
       "      <th>Missing Values</th>\n",
       "      <th>Data Type</th>\n",
       "    </tr>\n",
       "  </thead>\n",
       "  <tbody>\n",
       "    <tr>\n",
       "      <th>imei</th>\n",
       "      <td>0</td>\n",
       "      <td>float64</td>\n",
       "    </tr>\n",
       "    <tr>\n",
       "      <th>mwra</th>\n",
       "      <td>0</td>\n",
       "      <td>float64</td>\n",
       "    </tr>\n",
       "    <tr>\n",
       "      <th>c.katana</th>\n",
       "      <td>0</td>\n",
       "      <td>float64</td>\n",
       "    </tr>\n",
       "    <tr>\n",
       "      <th>c.dogalize</th>\n",
       "      <td>0</td>\n",
       "      <td>float64</td>\n",
       "    </tr>\n",
       "    <tr>\n",
       "      <th>c.android.chrome</th>\n",
       "      <td>0</td>\n",
       "      <td>float64</td>\n",
       "    </tr>\n",
       "    <tr>\n",
       "      <th>c.android.gm</th>\n",
       "      <td>0</td>\n",
       "      <td>float64</td>\n",
       "    </tr>\n",
       "    <tr>\n",
       "      <th>p.android.gm</th>\n",
       "      <td>0</td>\n",
       "      <td>float64</td>\n",
       "    </tr>\n",
       "    <tr>\n",
       "      <th>p.android.documentsui</th>\n",
       "      <td>0</td>\n",
       "      <td>float64</td>\n",
       "    </tr>\n",
       "    <tr>\n",
       "      <th>p.system</th>\n",
       "      <td>0</td>\n",
       "      <td>float64</td>\n",
       "    </tr>\n",
       "    <tr>\n",
       "      <th>p.android.externalstorage</th>\n",
       "      <td>0</td>\n",
       "      <td>float64</td>\n",
       "    </tr>\n",
       "    <tr>\n",
       "      <th>p.android.settings</th>\n",
       "      <td>0</td>\n",
       "      <td>float64</td>\n",
       "    </tr>\n",
       "    <tr>\n",
       "      <th>p.android.chrome</th>\n",
       "      <td>0</td>\n",
       "      <td>float64</td>\n",
       "    </tr>\n",
       "  </tbody>\n",
       "</table>\n",
       "</div>"
      ]
     },
     "metadata": {},
     "output_type": "display_data"
    }
   ],
   "execution_count": 120
  },
  {
   "cell_type": "markdown",
   "id": "34390f34-58df-40bb-8982-a4265aead981",
   "metadata": {},
   "source": [
    "### C - Transformácia dát"
   ]
  },
  {
   "cell_type": "markdown",
   "id": "533aeef4-f6c5-4b60-8a20-d9df37760998",
   "metadata": {},
   "source": [
    "#### Transformation"
   ]
  },
  {
   "cell_type": "markdown",
   "id": "2cd75d6e-dc3a-4de7-b80e-a341f30af181",
   "metadata": {},
   "source": [
    "##### Power Transformation"
   ]
  },
  {
   "cell_type": "code",
   "id": "f310f58f-8753-41d3-af79-5fcc4322cf6c",
   "metadata": {
    "ExecuteTime": {
     "end_time": "2024-11-03T22:05:23.708683Z",
     "start_time": "2024-11-03T22:05:23.678663Z"
    }
   },
   "source": [
    "from sklearn.preprocessing import PowerTransformer\n",
    "\n",
    "print(\"Original Data Description:\")\n",
    "print(train_df.describe())\n",
    "\n",
    "def power_transform(df):\n",
    "    power_transformer = PowerTransformer(method='yeo-johnson')  \n",
    "    train_df_power_transformed = power_transformer.fit_transform(df)\n",
    "    return train_df_power_transformed\n",
    "\n",
    "# Convert transformed data back to DataFrame\n",
    "train_df = pd.DataFrame(train_df, columns=train_df.columns)"
   ],
   "outputs": [
    {
     "name": "stdout",
     "output_type": "stream",
     "text": [
      "Original Data Description:\n",
      "               imei          mwra      c.katana    c.dogalize  \\\n",
      "count  11938.000000  11938.000000  11938.000000  11938.000000   \n",
      "mean       0.000525     -0.004102      0.001062      0.003372   \n",
      "std        1.000816      1.001132      0.998250      1.000722   \n",
      "min       -1.048462     -1.303169     -3.331347     -3.648779   \n",
      "25%       -0.896585     -1.303169     -0.722288     -0.694356   \n",
      "50%       -0.074688      0.767360     -0.064663      0.038876   \n",
      "75%        1.444075      0.767360      0.702402      0.714100   \n",
      "max        1.444075      0.767360      3.882086      3.902603   \n",
      "\n",
      "       c.android.chrome  c.android.gm  p.android.gm  p.android.documentsui  \\\n",
      "count      11938.000000  11938.000000  11938.000000           11938.000000   \n",
      "mean          -0.002340      0.003796      0.003811               0.001673   \n",
      "std            1.003534      0.999315      0.999314               0.997291   \n",
      "min           -3.615476     -3.213357     -3.634722              -3.283088   \n",
      "25%           -0.703448     -0.732463     -0.693727              -0.675413   \n",
      "50%            0.018089     -0.037158     -0.035082              -0.073205   \n",
      "75%            0.715256      0.724577      0.697661               0.566222   \n",
      "max            3.570411      3.809540      3.861901               4.558549   \n",
      "\n",
      "           p.system  p.android.externalstorage  p.android.settings  \\\n",
      "count  11938.000000               11938.000000        11938.000000   \n",
      "mean       0.004540                  -0.001308           -0.003117   \n",
      "std        0.999651                   1.002585            0.998153   \n",
      "min       -3.493168                  -3.483316           -3.203362   \n",
      "25%       -0.740430                  -0.673467           -0.736873   \n",
      "50%        0.086443                   0.042523           -0.032030   \n",
      "75%        0.752722                   0.694883            0.760709   \n",
      "max        3.550043                   3.522617            3.333298   \n",
      "\n",
      "       p.android.chrome  \n",
      "count      11938.000000  \n",
      "mean           0.003769  \n",
      "std            1.002724  \n",
      "min           -3.508832  \n",
      "25%           -0.716282  \n",
      "50%            0.008305  \n",
      "75%            0.756684  \n",
      "max            3.157583  \n"
     ]
    }
   ],
   "execution_count": 121
  },
  {
   "cell_type": "code",
   "id": "e7311923-c91a-42b2-9ad4-ee3889955f9a",
   "metadata": {
    "ExecuteTime": {
     "end_time": "2024-11-03T22:05:23.832585Z",
     "start_time": "2024-11-03T22:05:23.804475Z"
    }
   },
   "source": [
    "print(\"Transformed Data Description:\")\n",
    "print(train_df.describe())"
   ],
   "outputs": [
    {
     "name": "stdout",
     "output_type": "stream",
     "text": [
      "Transformed Data Description:\n",
      "               imei          mwra      c.katana    c.dogalize  \\\n",
      "count  11938.000000  11938.000000  11938.000000  11938.000000   \n",
      "mean       0.000525     -0.004102      0.001062      0.003372   \n",
      "std        1.000816      1.001132      0.998250      1.000722   \n",
      "min       -1.048462     -1.303169     -3.331347     -3.648779   \n",
      "25%       -0.896585     -1.303169     -0.722288     -0.694356   \n",
      "50%       -0.074688      0.767360     -0.064663      0.038876   \n",
      "75%        1.444075      0.767360      0.702402      0.714100   \n",
      "max        1.444075      0.767360      3.882086      3.902603   \n",
      "\n",
      "       c.android.chrome  c.android.gm  p.android.gm  p.android.documentsui  \\\n",
      "count      11938.000000  11938.000000  11938.000000           11938.000000   \n",
      "mean          -0.002340      0.003796      0.003811               0.001673   \n",
      "std            1.003534      0.999315      0.999314               0.997291   \n",
      "min           -3.615476     -3.213357     -3.634722              -3.283088   \n",
      "25%           -0.703448     -0.732463     -0.693727              -0.675413   \n",
      "50%            0.018089     -0.037158     -0.035082              -0.073205   \n",
      "75%            0.715256      0.724577      0.697661               0.566222   \n",
      "max            3.570411      3.809540      3.861901               4.558549   \n",
      "\n",
      "           p.system  p.android.externalstorage  p.android.settings  \\\n",
      "count  11938.000000               11938.000000        11938.000000   \n",
      "mean       0.004540                  -0.001308           -0.003117   \n",
      "std        0.999651                   1.002585            0.998153   \n",
      "min       -3.493168                  -3.483316           -3.203362   \n",
      "25%       -0.740430                  -0.673467           -0.736873   \n",
      "50%        0.086443                   0.042523           -0.032030   \n",
      "75%        0.752722                   0.694883            0.760709   \n",
      "max        3.550043                   3.522617            3.333298   \n",
      "\n",
      "       p.android.chrome  \n",
      "count      11938.000000  \n",
      "mean           0.003769  \n",
      "std            1.002724  \n",
      "min           -3.508832  \n",
      "25%           -0.716282  \n",
      "50%            0.008305  \n",
      "75%            0.756684  \n",
      "max            3.157583  \n"
     ]
    }
   ],
   "execution_count": 122
  },
  {
   "cell_type": "code",
   "id": "9467f228-9551-45bb-8463-e3c8e75ec5db",
   "metadata": {
    "ExecuteTime": {
     "end_time": "2024-11-03T22:05:24.979812Z",
     "start_time": "2024-11-03T22:05:23.870605Z"
    }
   },
   "source": "train_df.hist(column=train_df.columns[1:],figsize=(12,8))",
   "outputs": [
    {
     "data": {
      "text/plain": [
       "array([[<Axes: title={'center': 'mwra'}>,\n",
       "        <Axes: title={'center': 'c.katana'}>,\n",
       "        <Axes: title={'center': 'c.dogalize'}>],\n",
       "       [<Axes: title={'center': 'c.android.chrome'}>,\n",
       "        <Axes: title={'center': 'c.android.gm'}>,\n",
       "        <Axes: title={'center': 'p.android.gm'}>],\n",
       "       [<Axes: title={'center': 'p.android.documentsui'}>,\n",
       "        <Axes: title={'center': 'p.system'}>,\n",
       "        <Axes: title={'center': 'p.android.externalstorage'}>],\n",
       "       [<Axes: title={'center': 'p.android.settings'}>,\n",
       "        <Axes: title={'center': 'p.android.chrome'}>, <Axes: >]],\n",
       "      dtype=object)"
      ]
     },
     "execution_count": 123,
     "metadata": {},
     "output_type": "execute_result"
    },
    {
     "data": {
      "text/plain": [
       "<Figure size 1200x800 with 12 Axes>"
      ],
      "image/png": "[encoded data removed]"
     },
     "metadata": {},
     "output_type": "display_data"
    }
   ],
   "execution_count": 123
  },
  {
   "cell_type": "markdown",
   "id": "548e201a-6764-476d-8543-677e62b61579",
   "metadata": {},
   "source": [
    "##### Quantile Transformation"
   ]
  },
  {
   "cell_type": "code",
   "id": "6bdbaa32-e467-4194-bf29-910cc3350320",
   "metadata": {
    "ExecuteTime": {
     "end_time": "2024-11-03T22:05:25.011493Z",
     "start_time": "2024-11-03T22:05:24.980784Z"
    }
   },
   "source": [
    "from sklearn.preprocessing import QuantileTransformer\n",
    "\n",
    "print(\"Original Data Description:\")\n",
    "print(train_df.describe())\n",
    "\n",
    "def quantile_transform(df):\n",
    "    quantile_transformer = QuantileTransformer(output_distribution='normal')  \n",
    "    train_df_quantile_transformed = quantile_transformer.fit_transform(df)\n",
    "    return train_df_quantile_transformed\n",
    "\n",
    "train_df = pd.DataFrame(train_df, columns=train_df.columns)"
   ],
   "outputs": [
    {
     "name": "stdout",
     "output_type": "stream",
     "text": [
      "Original Data Description:\n",
      "               imei          mwra      c.katana    c.dogalize  \\\n",
      "count  11938.000000  11938.000000  11938.000000  11938.000000   \n",
      "mean       0.000525     -0.004102      0.001062      0.003372   \n",
      "std        1.000816      1.001132      0.998250      1.000722   \n",
      "min       -1.048462     -1.303169     -3.331347     -3.648779   \n",
      "25%       -0.896585     -1.303169     -0.722288     -0.694356   \n",
      "50%       -0.074688      0.767360     -0.064663      0.038876   \n",
      "75%        1.444075      0.767360      0.702402      0.714100   \n",
      "max        1.444075      0.767360      3.882086      3.902603   \n",
      "\n",
      "       c.android.chrome  c.android.gm  p.android.gm  p.android.documentsui  \\\n",
      "count      11938.000000  11938.000000  11938.000000           11938.000000   \n",
      "mean          -0.002340      0.003796      0.003811               0.001673   \n",
      "std            1.003534      0.999315      0.999314               0.997291   \n",
      "min           -3.615476     -3.213357     -3.634722              -3.283088   \n",
      "25%           -0.703448     -0.732463     -0.693727              -0.675413   \n",
      "50%            0.018089     -0.037158     -0.035082              -0.073205   \n",
      "75%            0.715256      0.724577      0.697661               0.566222   \n",
      "max            3.570411      3.809540      3.861901               4.558549   \n",
      "\n",
      "           p.system  p.android.externalstorage  p.android.settings  \\\n",
      "count  11938.000000               11938.000000        11938.000000   \n",
      "mean       0.004540                  -0.001308           -0.003117   \n",
      "std        0.999651                   1.002585            0.998153   \n",
      "min       -3.493168                  -3.483316           -3.203362   \n",
      "25%       -0.740430                  -0.673467           -0.736873   \n",
      "50%        0.086443                   0.042523           -0.032030   \n",
      "75%        0.752722                   0.694883            0.760709   \n",
      "max        3.550043                   3.522617            3.333298   \n",
      "\n",
      "       p.android.chrome  \n",
      "count      11938.000000  \n",
      "mean           0.003769  \n",
      "std            1.002724  \n",
      "min           -3.508832  \n",
      "25%           -0.716282  \n",
      "50%            0.008305  \n",
      "75%            0.756684  \n",
      "max            3.157583  \n"
     ]
    }
   ],
   "execution_count": 124
  },
  {
   "cell_type": "code",
   "id": "8a1aaca6-6994-40d3-ada3-013dd9ce8326",
   "metadata": {
    "ExecuteTime": {
     "end_time": "2024-11-03T22:05:25.042950Z",
     "start_time": "2024-11-03T22:05:25.013493Z"
    }
   },
   "source": [
    "print(\"Transformed Data Description:\")\n",
    "print(train_df.describe())"
   ],
   "outputs": [
    {
     "name": "stdout",
     "output_type": "stream",
     "text": [
      "Transformed Data Description:\n",
      "               imei          mwra      c.katana    c.dogalize  \\\n",
      "count  11938.000000  11938.000000  11938.000000  11938.000000   \n",
      "mean       0.000525     -0.004102      0.001062      0.003372   \n",
      "std        1.000816      1.001132      0.998250      1.000722   \n",
      "min       -1.048462     -1.303169     -3.331347     -3.648779   \n",
      "25%       -0.896585     -1.303169     -0.722288     -0.694356   \n",
      "50%       -0.074688      0.767360     -0.064663      0.038876   \n",
      "75%        1.444075      0.767360      0.702402      0.714100   \n",
      "max        1.444075      0.767360      3.882086      3.902603   \n",
      "\n",
      "       c.android.chrome  c.android.gm  p.android.gm  p.android.documentsui  \\\n",
      "count      11938.000000  11938.000000  11938.000000           11938.000000   \n",
      "mean          -0.002340      0.003796      0.003811               0.001673   \n",
      "std            1.003534      0.999315      0.999314               0.997291   \n",
      "min           -3.615476     -3.213357     -3.634722              -3.283088   \n",
      "25%           -0.703448     -0.732463     -0.693727              -0.675413   \n",
      "50%            0.018089     -0.037158     -0.035082              -0.073205   \n",
      "75%            0.715256      0.724577      0.697661               0.566222   \n",
      "max            3.570411      3.809540      3.861901               4.558549   \n",
      "\n",
      "           p.system  p.android.externalstorage  p.android.settings  \\\n",
      "count  11938.000000               11938.000000        11938.000000   \n",
      "mean       0.004540                  -0.001308           -0.003117   \n",
      "std        0.999651                   1.002585            0.998153   \n",
      "min       -3.493168                  -3.483316           -3.203362   \n",
      "25%       -0.740430                  -0.673467           -0.736873   \n",
      "50%        0.086443                   0.042523           -0.032030   \n",
      "75%        0.752722                   0.694883            0.760709   \n",
      "max        3.550043                   3.522617            3.333298   \n",
      "\n",
      "       p.android.chrome  \n",
      "count      11938.000000  \n",
      "mean           0.003769  \n",
      "std            1.002724  \n",
      "min           -3.508832  \n",
      "25%           -0.716282  \n",
      "50%            0.008305  \n",
      "75%            0.756684  \n",
      "max            3.157583  \n"
     ]
    }
   ],
   "execution_count": 125
  },
  {
   "cell_type": "code",
   "id": "7371343f-bb63-49e6-995f-50fc684ad5e9",
   "metadata": {
    "ExecuteTime": {
     "end_time": "2024-11-03T22:05:26.072620Z",
     "start_time": "2024-11-03T22:05:25.044853Z"
    }
   },
   "source": "train_df.hist(column=train_df.columns[1:],figsize=(12,8))",
   "outputs": [
    {
     "data": {
      "text/plain": [
       "array([[<Axes: title={'center': 'mwra'}>,\n",
       "        <Axes: title={'center': 'c.katana'}>,\n",
       "        <Axes: title={'center': 'c.dogalize'}>],\n",
       "       [<Axes: title={'center': 'c.android.chrome'}>,\n",
       "        <Axes: title={'center': 'c.android.gm'}>,\n",
       "        <Axes: title={'center': 'p.android.gm'}>],\n",
       "       [<Axes: title={'center': 'p.android.documentsui'}>,\n",
       "        <Axes: title={'center': 'p.system'}>,\n",
       "        <Axes: title={'center': 'p.android.externalstorage'}>],\n",
       "       [<Axes: title={'center': 'p.android.settings'}>,\n",
       "        <Axes: title={'center': 'p.android.chrome'}>, <Axes: >]],\n",
       "      dtype=object)"
      ]
     },
     "execution_count": 126,
     "metadata": {},
     "output_type": "execute_result"
    },
    {
     "data": {
      "text/plain": [
       "<Figure size 1200x800 with 12 Axes>"
      ],
      "image/png": "[encoded data removed]"
     },
     "metadata": {},
     "output_type": "display_data"
    }
   ],
   "execution_count": 126
  },
  {
   "cell_type": "markdown",
   "id": "5fb8497e-eee4-42c1-a3a5-302dd4624e22",
   "metadata": {},
   "source": [
    "#### Scaling"
   ]
  },
  {
   "cell_type": "markdown",
   "id": "43aea099-776d-4e5b-bed5-d75178a603df",
   "metadata": {},
   "source": [
    "##### Standard Scaling"
   ]
  },
  {
   "cell_type": "code",
   "id": "4be1e74d-7c7f-49a8-8274-92f9ac03b980",
   "metadata": {
    "ExecuteTime": {
     "end_time": "2024-11-03T22:05:26.104637Z",
     "start_time": "2024-11-03T22:05:26.073594Z"
    }
   },
   "source": [
    "print(train_df.describe())\n",
    "def standard_scale(df):\n",
    "    scaler_standard = StandardScaler()\n",
    "    train_df_standard_scaled = scaler_standard.fit_transform(df)\n",
    "    \n",
    "    # Shift the data to make all values non-negative\n",
    "    train_df_standard_scaled_shifted = train_df_standard_scaled - np.min(train_df_standard_scaled)\n",
    "    return train_df_standard_scaled_shifted"
   ],
   "outputs": [
    {
     "name": "stdout",
     "output_type": "stream",
     "text": [
      "               imei          mwra      c.katana    c.dogalize  \\\n",
      "count  11938.000000  11938.000000  11938.000000  11938.000000   \n",
      "mean       0.000525     -0.004102      0.001062      0.003372   \n",
      "std        1.000816      1.001132      0.998250      1.000722   \n",
      "min       -1.048462     -1.303169     -3.331347     -3.648779   \n",
      "25%       -0.896585     -1.303169     -0.722288     -0.694356   \n",
      "50%       -0.074688      0.767360     -0.064663      0.038876   \n",
      "75%        1.444075      0.767360      0.702402      0.714100   \n",
      "max        1.444075      0.767360      3.882086      3.902603   \n",
      "\n",
      "       c.android.chrome  c.android.gm  p.android.gm  p.android.documentsui  \\\n",
      "count      11938.000000  11938.000000  11938.000000           11938.000000   \n",
      "mean          -0.002340      0.003796      0.003811               0.001673   \n",
      "std            1.003534      0.999315      0.999314               0.997291   \n",
      "min           -3.615476     -3.213357     -3.634722              -3.283088   \n",
      "25%           -0.703448     -0.732463     -0.693727              -0.675413   \n",
      "50%            0.018089     -0.037158     -0.035082              -0.073205   \n",
      "75%            0.715256      0.724577      0.697661               0.566222   \n",
      "max            3.570411      3.809540      3.861901               4.558549   \n",
      "\n",
      "           p.system  p.android.externalstorage  p.android.settings  \\\n",
      "count  11938.000000               11938.000000        11938.000000   \n",
      "mean       0.004540                  -0.001308           -0.003117   \n",
      "std        0.999651                   1.002585            0.998153   \n",
      "min       -3.493168                  -3.483316           -3.203362   \n",
      "25%       -0.740430                  -0.673467           -0.736873   \n",
      "50%        0.086443                   0.042523           -0.032030   \n",
      "75%        0.752722                   0.694883            0.760709   \n",
      "max        3.550043                   3.522617            3.333298   \n",
      "\n",
      "       p.android.chrome  \n",
      "count      11938.000000  \n",
      "mean           0.003769  \n",
      "std            1.002724  \n",
      "min           -3.508832  \n",
      "25%           -0.716282  \n",
      "50%            0.008305  \n",
      "75%            0.756684  \n",
      "max            3.157583  \n"
     ]
    }
   ],
   "execution_count": 127
  },
  {
   "cell_type": "code",
   "id": "66a17af6-f6d1-4cd9-86e3-bd4fadfade9e",
   "metadata": {
    "ExecuteTime": {
     "end_time": "2024-11-03T22:05:26.135193Z",
     "start_time": "2024-11-03T22:05:26.105651Z"
    }
   },
   "source": [
    "train_df = pd.DataFrame(standard_scale(train_df), columns=train_df.columns)\n",
    "\n",
    "\n",
    "print(\"\\nStardard Scaled\")\n",
    "print(train_df.describe())"
   ],
   "outputs": [
    {
     "name": "stdout",
     "output_type": "stream",
     "text": [
      "\n",
      "Stardard Scaled\n",
      "               imei          mwra      c.katana    c.dogalize  \\\n",
      "count  11938.000000  11938.000000  11938.000000  11938.000000   \n",
      "mean       3.649669      3.649669      3.649669      3.649669   \n",
      "std        1.000042      1.000042      1.000042      1.000042   \n",
      "min        2.601494      2.352016      0.311278      0.000000   \n",
      "25%        2.753252      2.352016      2.925021      2.952415   \n",
      "50%        3.574514      4.420291      3.583827      3.685149   \n",
      "75%        5.092102      4.420291      4.352268      4.359914   \n",
      "max        5.092102      4.420291      7.537660      7.546250   \n",
      "\n",
      "       c.android.chrome  c.android.gm  p.android.gm  p.android.documentsui  \\\n",
      "count      11938.000000  11938.000000  11938.000000           11938.000000   \n",
      "mean           3.649669      3.649669      3.649669               3.649669   \n",
      "std            1.000042      1.000042      1.000042               1.000042   \n",
      "min            0.049105      0.430176      0.008486               0.355848   \n",
      "25%            2.951001      2.912875      2.951623               2.970716   \n",
      "50%            3.670027      3.608686      3.610748               3.574585   \n",
      "75%            4.364768      4.370975      4.344025               4.215776   \n",
      "max            7.209989      7.458182      7.510571               8.219115   \n",
      "\n",
      "           p.system  p.android.externalstorage  p.android.settings  \\\n",
      "count  11938.000000               11938.000000        11938.000000   \n",
      "mean       3.649669                   3.649669            3.649669   \n",
      "std        1.000042                   1.000042            1.000042   \n",
      "min        0.150593                   0.176493            0.443369   \n",
      "25%        2.904408                   2.979215            2.914525   \n",
      "50%        3.731605                   3.693389            3.620702   \n",
      "75%        4.398144                   4.344094            4.414940   \n",
      "max        7.196560                   7.164655            6.992398   \n",
      "\n",
      "       p.android.chrome  \n",
      "count      11938.000000  \n",
      "mean           3.649669  \n",
      "std            1.000042  \n",
      "min            0.146463  \n",
      "25%            2.931544  \n",
      "50%            3.654194  \n",
      "75%            4.400571  \n",
      "max            6.795049  \n"
     ]
    }
   ],
   "execution_count": 128
  },
  {
   "cell_type": "code",
   "id": "997f5074-e357-4078-9075-7f9602e8e08e",
   "metadata": {
    "ExecuteTime": {
     "end_time": "2024-11-03T22:05:27.101507Z",
     "start_time": "2024-11-03T22:05:26.136140Z"
    }
   },
   "source": "train_df.hist(column=train_df.columns[1:],figsize=(12,8))",
   "outputs": [
    {
     "data": {
      "text/plain": [
       "array([[<Axes: title={'center': 'mwra'}>,\n",
       "        <Axes: title={'center': 'c.katana'}>,\n",
       "        <Axes: title={'center': 'c.dogalize'}>],\n",
       "       [<Axes: title={'center': 'c.android.chrome'}>,\n",
       "        <Axes: title={'center': 'c.android.gm'}>,\n",
       "        <Axes: title={'center': 'p.android.gm'}>],\n",
       "       [<Axes: title={'center': 'p.android.documentsui'}>,\n",
       "        <Axes: title={'center': 'p.system'}>,\n",
       "        <Axes: title={'center': 'p.android.externalstorage'}>],\n",
       "       [<Axes: title={'center': 'p.android.settings'}>,\n",
       "        <Axes: title={'center': 'p.android.chrome'}>, <Axes: >]],\n",
       "      dtype=object)"
      ]
     },
     "execution_count": 129,
     "metadata": {},
     "output_type": "execute_result"
    },
    {
     "data": {
      "text/plain": [
       "<Figure size 1200x800 with 12 Axes>"
      ],
      "image/png": "[encoded data removed]"
     },
     "metadata": {},
     "output_type": "display_data"
    }
   ],
   "execution_count": 129
  },
  {
   "cell_type": "markdown",
   "id": "6b7e357e-48a4-4fbd-869e-efa3bc8a12ed",
   "metadata": {},
   "source": [
    "##### Min-Max Scaling"
   ]
  },
  {
   "cell_type": "code",
   "id": "c77bbaf5-da75-42a9-9989-2593bff24dea",
   "metadata": {
    "ExecuteTime": {
     "end_time": "2024-11-03T22:05:27.132708Z",
     "start_time": "2024-11-03T22:05:27.102486Z"
    }
   },
   "source": [
    "from sklearn.preprocessing import MinMaxScaler\n",
    "print(train_df.describe())\n",
    "\n",
    "def min_max_scale(df):\n",
    "    scaler_minmax = MinMaxScaler(feature_range=(0,5))\n",
    "    train_df_minmax = scaler_minmax.fit_transform(df)\n",
    "    return train_df_minmax "
   ],
   "outputs": [
    {
     "name": "stdout",
     "output_type": "stream",
     "text": [
      "               imei          mwra      c.katana    c.dogalize  \\\n",
      "count  11938.000000  11938.000000  11938.000000  11938.000000   \n",
      "mean       3.649669      3.649669      3.649669      3.649669   \n",
      "std        1.000042      1.000042      1.000042      1.000042   \n",
      "min        2.601494      2.352016      0.311278      0.000000   \n",
      "25%        2.753252      2.352016      2.925021      2.952415   \n",
      "50%        3.574514      4.420291      3.583827      3.685149   \n",
      "75%        5.092102      4.420291      4.352268      4.359914   \n",
      "max        5.092102      4.420291      7.537660      7.546250   \n",
      "\n",
      "       c.android.chrome  c.android.gm  p.android.gm  p.android.documentsui  \\\n",
      "count      11938.000000  11938.000000  11938.000000           11938.000000   \n",
      "mean           3.649669      3.649669      3.649669               3.649669   \n",
      "std            1.000042      1.000042      1.000042               1.000042   \n",
      "min            0.049105      0.430176      0.008486               0.355848   \n",
      "25%            2.951001      2.912875      2.951623               2.970716   \n",
      "50%            3.670027      3.608686      3.610748               3.574585   \n",
      "75%            4.364768      4.370975      4.344025               4.215776   \n",
      "max            7.209989      7.458182      7.510571               8.219115   \n",
      "\n",
      "           p.system  p.android.externalstorage  p.android.settings  \\\n",
      "count  11938.000000               11938.000000        11938.000000   \n",
      "mean       3.649669                   3.649669            3.649669   \n",
      "std        1.000042                   1.000042            1.000042   \n",
      "min        0.150593                   0.176493            0.443369   \n",
      "25%        2.904408                   2.979215            2.914525   \n",
      "50%        3.731605                   3.693389            3.620702   \n",
      "75%        4.398144                   4.344094            4.414940   \n",
      "max        7.196560                   7.164655            6.992398   \n",
      "\n",
      "       p.android.chrome  \n",
      "count      11938.000000  \n",
      "mean           3.649669  \n",
      "std            1.000042  \n",
      "min            0.146463  \n",
      "25%            2.931544  \n",
      "50%            3.654194  \n",
      "75%            4.400571  \n",
      "max            6.795049  \n"
     ]
    }
   ],
   "execution_count": 130
  },
  {
   "cell_type": "code",
   "id": "6ec59b5f-ff58-49e6-95ed-87f75716f9d9",
   "metadata": {
    "ExecuteTime": {
     "end_time": "2024-11-03T22:05:27.164327Z",
     "start_time": "2024-11-03T22:05:27.133677Z"
    }
   },
   "source": [
    "train_df = pd.DataFrame(min_max_scale(train_df), columns=train_df.columns)\n",
    "\n",
    "print(\"\\nMin-Max Scaled\")\n",
    "print(train_df.describe())"
   ],
   "outputs": [
    {
     "name": "stdout",
     "output_type": "stream",
     "text": [
      "\n",
      "Min-Max Scaled\n",
      "               imei          mwra      c.katana    c.dogalize  \\\n",
      "count  11938.000000  11938.000000  11938.000000  11938.000000   \n",
      "mean       2.104256      3.137041      2.309863      2.418201   \n",
      "std        2.007626      2.417575      0.691938      0.662609   \n",
      "min        0.000000      0.000000      0.000000      0.000000   \n",
      "25%        0.304662      0.000000      1.808473      1.956213   \n",
      "50%        1.953378      5.000000      2.264306      2.441709   \n",
      "75%        5.000000      5.000000      2.795998      2.888795   \n",
      "max        5.000000      5.000000      5.000000      5.000000   \n",
      "\n",
      "       c.android.chrome  c.android.gm  p.android.gm  p.android.documentsui  \\\n",
      "count      11938.000000  11938.000000  11938.000000           11938.000000   \n",
      "mean           2.514050      2.290474      2.426781               2.094436   \n",
      "std            0.698267      0.711469      0.666509               0.635895   \n",
      "min            0.000000      0.000000      0.000000               0.000000   \n",
      "25%            2.026213      1.766290      1.961546               1.662711   \n",
      "50%            2.528265      2.261317      2.400841               2.046692   \n",
      "75%            3.013359      2.803639      2.889556               2.454405   \n",
      "max            5.000000      5.000000      5.000000               5.000000   \n",
      "\n",
      "           p.system  p.android.externalstorage  p.android.settings  \\\n",
      "count  11938.000000               11938.000000        11938.000000   \n",
      "mean       2.483035                   2.485043            2.447920   \n",
      "std        0.709656                   0.715526            0.763504   \n",
      "min        0.000000                   0.000000            0.000000   \n",
      "25%        1.954178                   2.005335            1.886658   \n",
      "50%        2.541178                   2.516324            2.425805   \n",
      "75%        3.014172                   2.981901            3.032183   \n",
      "max        5.000000                   5.000000            5.000000   \n",
      "\n",
      "       p.android.chrome  \n",
      "count      11938.000000  \n",
      "mean           2.634550  \n",
      "std            0.752071  \n",
      "min            0.000000  \n",
      "25%            2.094491  \n",
      "50%            2.637952  \n",
      "75%            3.199258  \n",
      "max            5.000000  \n"
     ]
    }
   ],
   "execution_count": 131
  },
  {
   "cell_type": "code",
   "id": "37a322dc-243f-45c2-9622-a90f6f8421f3",
   "metadata": {
    "ExecuteTime": {
     "end_time": "2024-11-03T22:05:28.311608Z",
     "start_time": "2024-11-03T22:05:27.166333Z"
    }
   },
   "source": "train_df.hist(column=train_df.columns.drop([\"imei\", \"mwra\"]), figsize=(12, 8))",
   "outputs": [
    {
     "data": {
      "text/plain": [
       "array([[<Axes: title={'center': 'c.katana'}>,\n",
       "        <Axes: title={'center': 'c.dogalize'}>,\n",
       "        <Axes: title={'center': 'c.android.chrome'}>],\n",
       "       [<Axes: title={'center': 'c.android.gm'}>,\n",
       "        <Axes: title={'center': 'p.android.gm'}>,\n",
       "        <Axes: title={'center': 'p.android.documentsui'}>],\n",
       "       [<Axes: title={'center': 'p.system'}>,\n",
       "        <Axes: title={'center': 'p.android.externalstorage'}>,\n",
       "        <Axes: title={'center': 'p.android.settings'}>],\n",
       "       [<Axes: title={'center': 'p.android.chrome'}>, <Axes: >, <Axes: >]],\n",
       "      dtype=object)"
      ]
     },
     "execution_count": 132,
     "metadata": {},
     "output_type": "execute_result"
    },
    {
     "data": {
      "text/plain": [
       "<Figure size 1200x800 with 12 Axes>"
      ],
      "image/png": "[encoded data removed]"
     },
     "metadata": {},
     "output_type": "display_data"
    }
   ],
   "execution_count": 132
  },
  {
   "cell_type": "markdown",
   "id": "ad3e295fd9cf9de0",
   "metadata": {},
   "source": [
    "## 2.2 Výber atribútov pre strojové učenie"
   ]
  },
  {
   "cell_type": "markdown",
   "id": "d9663924a4f693dd",
   "metadata": {},
   "source": [
    "### A/C - Zisťujeme, ktoré atribúty sú pre ML informatívne k predikovanej premennej + zdôvodnenie"
   ]
  },
  {
   "cell_type": "markdown",
   "id": "589aa16f58c67a10",
   "metadata": {},
   "source": [
    "#### RFE - je iteratívna metóda výberu atribútov, ktorá postupne odstraňuje najmenej dôležité atribúty na základe ich prínosu (ich vplyv na model) pre model. Vybrali sme ju, pretože umožňuje identifikovať atribúty, ktoré majú najsilnejší vplyv na predikciu"
   ]
  },
  {
   "cell_type": "code",
   "id": "4577e1b93bc9e086",
   "metadata": {
    "ExecuteTime": {
     "end_time": "2024-11-03T22:05:55.983682Z",
     "start_time": "2024-11-03T22:05:28.312591Z"
    }
   },
   "source": [
    "def get_top_rfe(X, y):\n",
    "\n",
    "    estimator = SVR(kernel=\"linear\")\n",
    "    selector = RFE(estimator, n_features_to_select=4, step=1)\n",
    "    selector.fit(X, y)\n",
    "\n",
    "    features = X.columns[selector.support_].tolist()\n",
    "    return features\n",
    "\n",
    "X = train_df.drop(columns=['mwra'])\n",
    "y = train_df['mwra']\n",
    "\n",
    "features1 = get_top_rfe(X, y)\n",
    "print(features1)"
   ],
   "outputs": [
    {
     "name": "stdout",
     "output_type": "stream",
     "text": [
      "['c.katana', 'c.android.chrome', 'c.android.gm', 'p.android.gm']\n"
     ]
    }
   ],
   "execution_count": 133
  },
  {
   "cell_type": "markdown",
   "id": "a5d97795241c44cc",
   "metadata": {},
   "source": []
  },
  {
   "cell_type": "markdown",
   "id": "4e5b675c0a717b79",
   "metadata": {},
   "source": [
    "#### Korelačná analýza - základná metóda, pomocou ktorej sme identifikovali lineárne vzťahy medzi atribútmi a mwra. Potrebná na zistenie, ktoré atribúty sú silno lineárne prepojené s mwra. Vybrali sme si ju kôli jednoduchosti a vhodnosti pre náš model."
   ]
  },
  {
   "cell_type": "code",
   "id": "965fe9eec43d1f71",
   "metadata": {
    "ExecuteTime": {
     "end_time": "2024-11-03T22:05:55.999700Z",
     "start_time": "2024-11-03T22:05:55.985693Z"
    }
   },
   "source": [
    "def get_top_correlations(the_df):\n",
    "    numerical_columns = the_df.select_dtypes(include=[np.number])\n",
    "    correlation_matrix = numerical_columns.corr()\n",
    "    \n",
    "    target_correlations = correlation_matrix[\"mwra\"].drop(\"mwra\")\n",
    "    features = target_correlations.abs().sort_values(ascending=False).head(4)\n",
    "    \n",
    "    return features.index.tolist()\n",
    "\n",
    "features2 = get_top_correlations(train_df)\n",
    "print(features2)"
   ],
   "outputs": [
    {
     "name": "stdout",
     "output_type": "stream",
     "text": [
      "['c.katana', 'c.android.chrome', 'p.android.gm', 'p.android.documentsui']\n"
     ]
    }
   ],
   "execution_count": 134
  },
  {
   "cell_type": "markdown",
   "id": "f55b0df97631027f",
   "metadata": {},
   "source": [
    "#### Mutual info - použitá na meranie množstva informácií, ktoré jeden atribút poskytuje o mrwa. Použili sme ju aj preto, pretože zachytáva aj nelineárne vzťahy medzi premennými, čiže veľmi jedinečné informácie, ktoré niesú lineárne závislé"
   ]
  },
  {
   "cell_type": "code",
   "id": "372a793b39781221",
   "metadata": {
    "ExecuteTime": {
     "end_time": "2024-11-03T22:05:56.967623Z",
     "start_time": "2024-11-03T22:05:56.000665Z"
    }
   },
   "source": [
    "def get_top_mutual_info(X, y):\n",
    "    selector = mutual_info_regression(X, y)\n",
    "    scores = pd.Series(selector, index=X.columns)\n",
    "    top_features = scores.nlargest(4)\n",
    "    return top_features.index.tolist()\n",
    "\n",
    "X = train_df.drop('mwra', axis=1)\n",
    "y = train_df['mwra']\n",
    "\n",
    "features3 = get_top_mutual_info(X, y)\n",
    "print(features3)\n"
   ],
   "outputs": [
    {
     "name": "stdout",
     "output_type": "stream",
     "text": [
      "['c.katana', 'c.android.chrome', 'p.android.gm', 'p.android.documentsui']\n"
     ]
    }
   ],
   "execution_count": 135
  },
  {
   "metadata": {
    "ExecuteTime": {
     "end_time": "2024-11-03T22:05:56.983656Z",
     "start_time": "2024-11-03T22:05:56.968590Z"
    }
   },
   "cell_type": "code",
   "source": [
    "from sklearn.ensemble import RandomForestRegressor\n",
    "\n",
    "def get_top_feature_importance(X, y):\n",
    "    model = RandomForestRegressor(n_estimators=100, random_state=42)\n",
    "    model.fit(X, y)\n",
    "    importances = model.feature_importances_\n",
    "    return pd.Series(importances, index=X.columns).nlargest(4).index.tolist()"
   ],
   "id": "de3c73b0d15d9a34",
   "outputs": [],
   "execution_count": 136
  },
  {
   "cell_type": "markdown",
   "id": "bb1f374275bc1240",
   "metadata": {},
   "source": [
    "### B/C - zoradenie atribútov + zdôvodnenie"
   ]
  },
  {
   "cell_type": "markdown",
   "id": "607cf0abbd107db7",
   "metadata": {},
   "source": [
    "#### Na základe analýzy sme identifikovali najrelevantnejšie atribúty ovplyvňujúce mwra:\n",
    "1. c.katana\n",
    "2. c.android.chrome\n",
    "3. p.android.gm\n",
    "#### usporiadali sme tieto atribúty v takomto poradí a to na základe výsledkov z predošlích testov, keďže RFE podľa modelu SVR s lineárnym jadromnajlepšie predpovedá tieto atribúty:\n",
    "['c.katana', 'c.android.chrome', 'c.android.gm', 'p.android.gm']\n",
    "#### podobne predpovedala aj korelačná závislosť, no rozdiel bol len v jednom atribúte,\n",
    "['c.katana', 'c.android.chrome', 'p.android.gm', 'p.system']\n",
    "#### pri mutual information, ktorá sa zameriava na to, koľko informáacií poskytuje každý atribút o mrwa, zistili sme, že najvplyvňejšie atribúty sú:\n",
    "['c.katana', 'c.android.chrome', 'p.android.gm', 'p.android.settings']"
   ]
  },
  {
   "metadata": {},
   "cell_type": "markdown",
   "source": "## 2.3 Replikovateľnosť predspracovania",
   "id": "560ee1c9682179e2"
  },
  {
   "metadata": {},
   "cell_type": "markdown",
   "source": "### A/B",
   "id": "dfb43aadb4091430"
  },
  {
   "metadata": {},
   "cell_type": "markdown",
   "source": "#### všetky úpravy dát sú robené vo funkciách, ktoré sú aplikovateľné aj pre ďalšie použitie",
   "id": "1d9995b45fdab2e1"
  },
  {
   "metadata": {
    "ExecuteTime": {
     "end_time": "2024-11-03T22:05:57.245907Z",
     "start_time": "2024-11-03T22:05:56.985655Z"
    }
   },
   "cell_type": "code",
   "source": [
    "test_df = test_df.drop(['ts'], axis=1)\n",
    "\n",
    "test_df = remove_outliers_from_dataframe(test_df)\n",
    "\n",
    "test_df = handle_missing_values(test_df)\n",
    "\n",
    "test_df = normalize_data(test_df)\n",
    "\n",
    "test_df = remove_duplicates(test_df)\n",
    "\n",
    "test_df_power_transformed = power_transform(test_df)\n",
    "\n",
    "test_df_quantile_transformed = quantile_transform(test_df)\n",
    "\n",
    "print(train_df.dtypes)\n",
    "\n",
    "test_df.to_csv(\"test_data.csv\")\n"
   ],
   "id": "5488683806fca372",
   "outputs": [
    {
     "name": "stdout",
     "output_type": "stream",
     "text": [
      "imei                         float64\n",
      "mwra                         float64\n",
      "c.katana                     float64\n",
      "c.dogalize                   float64\n",
      "c.android.chrome             float64\n",
      "c.android.gm                 float64\n",
      "p.android.gm                 float64\n",
      "p.android.documentsui        float64\n",
      "p.system                     float64\n",
      "p.android.externalstorage    float64\n",
      "p.android.settings           float64\n",
      "p.android.chrome             float64\n",
      "dtype: object\n"
     ]
    }
   ],
   "execution_count": 137
  },
  {
   "metadata": {},
   "cell_type": "markdown",
   "source": "### 50/50",
   "id": "a1bb3e225bbdc307"
  }
 ],
 "metadata": {
  "kernelspec": {
   "display_name": "Python 3 (ipykernel)",
   "language": "python",
   "name": "python3"
  },
  "language_info": {
   "codemirror_mode": {
    "name": "ipython",
    "version": 3
   },
   "file_extension": ".py",
   "mimetype": "text/x-python",
   "name": "python",
   "nbconvert_exporter": "python",
   "pygments_lexer": "ipython3",
   "version": "3.12.6"
  }
 },
 "nbformat": 4,
 "nbformat_minor": 5
}
